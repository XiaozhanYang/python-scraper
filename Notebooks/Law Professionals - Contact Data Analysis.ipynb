{
 "cells": [
  {
   "cell_type": "code",
   "execution_count": 1,
   "metadata": {},
   "outputs": [],
   "source": [
    "import sqlite3\n",
    "import pandas as pd"
   ]
  },
  {
   "cell_type": "code",
   "execution_count": 2,
   "metadata": {},
   "outputs": [],
   "source": [
    "con = sqlite3.connect('law_professionals_db_backup.sqlite')"
   ]
  },
  {
   "cell_type": "code",
   "execution_count": 4,
   "metadata": {},
   "outputs": [],
   "source": [
    "sql_query = \" SELECT * FROM chinese_speaking_law_professionals_table\""
   ]
  },
  {
   "cell_type": "code",
   "execution_count": 8,
   "metadata": {},
   "outputs": [],
   "source": [
    "df_chinese = pd.read_sql(sql_query, con)"
   ]
  },
  {
   "cell_type": "code",
   "execution_count": 9,
   "metadata": {
    "scrolled": true
   },
   "outputs": [
    {
     "name": "stdout",
     "output_type": "stream",
     "text": [
      "<class 'pandas.core.frame.DataFrame'>\n",
      "RangeIndex: 1965 entries, 0 to 1964\n",
      "Data columns (total 15 columns):\n",
      "index                            1965 non-null int64\n",
      "contact_address                  63 non-null object\n",
      "contact_dx_code                  322 non-null object\n",
      "contact_email                    845 non-null object\n",
      "contact_name                     1965 non-null object\n",
      "contact_organisation             63 non-null object\n",
      "contact_tel                      1235 non-null object\n",
      "date_admitted                    1909 non-null object\n",
      "entry_index                      1965 non-null int64\n",
      "is_speaking_chinese              1965 non-null int64\n",
      "languages_spoken                 1965 non-null object\n",
      "profession                       1960 non-null object\n",
      "profession_related               1965 non-null object\n",
      "roles_at_contact_organisation    1253 non-null object\n",
      "sra_id                           1965 non-null object\n",
      "dtypes: int64(3), object(12)\n",
      "memory usage: 230.4+ KB\n"
     ]
    }
   ],
   "source": [
    "df_chinese.info()"
   ]
  },
  {
   "cell_type": "code",
   "execution_count": 14,
   "metadata": {},
   "outputs": [
    {
     "data": {
      "text/plain": [
       "1956"
      ]
     },
     "execution_count": 14,
     "metadata": {},
     "output_type": "execute_result"
    }
   ],
   "source": [
    "df_chinese.contact_name.nunique()"
   ]
  },
  {
   "cell_type": "code",
   "execution_count": 57,
   "metadata": {},
   "outputs": [],
   "source": [
    "df_unique_email = df_chinese.drop_duplicates('contact_email').dropna(subset=['contact_email'])"
   ]
  },
  {
   "cell_type": "code",
   "execution_count": 69,
   "metadata": {},
   "outputs": [],
   "source": [
    "df_unique_email.date_admitted = df_unique_email.date_admitted.str.split(':', expand=True).iloc[:,1]"
   ]
  },
  {
   "cell_type": "code",
   "execution_count": 81,
   "metadata": {},
   "outputs": [
    {
     "data": {
      "text/plain": [
       "['index',\n",
       " 'contact_address',\n",
       " 'contact_dx_code',\n",
       " 'contact_email',\n",
       " 'contact_name',\n",
       " 'contact_organisation',\n",
       " 'contact_tel',\n",
       " 'date_admitted',\n",
       " 'entry_index',\n",
       " 'is_speaking_chinese',\n",
       " 'languages_spoken',\n",
       " 'profession',\n",
       " 'profession_related',\n",
       " 'roles_at_contact_organisation',\n",
       " 'sra_id']"
      ]
     },
     "execution_count": 81,
     "metadata": {},
     "output_type": "execute_result"
    }
   ],
   "source": [
    "cols = df_unique_email.columns.tolist()\n",
    "cols"
   ]
  },
  {
   "cell_type": "code",
   "execution_count": 87,
   "metadata": {},
   "outputs": [],
   "source": [
    "sorted_cols = [\n",
    "     'contact_name',\n",
    "     'contact_email',\n",
    "     'languages_spoken',\n",
    "     'entry_index',\n",
    "     'contact_address',\n",
    "     'contact_dx_code',\n",
    "     'contact_organisation',\n",
    "     'contact_tel',\n",
    "     'date_admitted',\n",
    "     'is_speaking_chinese',\n",
    "     'profession',\n",
    "     'profession_related',\n",
    "     'roles_at_contact_organisation',\n",
    "     'sra_id']"
   ]
  },
  {
   "cell_type": "code",
   "execution_count": 85,
   "metadata": {},
   "outputs": [
    {
     "data": {
      "text/plain": [
       "'languages_spoken'"
      ]
     },
     "execution_count": 85,
     "metadata": {},
     "output_type": "execute_result"
    }
   ],
   "source": [
    "sorted_cols[2]"
   ]
  },
  {
   "cell_type": "code",
   "execution_count": 90,
   "metadata": {},
   "outputs": [
    {
     "name": "stdout",
     "output_type": "stream",
     "text": [
      "<class 'pandas.core.frame.DataFrame'>\n",
      "Int64Index: 534 entries, 1 to 1962\n",
      "Data columns (total 14 columns):\n",
      "contact_name                     534 non-null object\n",
      "contact_email                    534 non-null object\n",
      "languages_spoken                 534 non-null object\n",
      "entry_index                      534 non-null int64\n",
      "contact_address                  29 non-null object\n",
      "contact_dx_code                  174 non-null object\n",
      "contact_organisation             29 non-null object\n",
      "contact_tel                      527 non-null object\n",
      "date_admitted                    528 non-null object\n",
      "is_speaking_chinese              534 non-null int64\n",
      "profession                       531 non-null object\n",
      "profession_related               534 non-null object\n",
      "roles_at_contact_organisation    524 non-null object\n",
      "sra_id                           534 non-null object\n",
      "dtypes: int64(2), object(12)\n",
      "memory usage: 82.6+ KB\n"
     ]
    }
   ],
   "source": [
    "df_unique_email[sorted_cols].info()"
   ]
  },
  {
   "cell_type": "code",
   "execution_count": 89,
   "metadata": {},
   "outputs": [],
   "source": [
    "df_unique_email[sorted_cols].to_csv('chinese_speaking_law_professionals_list.csv')"
   ]
  },
  {
   "cell_type": "code",
   "execution_count": 45,
   "metadata": {},
   "outputs": [
    {
     "data": {
      "text/plain": [
       "919"
      ]
     },
     "execution_count": 45,
     "metadata": {},
     "output_type": "execute_result"
    }
   ],
   "source": [
    "ch_log = df_chinese.languages_spoken.str.contains('Chinese')\n",
    "n_ch = ch_log.sum()\n",
    "n_ch"
   ]
  },
  {
   "cell_type": "code",
   "execution_count": 46,
   "metadata": {},
   "outputs": [
    {
     "data": {
      "text/plain": [
       "1023"
      ]
     },
     "execution_count": 46,
     "metadata": {},
     "output_type": "execute_result"
    }
   ],
   "source": [
    "ca_log = df_chinese.languages_spoken.str.contains('Cantonese')\n",
    "n_ca = ca_log.sum()\n",
    "n_ca"
   ]
  },
  {
   "cell_type": "code",
   "execution_count": 47,
   "metadata": {},
   "outputs": [
    {
     "data": {
      "text/plain": [
       "985"
      ]
     },
     "execution_count": 47,
     "metadata": {},
     "output_type": "execute_result"
    }
   ],
   "source": [
    "ma_log = df_chinese.languages_spoken.str.contains('Mandarin')\n",
    "n_ma = ma_log.sum()\n",
    "n_ma"
   ]
  },
  {
   "cell_type": "code",
   "execution_count": 52,
   "metadata": {},
   "outputs": [
    {
     "data": {
      "text/plain": [
       "303"
      ]
     },
     "execution_count": 52,
     "metadata": {},
     "output_type": "execute_result"
    }
   ],
   "source": [
    "n_ch_ma = df_chinese[(ch_log) & (ma_log)]['contact_name'].count()\n",
    "n_ch_ma"
   ]
  },
  {
   "cell_type": "code",
   "execution_count": 51,
   "metadata": {},
   "outputs": [
    {
     "data": {
      "text/plain": [
       "337"
      ]
     },
     "execution_count": 51,
     "metadata": {},
     "output_type": "execute_result"
    }
   ],
   "source": [
    "n_ch_ca = df_chinese[(ch_log) & (ca_log)]['contact_name'].count()\n",
    "n_ch_ca"
   ]
  },
  {
   "cell_type": "code",
   "execution_count": 53,
   "metadata": {},
   "outputs": [
    {
     "data": {
      "text/plain": [
       "494"
      ]
     },
     "execution_count": 53,
     "metadata": {},
     "output_type": "execute_result"
    }
   ],
   "source": [
    "n_ma_ca = df_chinese[(ma_log) & (ca_log)]['contact_name'].count()\n",
    "n_ma_ca"
   ]
  },
  {
   "cell_type": "code",
   "execution_count": 54,
   "metadata": {},
   "outputs": [
    {
     "data": {
      "text/plain": [
       "172"
      ]
     },
     "execution_count": 54,
     "metadata": {},
     "output_type": "execute_result"
    }
   ],
   "source": [
    "n_ma_ca_ch = df_chinese[(ch_log) & (ma_log) & (ca_log)]['contact_name'].count()\n",
    "n_ma_ca_ch"
   ]
  },
  {
   "cell_type": "code",
   "execution_count": 55,
   "metadata": {},
   "outputs": [],
   "source": [
    "df_valid_email = df_chinese.dropna(subset=['contact_email'])"
   ]
  },
  {
   "cell_type": "code",
   "execution_count": 56,
   "metadata": {},
   "outputs": [
    {
     "name": "stdout",
     "output_type": "stream",
     "text": [
      "<class 'pandas.core.frame.DataFrame'>\n",
      "Int64Index: 845 entries, 1 to 1962\n",
      "Data columns (total 15 columns):\n",
      "index                            845 non-null int64\n",
      "contact_address                  46 non-null object\n",
      "contact_dx_code                  259 non-null object\n",
      "contact_email                    845 non-null object\n",
      "contact_name                     845 non-null object\n",
      "contact_organisation             46 non-null object\n",
      "contact_tel                      836 non-null object\n",
      "date_admitted                    816 non-null object\n",
      "entry_index                      845 non-null int64\n",
      "is_speaking_chinese              845 non-null int64\n",
      "languages_spoken                 845 non-null object\n",
      "profession                       842 non-null object\n",
      "profession_related               845 non-null object\n",
      "roles_at_contact_organisation    833 non-null object\n",
      "sra_id                           845 non-null object\n",
      "dtypes: int64(3), object(12)\n",
      "memory usage: 105.6+ KB\n"
     ]
    }
   ],
   "source": [
    "df_valid_email.info()"
   ]
  },
  {
   "cell_type": "code",
   "execution_count": 34,
   "metadata": {},
   "outputs": [],
   "source": [
    "import matplotlib.pyplot as plt\n",
    "from matplotlib_venn import venn2"
   ]
  },
  {
   "cell_type": "code",
   "execution_count": 26,
   "metadata": {},
   "outputs": [
    {
     "data": {
      "text/plain": [
       "contact_email\n",
       "Adam.smith@tateandlyle.com       1\n",
       "Andrew.Darwin@dlapiper.com      18\n",
       "Andy.nichol@freeths.co.uk        1\n",
       "Arabella.Ramage@xlgroup.com      1\n",
       "Boaz.Chan@incisivelaw.com        1\n",
       "                                ..\n",
       "yee@rcapital.co.uk               1\n",
       "yinan.zhu@dealglobe.com          1\n",
       "yogen.joshi@sedgwicklaw.com      1\n",
       "yuyw@chevron.com                 2\n",
       "zachary.tan@hoganlovells.com     2\n",
       "Name: contact_name, Length: 534, dtype: int64"
      ]
     },
     "execution_count": 26,
     "metadata": {},
     "output_type": "execute_result"
    }
   ],
   "source": [
    "df_chinese.groupby(['contact_email'])['contact_name'].count()"
   ]
  },
  {
   "cell_type": "markdown",
   "metadata": {},
   "source": [
    "# Manipulate the main table with all lawyers"
   ]
  },
  {
   "cell_type": "code",
   "execution_count": 4,
   "metadata": {},
   "outputs": [],
   "source": [
    "sql_query = \" SELECT * FROM law_professionals_table\""
   ]
  },
  {
   "cell_type": "code",
   "execution_count": 5,
   "metadata": {},
   "outputs": [],
   "source": [
    "df_all = pd.read_sql(sql_query, con)"
   ]
  },
  {
   "cell_type": "code",
   "execution_count": 7,
   "metadata": {},
   "outputs": [
    {
     "name": "stdout",
     "output_type": "stream",
     "text": [
      "<class 'pandas.core.frame.DataFrame'>\n",
      "RangeIndex: 184586 entries, 0 to 184585\n",
      "Data columns (total 15 columns):\n",
      "index                            184586 non-null int64\n",
      "contact_address                  6916 non-null object\n",
      "contact_dx_code                  68859 non-null object\n",
      "contact_email                    99494 non-null object\n",
      "contact_name                     184586 non-null object\n",
      "contact_organisation             6916 non-null object\n",
      "contact_tel                      134167 non-null object\n",
      "date_admitted                    173686 non-null object\n",
      "entry_index                      184586 non-null int64\n",
      "is_speaking_chinese              184586 non-null int64\n",
      "languages_spoken                 184586 non-null object\n",
      "profession                       177230 non-null object\n",
      "profession_related               183609 non-null object\n",
      "roles_at_contact_organisation    134118 non-null object\n",
      "sra_id                           183609 non-null object\n",
      "dtypes: int64(3), object(12)\n",
      "memory usage: 21.1+ MB\n"
     ]
    }
   ],
   "source": [
    "df_all.info()"
   ]
  },
  {
   "cell_type": "code",
   "execution_count": 8,
   "metadata": {},
   "outputs": [],
   "source": [
    "df_all.date_admitted = df_all.date_admitted.str.split(':', expand=True).iloc[:,1]"
   ]
  },
  {
   "cell_type": "code",
   "execution_count": 9,
   "metadata": {},
   "outputs": [],
   "source": [
    "sorted_cols = [\n",
    "     'contact_name',\n",
    "     'contact_email',\n",
    "     'languages_spoken',\n",
    "     'entry_index',\n",
    "     'contact_address',\n",
    "     'contact_dx_code',\n",
    "     'contact_organisation',\n",
    "     'contact_tel',\n",
    "     'date_admitted',\n",
    "     'is_speaking_chinese',\n",
    "     'profession',\n",
    "     'profession_related',\n",
    "     'roles_at_contact_organisation',\n",
    "     'sra_id']"
   ]
  },
  {
   "cell_type": "code",
   "execution_count": 10,
   "metadata": {},
   "outputs": [
    {
     "name": "stdout",
     "output_type": "stream",
     "text": [
      "<class 'pandas.core.frame.DataFrame'>\n",
      "RangeIndex: 184586 entries, 0 to 184585\n",
      "Data columns (total 14 columns):\n",
      "contact_name                     184586 non-null object\n",
      "contact_email                    99494 non-null object\n",
      "languages_spoken                 184586 non-null object\n",
      "entry_index                      184586 non-null int64\n",
      "contact_address                  6916 non-null object\n",
      "contact_dx_code                  68859 non-null object\n",
      "contact_organisation             6916 non-null object\n",
      "contact_tel                      134167 non-null object\n",
      "date_admitted                    173686 non-null object\n",
      "is_speaking_chinese              184586 non-null int64\n",
      "profession                       177230 non-null object\n",
      "profession_related               183609 non-null object\n",
      "roles_at_contact_organisation    134118 non-null object\n",
      "sra_id                           183609 non-null object\n",
      "dtypes: int64(2), object(12)\n",
      "memory usage: 19.7+ MB\n"
     ]
    }
   ],
   "source": [
    "df_all[sorted_cols].info()"
   ]
  },
  {
   "cell_type": "code",
   "execution_count": 11,
   "metadata": {},
   "outputs": [],
   "source": [
    "df_all[sorted_cols].to_csv('law_professionals_list.csv')"
   ]
  },
  {
   "cell_type": "code",
   "execution_count": null,
   "metadata": {},
   "outputs": [],
   "source": []
  }
 ],
 "metadata": {
  "kernelspec": {
   "display_name": "Python 3",
   "language": "python",
   "name": "python3"
  },
  "language_info": {
   "codemirror_mode": {
    "name": "ipython",
    "version": 3
   },
   "file_extension": ".py",
   "mimetype": "text/x-python",
   "name": "python",
   "nbconvert_exporter": "python",
   "pygments_lexer": "ipython3",
   "version": "3.7.4"
  }
 },
 "nbformat": 4,
 "nbformat_minor": 2
}
