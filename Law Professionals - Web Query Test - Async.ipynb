{
 "cells": [
  {
   "cell_type": "code",
   "execution_count": 125,
   "metadata": {},
   "outputs": [],
   "source": [
    "import requests\n",
    "import pandas as pd\n",
    "import asyncio\n",
    "import time\n",
    "from typing import Any, Iterable, List, Tuple, Callable\n",
    "import aiohttp\n",
    "from bs4 import BeautifulSoup"
   ]
  },
  {
   "cell_type": "code",
   "execution_count": 69,
   "metadata": {},
   "outputs": [],
   "source": [
    "page = requests.get(\"https://solicitors.lawsociety.org.uk/person/130606\")"
   ]
  },
  {
   "cell_type": "code",
   "execution_count": 172,
   "metadata": {},
   "outputs": [
    {
     "data": {
      "text/plain": [
       "200"
      ]
     },
     "execution_count": 172,
     "metadata": {},
     "output_type": "execute_result"
    }
   ],
   "source": [
    "page.status_code"
   ]
  },
  {
   "cell_type": "code",
   "execution_count": 43,
   "metadata": {},
   "outputs": [],
   "source": [
    "base_url = \"https://solicitors.lawsociety.org.uk/person/\""
   ]
  },
  {
   "cell_type": "code",
   "execution_count": 3,
   "metadata": {
    "collapsed": true
   },
   "outputs": [
    {
     "name": "stdout",
     "output_type": "stream",
     "text": [
      ">>>>>>>>>>>>>>>>>>>>>>>>>>>>>>>>>>>>>>>>>>>>>>>>>><<<<<<<<<<<<<<<<<<<<<<<<<<<<<<<<<<<<<<<<<<<<<<<<<<- 50\n",
      ">>>>>>>>>>>>>>>>>>>>>>>>>>>>>>>>>>>>>>>>>>>>>>>>>><<<<<<<<<<<<<<<<<<<<<<<<<<<<<<<<<<<<<<<<<<<<<<<<<<- 100\n",
      ">>>>>>>>>>>>>>>>>>>>>>>>>>>>>>>>>>>>>>>>>>>>>>>>>><<<<<<<<<<<<<<<<<<<<<<<<<<<<<<<<<<<<<<<<<<<<<<<<<<- 150\n",
      ">>>>>>>>>>>>>>>>>>>>>>>>>>>>>>>>>>>>>>>>>>>>>>>>>><<<<<<<<<<<<<<<<<<<<<<<<<<<<<<<<<<<<<<<<<<<<<<<<<<- 200\n",
      ">>>>>>>>>>>>>>>>>>>>>>>>>>>>>>>>>>>>>>>>>>>>>>>>>><<<<<<<<<<<<<<<<<<<<<<<<<<<<<<<<<<<<<<<<<<<<<<<<<<- 250\n",
      ">>>>>>>>>>>>>>>>>>>>>>>>>>>>>>>>>>>>>>>>>>>>>>>>>><<<<<<<<<<<<<<<<<<<<<<<<<<<<<<<<<<<<<<<<<<<<<<<<<<- 300\n",
      ">>>>>>>>>>>>>>>>>>>>>>>>>>>>>>>>>>>>>>>>>>>>>>>>>><<<<<<<<<<<<<<<<<<<<<<<<<<<<<<<<<<<<<<<<<<<<<<<<<<- 350\n",
      ">>>>>>>>>>>>>>>>>>>>>>>>>>>>>>>>>>>>>>>>>>>>>>>>>><<<<<<<<<<<<<<<<<<<<<<<<<<<<<<<<<<<<<<<<<<<<<<<<<<- 400\n"
     ]
    },
    {
     "name": "stderr",
     "output_type": "stream",
     "text": [
      "Unclosed connection\n",
      "client_connection: Connection<ConnectionKey(host='solicitors.lawsociety.org.uk', port=443, is_ssl=True, ssl=None, proxy=None, proxy_auth=None, proxy_headers_hash=None)>\n",
      "Unclosed connection\n",
      "client_connection: Connection<ConnectionKey(host='solicitors.lawsociety.org.uk', port=443, is_ssl=True, ssl=None, proxy=None, proxy_auth=None, proxy_headers_hash=None)>\n",
      "Unclosed connection\n",
      "client_connection: Connection<ConnectionKey(host='solicitors.lawsociety.org.uk', port=443, is_ssl=True, ssl=None, proxy=None, proxy_auth=None, proxy_headers_hash=None)>\n",
      "Unclosed connection\n",
      "client_connection: Connection<ConnectionKey(host='solicitors.lawsociety.org.uk', port=443, is_ssl=True, ssl=None, proxy=None, proxy_auth=None, proxy_headers_hash=None)>\n",
      "Unclosed connection\n",
      "client_connection: Connection<ConnectionKey(host='solicitors.lawsociety.org.uk', port=443, is_ssl=True, ssl=None, proxy=None, proxy_auth=None, proxy_headers_hash=None)>\n",
      "Unclosed connection\n",
      "client_connection: Connection<ConnectionKey(host='solicitors.lawsociety.org.uk', port=443, is_ssl=True, ssl=None, proxy=None, proxy_auth=None, proxy_headers_hash=None)>\n",
      "Unclosed connection\n",
      "client_connection: Connection<ConnectionKey(host='solicitors.lawsociety.org.uk', port=443, is_ssl=True, ssl=None, proxy=None, proxy_auth=None, proxy_headers_hash=None)>\n",
      "Unclosed connection\n",
      "client_connection: Connection<ConnectionKey(host='solicitors.lawsociety.org.uk', port=443, is_ssl=True, ssl=None, proxy=None, proxy_auth=None, proxy_headers_hash=None)>\n"
     ]
    },
    {
     "name": "stdout",
     "output_type": "stream",
     "text": [
      ">>>>>>>>>>>>>>>>>>>>>>>>>>>>>>>>>>>>>>>>>>>>>>>>>><<<<<<<<<<<<<<<<<<<<<<<<<<<<<<<<<<<<<<<<<<<<<<<<<<- 450\n",
      ">>>>>>>>>>>>>>>>>>>>>>>>>>>>>>>>>>>>>>>>>>>>>>>>>><<<<<<<<<<<<<<<<<<<<<<<<<<<<<<<<<<<<<<<<<<<<<<<<<<- 500\n",
      ">>>>>>>>>>>>>>>>>>>>>>>>>>>>>>>>>>>>>>>>>>>>>>>>>><<<<<<<<<<<<<<<<<<<<<<<<<<<<<<<<<<<<<<<<<<<<<<<<<<- 550\n",
      ">>>>>>>>>>>>>>>>>>>>>>>>>>>>>>>>>>>>>>>>>>>>>>>>>><<<<<<<<<<<<<<<<<<<<<<<<<<<<<<<<<<<<<<<<<<<<<<<<<<- 600\n",
      ">>>>>>>>>>>>>>>>>>>>>>>>>>>>>>>>>>>>>>>>>>>>>>>>>><<<<<<<<<<<<<<<<<<<<<<<<<<<<<<<<<<<<<<<<<<<<<<<<<<- 650\n",
      ">>>>>>>>>>>>>>>>>>>>>>>>>>>>>>>>>>>>>>>>>>>>>>>>>><<<<<<<<<<<<<<<<<<<<<<<<<<<<<<<<<<<<<<<<<<<<<<<<<<- 700\n",
      ">>>>>>>>>>>>>>>>>>>>>>>>>>>>>>>>>>>>>>>>>>>>>>>>>><<<<<<<<<<<<<<<<<<<<<<<<<<<<<<<<<<<<<<<<<<<<<<<<<<- 750\n",
      ">>>>>>>>>>>>>>>>>>>>>>>>>>>>>>>>>>>>>>>>>>>>>>>>>><<<<<<<<<<<<<<<<<<<<<<<<<<<<<<<<<<<<<<<<<<<<<<<<<<- 800\n",
      ">>>>>>>>>>>>>>>>>>>>>>>>>>>>>>>>>>>>>>>>>>>>>>>>>><<<<<<<<<<<<<<<<<<<<<<<<<<<<<<<<<<<<<<<<<<<<<<<<<<- 850\n",
      ">>>>>>>>>>>>>>>>>>>>>>>>>>>>>>>>>>>>>>>>>>>>>>>>>><<<<<<<<<<<<<<<<<<<<<<<<<<<<<<<<<<<<<<<<<<<<<<<<<<- 900\n",
      ">>>>>>>>>>>>>>>>>>>>>>>>>>>>>>>>>>>>>>>>>>>>>>>>>><<<<<<<<<<<<<<<<<<<<<<<<<<<<<<<<<<<<<<<<<<<<<<<<<<- 950\n",
      ">>>>>>>>>>>>>>>>>>>>>>>>>>>>>>>>>>>>>>>>>>>>>>>>>><<<<<<<<<<<<<<<<<<<<<<<<<<<<<<<<<<<<<<<<<<<<<<<<<<- 1000\n"
     ]
    }
   ],
   "source": [
    "# first version\n",
    "\n",
    "df = pd.DataFrame()\n",
    "for thousand in range(1):\n",
    "    \n",
    "    for i in range(thousand*20, (thousand+1)*20):\n",
    "\n",
    "        async def donwload_aio(base_url, url_indices):\n",
    "            async def download(base_url, index):\n",
    "                print(\">\", end='')\n",
    "                async with aiohttp.ClientSession() as s:\n",
    "                    resp = await s.get(base_url+str(index))\n",
    "                    #data = resp, await resp.text()\n",
    "                print(\"<\", end='')\n",
    "                return resp\n",
    "\n",
    "            return await asyncio.gather(*[download(base_url, index) for index in url_indices])\n",
    "\n",
    "        result_list = await donwload_aio(base_url, list(range(i*50, (i+1)*50)))\n",
    "\n",
    "        data = [result.status for result in result_list]\n",
    "        df_new = pd.DataFrame(data, columns=['status'])\n",
    "        df = df.append(df_new)\n",
    "        print('- '+str((i+1)*50))\n",
    "        time.sleep(1.5)"
   ]
  },
  {
   "cell_type": "code",
   "execution_count": 74,
   "metadata": {},
   "outputs": [],
   "source": [
    "async def fetch(session, url):\n",
    "    async with session.get(url) as response:\n",
    "        return response.status, await response.text()\n",
    "\n",
    "async def main(url):\n",
    "    async with aiohttp.ClientSession() as session:\n",
    "        return await fetch(session, url)\n",
    "        #print(status, html)"
   ]
  },
  {
   "cell_type": "code",
   "execution_count": 75,
   "metadata": {
    "collapsed": true
   },
   "outputs": [
    {
     "data": {
      "text/plain": [
       "(200,\n",
       " '<!DOCTYPE html>\\r\\n<html lang=\"en-GB\">\\r\\n<head>\\r\\n    <meta charset=\"utf-8\" />\\r\\n    <meta http-equiv=\"X-UA-Compatible\" content=\"IE=edge,chrome=1\">\\r\\n    <title>John Michael Andrews - The Law Society</title>\\r\\n    <meta name=\"description\">\\r\\n    <meta name=\"viewport\" content=\"width=device-width,initial-scale=1,maximum-scale=1\">\\r\\n\\r\\n    <script type=\"text/javascript\" src=\"/Content/scripts/plugins/selectivizr-min.js\"></script>\\r\\n\\r\\n    <link href=\"/bundles/all.css?v=sbmINVYoD5EspzthN7d_kS-XWNJ7sIvFLwXAMIC1CXk1\" rel=\"stylesheet\" media=\"all\" />\\r\\n\\r\\n    <link href=\"/bundles/print.css?v=slwSdHk4uUBIq6o7BWa0V9Q20GTrfjjSvHywBkgWP9Q1\" rel=\"stylesheet\" media=\"print\" />\\r\\n\\r\\n    <!--[if lt IE 9]>\\r\\n        <script src=\"/Content/scripts/plugins/respond.min.js\"></script>\\r\\n        <script src=\"/Content/scripts/plugins/html5shiv.js\"></script>\\r\\n    <![endif]-->\\r\\n    \\r\\n    \\r\\n\\r\\n\\r\\n    <script>\\r\\n    \\r\\n    (function(G,o,O,g,l){G.GoogleAnalyticsObject=O;G[O]||(G[O]=function(){(G[O].q=G[O].q||[]).push(arguments)});G[O].l=+new Date;g=o.createElement(\\'script\\'),l=o.scripts[0];g.src=\\'//www.google-analytics.com/analytics.js\\';l.parentNode.insertBefore(g,l)}(this,document,\\'ga\\'));\\r\\n    ga(\\'create\\', \\'UA-1664104-18\\');\\r\\n\\r\\n    ga(\\'send\\', \\'pageview\\');\\r\\n</script>\\r\\n<script>\\r\\n    var googletag = googletag || {};\\r\\n    googletag.cmd = googletag.cmd || [];\\r\\n    (function () {\\r\\n        var gads = document.createElement(\\'script\\');\\r\\n        gads.async = true;\\r\\n        gads.type = \\'text/javascript\\';\\r\\n        var useSSL = \\'https:\\' == document.location.protocol;\\r\\n        gads.src = (useSSL ? \\'https:\\' : \\'http:\\') +\\r\\n        \\'//www.googletagservices.com/tag/js/gpt.js\\';\\r\\n        var node = document.getElementsByTagName(\\'script\\')[0];\\r\\n        node.parentNode.insertBefore(gads, node);\\r\\n    })();\\r\\n\\r\\n</script>\\r\\n\\r\\n<script>\\r\\n    googletag.cmd.push(function () {\\r\\n        //googletag.defineSlot(\\'/1057978/FAS_results_rectangle_180x150_bottom\\', [180, 150], \\'div-gpt-ad-1378379554577-0\\').addService(googletag.pubads());\\r\\n        //googletag.defineSlot(\\'/1057978/FAS_results_rectangle_180x150_middle\\', [180, 150], \\'div-gpt-ad-1378379554577-1\\').addService(googletag.pubads());\\r\\n        //googletag.defineSlot(\\'/1057978/FAS_results_rectangle_180x150_top\\', [180, 150], \\'div-gpt-ad-1378379554577-2\\').addService(googletag.pubads());\\r\\n\\r\\n        googletag.defineSlot(\\'/1057978/FAS_Results_Leaderboard_728x90\\', [728, 90], \\'div-gpt-ad-1417517180477-0\\').addService(googletag.pubads());\\r\\n        googletag.defineSlot(\\'/1057978/FAS_Results_MPU_300x250\\', [300, 250], \\'div-gpt-ad-1417517180477-1\\').addService(googletag.pubads());\\r\\n        googletag.defineSlot(\\'/1057978/FAS_Results_Sky_160x600\\', [160, 600], \\'div-gpt-ad-1417517585858-0\\').addService(googletag.pubads());\\r\\n\\r\\n\\r\\n\\r\\n        googletag.pubads().enableSingleRequest();\\r\\n        googletag.enableServices();\\r\\n    });\\r\\n</script>\\r\\n\\r\\n\\r\\n\\r\\n</head>\\r\\n<body>\\r\\n\\r\\n    <noscript><iframe src=\"//www.googletagmanager.com/ns.html?id=GTM-NGBZ\" height=\"0\" width=\"0\" style=\"display:none;visibility:hidden\"></iframe></noscript>\\r\\n<script>(function(w,d,s,l,i){w[l]=w[l]||[];w[l].push({\\'gtm.start\\': new Date().getTime(),event:\\'gtm.js\\'});var f=d.getElementsByTagName(s)[0], j=d.createElement(s),dl=l!=\\'dataLayer\\'?\\'&l=\\'+l:\\'\\';j.async=true;j.src= \\'//www.googletagmanager.com/gtm.js?id=\\'+i+dl;f.parentNode.insertBefore(j,f); })(window,document,\\'script\\',\\'dataLayer\\',\\'GTM-NGBZ\\');</script>\\r\\n\\r\\n    <a href=\"#main-content\" class=\"nav-skip\" accesskey=\"s\">Skip to content</a>\\r\\n    <div id=\"tls-global-navigation-bar\" class=\"hidden-phone\">\\r\\n\\t<div class=\"container\">\\r\\n\\t\\t<ul class=\"topNav\">\\r\\n\\t        <li><a href=\"https://www.lawsociety.org.uk/\">The Law Society</a></li>\\r\\n\\t        <li><a href=\"/\" class=\"sel\">Find a Solicitor</a></li>\\r\\n\\t        <li><a href=\"http://jobs.lawgazette.co.uk/\">Gazette Jobs</a></li>\\r\\n\\t        <li><a href=\"https://www.lawgazette.co.uk/\">The Gazette</a></li>\\r\\n\\t        <li><a href=\"http://www.lawsociety.org.uk/pdc/\">Professional Development Centre</a></li>\\r\\n\\t        <li><a href=\"https://bookshop.lawsociety.org.uk/\">Bookshop</a></li>\\r\\n\\t        <li><a href=\"https://events.lawsociety.org.uk/\">Events</a></li>\\r\\n\\t        <li><a href=\"https://wv-tls.olib.oclc.org/webview/\">Library search</a></li>\\r\\n            <li><a href=\"https://insights.lawsociety.org.uk/\">Insights</a></li>\\r\\n\\t\\t</ul>\\t\\t\\r\\n\\t</div>\\r\\n</div>\\r\\n     \\r\\n<div class=\"nav-collapse collapse visible-phone\">\\r\\n\\t<ul class=\"nav\">\\r\\n\\t\\t<li class=\"large\"><a href=\"/?Pro=False\">Quick search <span class=\"sprite icon-quick-search-menu-mobile pull-right\"></span></a></li>\\r\\n\\t\\t<li class=\"large\"><a href=\"/?Pro=True\">Pro search <span class=\"sprite icon-pro-search-menu-mobile pull-right\"></span></a></li>\\r\\n\\t\\t<li class=\"large\"><a href=\"/shortlist\">View shortlist <span class=\"sprite icon-star pull-right\"></span></a></li>\\r\\n\\t\\t<li><a href=\"/about\">About</a></li>\\r\\n\\t\\t<li><a href=\"/help\">Help</a></li>\\r\\n\\t\\t<li><a href=\"http://www.lawsociety.org.uk/get-in-touch/\" title=\"Law Society website link\" rel=\"external\">Feedback</a></li>\\r\\n\\t\\t\\r\\n\\t\\t<li><a href=\"http://www.lawsociety.org.uk/legal-notice/\" title=\"Law Society website link\" rel=\"external\">Legal</a></li>\\r\\n\\t\\t<li><a href=\"http://www.lawsociety.org.uk/privacy/\" title=\"Law Society website link\" rel=\"external\">Privacy</a></li>\\r\\n\\t\\t<li><a href=\"/cookies\">Cookies</a></li>\\r\\n\\t\\t<li><a href=\"http://www.lawsociety.org.uk\" rel=\"external\">Go to The Law Society <span class=\"sprite icon-external pull-right\"></span></a></li>\\r\\n\\t</ul>\\r\\n\\t<div class=\"shade\"></div>\\r\\n</div>\\r\\n    <header class=\"top\">\\r\\n        <div class=\"container\">\\r\\n            <div class=\"row\">\\r\\n                <div class=\"site-heading span4\">\\r\\n                    <a href=\"/\" class=\"logo-fas pull-left\" accesskey=\"1\">\\r\\n                        <img src=\"/content/images/logo-find-a-solicitor.png\" width=\"195\" height=\"33\" alt=\"Find A Solicitor\">\\r\\n                    </a>\\r\\n                    <a href=\"http://www.lawsociety.org.uk\" class=\"logo-lawsociety sprite bg-ribbon pull-right\">\\r\\n                        <img src=\"/content/images/logo-the-law-society.png\" width=\"111\" height=\"72\" alt=\"Logo The Law Society\">\\r\\n                    </a>\\r\\n                    \\r\\n\\r\\n\\r\\n                </div>\\r\\n            </div>\\r\\n            <button type=\"button\" class=\"btn btn-navbar visible-phone\" data-toggle=\"collapse\" data-target=\".nav-collapse\">\\r\\n                <span class=\"icon-bar\"></span>\\r\\n                <span class=\"icon-bar\"></span>\\r\\n                <span class=\"icon-bar\"></span>\\r\\n            </button>\\r\\n\\r\\n        </div>\\r\\n    </header>\\r\\n\\r\\n    <div id=\"page-content\" class=\"page-content container\">\\r\\n        \\r\\n\\r\\n\\r\\n<div class=\"hidden-phone\">\\r\\n    \\r\\n<div class=\"search-panel\">\\r\\n    <p class=\"top-links\"><!--Donut#16B307A2BCA3E8D932D5DC28872BB327EE6CE9331F6F8437B8B70AEF0CB22BAE74A802B37DAF51F6556587154CAF7FFAB762631C2853A9E9F5C8A492ABB72EBBDFA7AA172B8968254E7D43365AF99AA99D740EA43AF5848F7835A07C5CE462DE66504BDD8820D6B3510B6200433FCC4541E7985C1D80E609289D34CEA30A1AAB07454ED8A9B2329B5EC851C96E2B9F4AEDE9421CC4515F70CA52FAE6DB34413CC0A79E595D4D58DDCED860046B4E42E9B7CD110864D478F08352C73D9041120064E5D049FB66230797A5B405980A34043B1DDD7A684AD9864FDB48BF7317A30F0EF7165B8EAAC5BEDB0C6F12D7FC94766A4A0D32E8F1BFA00135A668934A69E99EC813DB5C6A8EAC1D6DA6AEC0EEB9865C4F5BABD375D0A92FFCC4C305C982137D2CB90405DBC35361C65FE0A1375BCDACB8B397E324873B82B6C70A1EB382F61B937FFC3807F7BD238F8F3063871E92DABD863FA00A19846352A4EF30CF037024FC9C086D1582EE1D899E8C3F147B6770DE7E0CC2D27466A4DB2AC9D8E1D27F#--><span class=\"shortlist-status\">\\r\\n</span>\\r\\n<!--EndDonut--></p>\\r\\n\\r\\n    <div id=\"search\">\\r\\n    <ul class=\"nav nav-tabs\" id=\"search-panel-tabs\">\\r\\n      <li class=\"active\"><a id=\"quick\" href=\"/?Pro=False\" class=\"quick\"><span>Quick search</span><i class=\"sprite icon-quick-search-small\"></i></a></li>\\r\\n      <li class=\"\"><a id=\"pro\" href=\"/?Pro=True\" class=\"pro\"><span>Pro search</span><i class=\"sprite icon-pro-search-small\"></i></a></li>\\r\\n    </ul>\\r\\n    <div class=\"tab-content\" id=\"search-pane\">\\r\\n        <div class=\"tab-pane active quick\" id=\"search-pane-quick\">\\r\\n            <form action=\"/search/results\" class=\"form-inline\" method=\"get\">    <div class=\"main\">\\r\\n    \\r\\n        <div class=\"validation-summary-valid\" data-valmsg-summary=\"true\"><ul><li style=\"display:none\"></li>\\r\\n</ul></div>\\r\\n\\r\\n        <fieldset>\\r\\n            <legend class=\"sr-only\">Quick search</legend>\\r\\n\\t\\t    <div class=\"form-row\">\\r\\n                <label for=\"Quick_UmbrellaLegalIssue\">Your legal issue</label> \\r\\n                <select id=\"Quick_UmbrellaLegalIssue\" name=\"UmbrellaLegalIssue\"><option value=\"\">All issues</option>\\r\\n<optgroup label=\"PERSONAL\"><option value=\"LIUPIN\">Accident and Injury</option>\\r\\n<option value=\"LIUCSU\">Consumer and civil rights</option>\\r\\n<option value=\"LIUCRM\">Crime</option>\\r\\n<option value=\"LIUEMP\">Employment</option>\\r\\n<option value=\"LIUFAM\">Family and relationships</option>\\r\\n<option value=\"LIUPRE\">Houses, property and neighbours</option>\\r\\n<option value=\"LIUIMM\">Immigration and changing countries</option>\\r\\n<option value=\"LIUMCP\">Mental Capacity</option>\\r\\n<option value=\"LIUMAD\">Money and debt</option>\\r\\n<option value=\"LIUSWB\">Social welfare, health and benefits</option>\\r\\n<option value=\"LIUPCW\">Wills, trusts and probate</option>\\r\\n</optgroup>\\r\\n<optgroup label=\"BUSINESS\"><option value=\"LIUBUP\">Business premises</option>\\r\\n<option value=\"LIUCOM\">Company and commercial</option>\\r\\n<option value=\"LIUDPR\">Dispute resolution</option>\\r\\n<option value=\"LIUEUT\">Energy, utilities and transport</option>\\r\\n<option value=\"LIUMED\">Media, IT and intellectual property</option>\\r\\n<option value=\"LIUREG\">Regulation and compliance</option>\\r\\n</optgroup>\\r\\n</select> \\r\\n\\t\\t    </div>\\r\\n\\t\\t    <div class=\"form-row\">\\r\\n                <label for=\"Quick_Location\">Location of legal adviser</label>\\r\\n                <input autocomplete=\"off\" id=\"Quick_Location\" name=\"Location\" placeholder=\"Postcode, town, city or country\" type=\"text\" value=\"\" />\\r\\n\\t\\t    </div>\\t\\t\\t\\r\\n\\t\\t\\t\\t\\r\\n            <input type=\"hidden\" id=\"Quick_Pro\" name=\"Pro\" value=\"False\" />\\r\\n\\t    </fieldset>\\r\\n\\r\\n    </div>\\r\\n    <div id=\"search-pane-quick-more-options\" class=\"collapse\" >\\r\\n        <div class=\"left\">\\r\\n            <fieldset>\\r\\n            <legend>Access options</legend>\\r\\n\\r\\n            <span class=\"btn btn-checkbox\">\\r\\n                <label for=\"Quick_LegalAid\">\\r\\n                    <input id=\"Quick_LegalAid\" name=\"LegalAid\" type=\"checkbox\" value=\"True\" />\\r\\n                    Accepts legal aid\\r\\n                    <i class=\"sprite\"></i>\\r\\n                </label>\\r\\n            </span>\\r\\n            <span class=\"btn btn-checkbox\">\\r\\n                <label for=\"Quick_DisabledAccess\">\\r\\n                    <input id=\"Quick_DisabledAccess\" name=\"DisabledAccess\" type=\"checkbox\" value=\"True\" />\\r\\n                    Disabled access to building\\r\\n                    <i class=\"sprite\"></i>\\r\\n                </label>\\r\\n            </span>\\r\\n\\r\\n            <span class=\"btn btn-checkbox\">\\r\\n                <label for=\"Quick_InductionLoop\">\\r\\n                    <input id=\"Quick_InductionLoop\" name=\"InductionLoop\" type=\"checkbox\" value=\"True\" />\\r\\n                    Hearing induction loop\\r\\n                    <i class=\"sprite\"></i>\\r\\n                </label>\\r\\n            </span>\\r\\n            <span class=\"btn btn-checkbox\">\\r\\n                <label for=\"Quick_Bsl\">\\r\\n                    <input id=\"Quick_Bsl\" name=\"Bsl\" type=\"checkbox\" value=\"True\" />\\r\\n                    British Sign Language\\r\\n                    <i class=\"sprite\"></i>\\r\\n                </label>\\r\\n            </span>\\r\\n        </fieldset>\\r\\n        </div>\\r\\n\\r\\n        <div class=\"right\">\\r\\n            <label for=\"Quick_Language\">Language spoken</label>\\r\\n            <select id=\"Quick_Language\" name=\"Language\"><option value=\"\">Select one</option>\\r\\n<option value=\"AFR\">Afrikaans</option>\\r\\n<option value=\"ALB\">Albanian</option>\\r\\n<option value=\"AMH\">Amharic</option>\\r\\n<option value=\"ARA\">Arabic</option>\\r\\n<option value=\"ARC\">Aramaic</option>\\r\\n<option value=\"ARM\">Armenian</option>\\r\\n<option value=\"AZB\">Azerbaijani</option>\\r\\n<option value=\"BAH\">Bahasa</option>\\r\\n<option value=\"BAS\">Basque</option>\\r\\n<option value=\"BEN\">Bengali</option>\\r\\n<option value=\"BOS\">Bosnian</option>\\r\\n<option value=\"BSL\">British Sign Language</option>\\r\\n<option value=\"BUL\">Bulgarian</option>\\r\\n<option value=\"BUR\">Burmese</option>\\r\\n<option value=\"CAN\">Cantonese</option>\\r\\n<option value=\"CAT\">Catalan</option>\\r\\n<option value=\"CHA\">Chichewa</option>\\r\\n<option value=\"CHI\">Chinese</option>\\r\\n<option value=\"CRE\">Creole</option>\\r\\n<option value=\"CRO\">Croatian</option>\\r\\n<option value=\"CZE\">Czech</option>\\r\\n<option value=\"DAN\">Danish</option>\\r\\n<option value=\"DUT\">Dutch</option>\\r\\n<option value=\"EDO\">Edo</option>\\r\\n<option value=\"ENG\">English</option>\\r\\n<option value=\"ESP\">Esperanto</option>\\r\\n<option value=\"FAN\">Fanti</option>\\r\\n<option value=\"FAR\">Farsi (Persian)</option>\\r\\n<option value=\"FIN\">Finnish</option>\\r\\n<option value=\"FLE\">Flemish</option>\\r\\n<option value=\"FRE\">French</option>\\r\\n<option value=\"GA\">Ga</option>\\r\\n<option value=\"IRG\">Gaelic (Irish)</option>\\r\\n<option value=\"SCG\">Gaelic (Scottish)</option>\\r\\n<option value=\"GER\">German</option>\\r\\n<option value=\"GHA\">Ghanian</option>\\r\\n<option value=\"GRE\">Greek</option>\\r\\n<option value=\"GUJ\">Gujarati</option>\\r\\n<option value=\"HAK\">Hakka</option>\\r\\n<option value=\"HAU\">Hausa</option>\\r\\n<option value=\"HEB\">Hebrew</option>\\r\\n<option value=\"HIN\">Hindi</option>\\r\\n<option value=\"HOK\">Hokkien</option>\\r\\n<option value=\"HUN\">Hungarian</option>\\r\\n<option value=\"IBO\">Ibo</option>\\r\\n<option value=\"ICE\">Icelandic</option>\\r\\n<option value=\"IND\">Indonesian</option>\\r\\n<option value=\"IRA\">Iranian</option>\\r\\n<option value=\"ITA\">Italian</option>\\r\\n<option value=\"JAP\">Japanese</option>\\r\\n<option value=\"KAL\">Kalabari</option>\\r\\n<option value=\"KEK\">Kekchi</option>\\r\\n<option value=\"KSW\">Kiswahili</option>\\r\\n<option value=\"KOR\">Korean</option>\\r\\n<option value=\"KUR\">Kurdish</option>\\r\\n<option value=\"LAT\">Latin</option>\\r\\n<option value=\"LTV\">Latvian</option>\\r\\n<option value=\"LIT\">Lithuanian</option>\\r\\n<option value=\"LUG\">Luganda</option>\\r\\n<option value=\"MAC\">Macedonian</option>\\r\\n<option value=\"MAL\">Malay</option>\\r\\n<option value=\"MLM\">Malayalam</option>\\r\\n<option value=\"MSE\">Maltese</option>\\r\\n<option value=\"MAN\">Mandarin</option>\\r\\n<option value=\"MAO\">Maori</option>\\r\\n<option value=\"MAR\">Marathi</option>\\r\\n<option value=\"MIR\">Mirpuri</option>\\r\\n<option value=\"MON\">Mongolian</option>\\r\\n<option value=\"NEP\">Nepali</option>\\r\\n<option value=\"NGE\">Nigerian</option>\\r\\n<option value=\"NOR\">Norwegian</option>\\r\\n<option value=\"PER\">Persian (Same as Farsi)</option>\\r\\n<option value=\"POL\">Polish</option>\\r\\n<option value=\"POR\">Portuguese</option>\\r\\n<option value=\"PUN\">Punjabi</option>\\r\\n<option value=\"PUS\">Pushtu</option>\\r\\n<option value=\"ROM\">Romanian</option>\\r\\n<option value=\"RUS\">Russian</option>\\r\\n<option value=\"SRB\">Serbian</option>\\r\\n<option value=\"SER\">Serbo Croat</option>\\r\\n<option value=\"SHA\">Shanghainese</option>\\r\\n<option value=\"SIH\">Sindhi</option>\\r\\n<option value=\"SIN\">Sinhalese</option>\\r\\n<option value=\"SLV\">Slovak</option>\\r\\n<option value=\"SLO\">Slovenian</option>\\r\\n<option value=\"SOM\">Somali</option>\\r\\n<option value=\"SPA\">Spanish</option>\\r\\n<option value=\"SWA\">Swahili</option>\\r\\n<option value=\"SWE\">Swedish</option>\\r\\n<option value=\"SWG\">Swiss-German</option>\\r\\n<option value=\"SYC\">Sycheti</option>\\r\\n<option value=\"SYL\">Sylheti</option>\\r\\n<option value=\"TAG\">Tagalog</option>\\r\\n<option value=\"TAM\">Tamil</option>\\r\\n<option value=\"TEL\">Telugu</option>\\r\\n<option value=\"TEO\">Teochew</option>\\r\\n<option value=\"THA\">Thai</option>\\r\\n<option value=\"TUR\">Turkish</option>\\r\\n<option value=\"TWI\">Twi</option>\\r\\n<option value=\"UKA\">Ukrainian</option>\\r\\n<option value=\"URD\">Urdu</option>\\r\\n<option value=\"URH\">Urhobo</option>\\r\\n<option value=\"VNM\">Vietnamese</option>\\r\\n<option value=\"WEL\">Welsh</option>\\r\\n<option value=\"XHO\">Xhosa</option>\\r\\n<option value=\"YID\">Yiddish</option>\\r\\n<option value=\"YOR\">Yoruba</option>\\r\\n</select>\\r\\n        </div>\\r\\n   \\r\\n    </div>\\r\\n    <div class=\"form-row submit\">\\r\\n        <button type=\"submit\" class=\"btn btn-submit\">Search</button>\\r\\n    </div>\\r\\n         <div class=\"form-row more-options-toggle\">\\r\\n                <a href=\"#search-pane-quick-more-options\" data-toggle=\"collapse\" class=\"collapsed\">\\r\\n                    <span class=\"more\">More search options <span class=\"icon\">+</span></span>\\r\\n                    <span class=\"less\">Fewer search options <span class=\"icon\">-</span></span>\\r\\n                </a>\\r\\n            </div>  \\r\\n</form>\\r\\n        </div>\\r\\n        <div class=\"tab-pane  pro\" id=\"search-pane-pro\">\\r\\n            <form action=\"/search/results\" class=\"form-inline clearfix\" method=\"get\">    <div class=\"main\">\\r\\n\\r\\n        <div class=\"validation-summary-valid\" data-valmsg-summary=\"true\"><ul><li style=\"display:none\"></li>\\r\\n</ul></div>\\r\\n\\r\\n        <div class=\"left\">\\r\\n            <div class=\"form-row\">\\r\\n                <fieldset>\\r\\n                    <legend class=\"label\">Type</legend>\\r\\n                    <span class=\"btn btn-radio checked\">\\r\\n                        <label for=\"Pro_Type_1\">\\r\\n                            <input checked=\"checked\" data-val=\"true\" data-val-required=\"The Type field is required.\" id=\"Pro_Type_1\" name=\"Type\" type=\"radio\" value=\"0\" />\\r\\n                            Organisation\\r\\n                            <i class=\"sprite\"></i>\\r\\n                        </label>\\r\\n                    </span>\\r\\n                    <span class=\"btn btn-radio\">\\r\\n                        <label for=\"Pro_Type_2\">\\r\\n                            <input id=\"Pro_Type_2\" name=\"Type\" type=\"radio\" value=\"1\" />\\r\\n                            Person\\r\\n                            <i class=\"sprite\"></i>\\r\\n                        </label>\\r\\n                    </span>\\r\\n                </fieldset>\\r\\n            </div>\\r\\n            <div class=\"form-row\">\\r\\n                <label for=\"Pro_Name\">Name</label> \\r\\n                <input autocomplete=\"off\" id=\"Pro_Name\" name=\"Name\" placeholder=\"Name\" type=\"text\" value=\"\" />\\r\\n            </div>           \\r\\n            <div class=\"form-row\"> \\r\\n                <span class=\"btn btn-checkbox checked\">\\r\\n                    <input id=\"Pro_IncludeNlspHidden\" name=\"IncludeNlsp\" type=\"hidden\" value=\"false\" />\\r\\n                    \\r\\n                    <label for=\"Pro_IncludeNlsp\" title=\"Tick this box to include organisations that only do internal legal work and don&#39;t offer services to other clients.\" data-toggle=\"tooltip\">\\r\\n                        <input checked=\"checked\" id=\"Pro_IncludeNlsp\" name=\"IncludeNlsp\" type=\"checkbox\" value=\"True\" />\\r\\n                        Include in-house teams, government departments and other employers\\r\\n                        <i class=\"sprite\"></i>\\r\\n                    </label>\\r\\n                </span>\\r\\n            </div>\\r\\n            <div class=\"form-row\">\\r\\n                <label for=\"Pro_Location\">Location</label>\\r\\n                <input autocomplete=\"off\" id=\"Pro_Location\" name=\"Location\" placeholder=\"Postcode, town, city or country\" type=\"text\" value=\"\" />\\r\\n            </div>\\r\\n        </div>\\r\\n\\r\\n        <div class=\"right\">\\r\\n            <div class=\"form-row\">\\r\\n                <label for=\"Pro_AreaOfPractice1\">Area of practice</label> \\r\\n                <select class=\"long\" id=\"Pro_AreaOfPractice1\" name=\"AreaOfPractice1\"><option value=\"\">All areas</option>\\r\\n<option value=\"APL\">Actions against the police - legal aid</option>\\r\\n<option value=\"PUB\">Administrative and public law</option>\\r\\n<option value=\"ADV\">Advocacy</option>\\r\\n<option value=\"AGR\">Agriculture</option>\\r\\n<option value=\"AVI\">Aviation</option>\\r\\n<option value=\"BAN\">Banking</option>\\r\\n<option value=\"BEN\">Benefits and allowances</option>\\r\\n<option value=\"CHA\">Charities</option>\\r\\n<option value=\"CHI\">Children</option>\\r\\n<option value=\"CLI\">Clinical negligence</option>\\r\\n<option value=\"COL\">Commercial litigation</option>\\r\\n<option value=\"PCO\">Commercial property</option>\\r\\n<option value=\"CCL\">Community care - legal aid</option>\\r\\n<option value=\"COS\">Company / commercial - small businesses</option>\\r\\n<option value=\"COM\">Company and commercial</option>\\r\\n<option value=\"CON\">Construction</option>\\r\\n<option value=\"CSU\">Consumer</option>\\r\\n<option value=\"CSF\">Consumer - financial services</option>\\r\\n<option value=\"CSG\">Consumer - goods and services</option>\\r\\n<option value=\"CUT\">Consumer - utilities</option>\\r\\n<option value=\"CTR\">Contract</option>\\r\\n<option value=\"PRE\">Conveyancing - residential</option>\\r\\n<option value=\"CFI\">Corporate finance</option>\\r\\n<option value=\"CRD\">Crime - domestic violence</option>\\r\\n<option value=\"CRF\">Crime - fraud</option>\\r\\n<option value=\"CRG\">Crime - general</option>\\r\\n<option value=\"CRJ\">Crime - juvenile</option>\\r\\n<option value=\"CRL\">Crime - legal aid</option>\\r\\n<option value=\"CRM\">Crime - motoring</option>\\r\\n<option value=\"CRS\">Crime - sex</option>\\r\\n<option value=\"CRO\">Cross-border</option>\\r\\n<option value=\"DEB\">Debt and bankruptcy - personal</option>\\r\\n<option value=\"DTR\">Debt recovery</option>\\r\\n<option value=\"DEF\">Defamation</option>\\r\\n<option value=\"DRC\">Dispute resolution - civil mediation</option>\\r\\n<option value=\"DRO\">Dispute resolution - commercial mediation</option>\\r\\n<option value=\"EDU\">Education</option>\\r\\n<option value=\"ELC\">Elderly care</option>\\r\\n<option value=\"ELH\">Elderly care home fees</option>\\r\\n<option value=\"EMP\">Employment</option>\\r\\n<option value=\"ENE\">Energy and natural resources</option>\\r\\n<option value=\"ENV\">Environment</option>\\r\\n<option value=\"EUN\">European Community law</option>\\r\\n<option value=\"FDS\">Family - divorce and separation</option>\\r\\n<option value=\"FAM\">Family - general</option>\\r\\n<option value=\"FAL\">Family - legal aid</option>\\r\\n<option value=\"FMC\">Family - marriage and civil partnerships</option>\\r\\n<option value=\"FME\">Family - mediation</option>\\r\\n<option value=\"FML\">Family - mediation - legal aid</option>\\r\\n<option value=\"FPL\">Family public law - legal aid</option>\\r\\n<option value=\"FIS\">Financial services</option>\\r\\n<option value=\"HRI\">Human rights</option>\\r\\n<option value=\"IMA\">Immigration - asylum</option>\\r\\n<option value=\"IML\">Immigration - asylum - legal aid</option>\\r\\n<option value=\"IMM\">Immigration - general</option>\\r\\n<option value=\"IMG\">Immigration - general - legal aid</option>\\r\\n<option value=\"IMN\">Immigration - nationality and citizenship</option>\\r\\n<option value=\"ITE\">Information Technology</option>\\r\\n<option value=\"INS\">Insolvency and restructuring - business</option>\\r\\n<option value=\"IUR\">Insurance</option>\\r\\n<option value=\"IPR\">Intellectual property</option>\\r\\n<option value=\"JRW\">Judicial review</option>\\r\\n<option value=\"JRL\">Judicial review - legal aid</option>\\r\\n<option value=\"LCO\">Landlord and tenant - commercial</option>\\r\\n<option value=\"LRE\">Landlord and tenant - residential</option>\\r\\n<option value=\"POA\">Lasting power of attorney</option>\\r\\n<option value=\"LIC\">Licensing gaming and betting</option>\\r\\n<option value=\"LIV\">Litigation - general</option>\\r\\n<option value=\"LIS\">Litigation - small claims</option>\\r\\n<option value=\"LIT\">Litigation - tickets and fines</option>\\r\\n<option value=\"LPH\">LPA - Health and Welfare</option>\\r\\n<option value=\"LPP\">LPA - Property and Affairs</option>\\r\\n<option value=\"MAR\">Maritime and shipping</option>\\r\\n<option value=\"MED\">Media, entertainment and sport</option>\\r\\n<option value=\"MHE\">Mental health</option>\\r\\n<option value=\"MHL\">Mental health - legal aid</option>\\r\\n<option value=\"MAA\">Mergers and acquisitions</option>\\r\\n<option value=\"MIL\">Military</option>\\r\\n<option value=\"NDI\">Neighbour disputes</option>\\r\\n<option value=\"PEN\">Pensions</option>\\r\\n<option value=\"PIN\">Personal injury</option>\\r\\n<option value=\"PIR\">Personal injury - RTA</option>\\r\\n<option value=\"PLA\">Planning</option>\\r\\n<option value=\"PRZ\">Prison law - legal aid</option>\\r\\n<option value=\"PRP\">Private client - disputed probate</option>\\r\\n<option value=\"PRT\">Private client - disputed trusts</option>\\r\\n<option value=\"PRW\">Private client - disputed wills</option>\\r\\n<option value=\"PCI\">Private client - international</option>\\r\\n<option value=\"PCP\">Private client - Probate</option>\\r\\n<option value=\"PCT\">Private client - trusts</option>\\r\\n<option value=\"PCW\">Private client - Wills</option>\\r\\n<option value=\"PNE\">Professional negligence</option>\\r\\n<option value=\"TAX\">Tax</option>\\r\\n<option value=\"TAC\">Tax - Company and commercial</option>\\r\\n<option value=\"TAE\">Tax - Employment</option>\\r\\n<option value=\"TAH\">Tax - Employment/HR</option>\\r\\n<option value=\"TAM\">Tax - Money and debt</option>\\r\\n<option value=\"TAP\">Tax - personal</option>\\r\\n<option value=\"TAT\">Travel and tourism</option>\\r\\n</select>\\r\\n                \\r\\n            </div>\\r\\n            <div class=\"form-row\">\\r\\n                <label for=\"Pro_AreaOfPractice2\">Second area of practice</label> \\r\\n                <select class=\"long\" id=\"Pro_AreaOfPractice2\" name=\"AreaOfPractice2\"><option value=\"\">All areas</option>\\r\\n<option value=\"APL\">Actions against the police - legal aid</option>\\r\\n<option value=\"PUB\">Administrative and public law</option>\\r\\n<option value=\"ADV\">Advocacy</option>\\r\\n<option value=\"AGR\">Agriculture</option>\\r\\n<option value=\"AVI\">Aviation</option>\\r\\n<option value=\"BAN\">Banking</option>\\r\\n<option value=\"BEN\">Benefits and allowances</option>\\r\\n<option value=\"CHA\">Charities</option>\\r\\n<option value=\"CHI\">Children</option>\\r\\n<option value=\"CLI\">Clinical negligence</option>\\r\\n<option value=\"COL\">Commercial litigation</option>\\r\\n<option value=\"PCO\">Commercial property</option>\\r\\n<option value=\"CCL\">Community care - legal aid</option>\\r\\n<option value=\"COS\">Company / commercial - small businesses</option>\\r\\n<option value=\"COM\">Company and commercial</option>\\r\\n<option value=\"CON\">Construction</option>\\r\\n<option value=\"CSU\">Consumer</option>\\r\\n<option value=\"CSF\">Consumer - financial services</option>\\r\\n<option value=\"CSG\">Consumer - goods and services</option>\\r\\n<option value=\"CUT\">Consumer - utilities</option>\\r\\n<option value=\"CTR\">Contract</option>\\r\\n<option value=\"PRE\">Conveyancing - residential</option>\\r\\n<option value=\"CFI\">Corporate finance</option>\\r\\n<option value=\"CRD\">Crime - domestic violence</option>\\r\\n<option value=\"CRF\">Crime - fraud</option>\\r\\n<option value=\"CRG\">Crime - general</option>\\r\\n<option value=\"CRJ\">Crime - juvenile</option>\\r\\n<option value=\"CRL\">Crime - legal aid</option>\\r\\n<option value=\"CRM\">Crime - motoring</option>\\r\\n<option value=\"CRS\">Crime - sex</option>\\r\\n<option value=\"CRO\">Cross-border</option>\\r\\n<option value=\"DEB\">Debt and bankruptcy - personal</option>\\r\\n<option value=\"DTR\">Debt recovery</option>\\r\\n<option value=\"DEF\">Defamation</option>\\r\\n<option value=\"DRC\">Dispute resolution - civil mediation</option>\\r\\n<option value=\"DRO\">Dispute resolution - commercial mediation</option>\\r\\n<option value=\"EDU\">Education</option>\\r\\n<option value=\"ELC\">Elderly care</option>\\r\\n<option value=\"ELH\">Elderly care home fees</option>\\r\\n<option value=\"EMP\">Employment</option>\\r\\n<option value=\"ENE\">Energy and natural resources</option>\\r\\n<option value=\"ENV\">Environment</option>\\r\\n<option value=\"EUN\">European Community law</option>\\r\\n<option value=\"FDS\">Family - divorce and separation</option>\\r\\n<option value=\"FAM\">Family - general</option>\\r\\n<option value=\"FAL\">Family - legal aid</option>\\r\\n<option value=\"FMC\">Family - marriage and civil partnerships</option>\\r\\n<option value=\"FME\">Family - mediation</option>\\r\\n<option value=\"FML\">Family - mediation - legal aid</option>\\r\\n<option value=\"FPL\">Family public law - legal aid</option>\\r\\n<option value=\"FIS\">Financial services</option>\\r\\n<option value=\"HRI\">Human rights</option>\\r\\n<option value=\"IMA\">Immigration - asylum</option>\\r\\n<option value=\"IML\">Immigration - asylum - legal aid</option>\\r\\n<option value=\"IMM\">Immigration - general</option>\\r\\n<option value=\"IMG\">Immigration - general - legal aid</option>\\r\\n<option value=\"IMN\">Immigration - nationality and citizenship</option>\\r\\n<option value=\"ITE\">Information Technology</option>\\r\\n<option value=\"INS\">Insolvency and restructuring - business</option>\\r\\n<option value=\"IUR\">Insurance</option>\\r\\n<option value=\"IPR\">Intellectual property</option>\\r\\n<option value=\"JRW\">Judicial review</option>\\r\\n<option value=\"JRL\">Judicial review - legal aid</option>\\r\\n<option value=\"LCO\">Landlord and tenant - commercial</option>\\r\\n<option value=\"LRE\">Landlord and tenant - residential</option>\\r\\n<option value=\"POA\">Lasting power of attorney</option>\\r\\n<option value=\"LIC\">Licensing gaming and betting</option>\\r\\n<option value=\"LIV\">Litigation - general</option>\\r\\n<option value=\"LIS\">Litigation - small claims</option>\\r\\n<option value=\"LIT\">Litigation - tickets and fines</option>\\r\\n<option value=\"LPH\">LPA - Health and Welfare</option>\\r\\n<option value=\"LPP\">LPA - Property and Affairs</option>\\r\\n<option value=\"MAR\">Maritime and shipping</option>\\r\\n<option value=\"MED\">Media, entertainment and sport</option>\\r\\n<option value=\"MHE\">Mental health</option>\\r\\n<option value=\"MHL\">Mental health - legal aid</option>\\r\\n<option value=\"MAA\">Mergers and acquisitions</option>\\r\\n<option value=\"MIL\">Military</option>\\r\\n<option value=\"NDI\">Neighbour disputes</option>\\r\\n<option value=\"PEN\">Pensions</option>\\r\\n<option value=\"PIN\">Personal injury</option>\\r\\n<option value=\"PIR\">Personal injury - RTA</option>\\r\\n<option value=\"PLA\">Planning</option>\\r\\n<option value=\"PRZ\">Prison law - legal aid</option>\\r\\n<option value=\"PRP\">Private client - disputed probate</option>\\r\\n<option value=\"PRT\">Private client - disputed trusts</option>\\r\\n<option value=\"PRW\">Private client - disputed wills</option>\\r\\n<option value=\"PCI\">Private client - international</option>\\r\\n<option value=\"PCP\">Private client - Probate</option>\\r\\n<option value=\"PCT\">Private client - trusts</option>\\r\\n<option value=\"PCW\">Private client - Wills</option>\\r\\n<option value=\"PNE\">Professional negligence</option>\\r\\n<option value=\"TAX\">Tax</option>\\r\\n<option value=\"TAC\">Tax - Company and commercial</option>\\r\\n<option value=\"TAE\">Tax - Employment</option>\\r\\n<option value=\"TAH\">Tax - Employment/HR</option>\\r\\n<option value=\"TAM\">Tax - Money and debt</option>\\r\\n<option value=\"TAP\">Tax - personal</option>\\r\\n<option value=\"TAT\">Travel and tourism</option>\\r\\n</select>\\r\\n            </div>\\r\\n            <div class=\"form-row form-inline\">\\r\\n                <label for=\"Pro_SraId\">SRA ID</label>\\r\\n                <input class=\"input-small\" data-val=\"true\" data-val-number=\"The field SRA ID must be a number.\" id=\"Pro_SraId\" name=\"SraId\" type=\"text\" value=\"\" />\\r\\n            </div>\\r\\n\\r\\n            <input type=\"hidden\" id=\"Pro_Pro\" name=\"Pro\" value=\"True\" />\\r\\n        </div>\\r\\n    </div>\\r\\n    <div id=\"search-pane-pro-more-options\" class=\"collapse\">\\r\\n        <div class=\"left\">\\r\\n            <fieldset>\\r\\n                <legend>Accreditations</legend>\\r\\n                        <span class=\"btn btn-checkbox\">\\r\\n                            <label for=\"Pro_Accreditation_FLPRC\">\\r\\n                                <input type=\"checkbox\" id=\"Pro_Accreditation_FLPRC\" name=\"Accreditation\" value=\"FLPRC\" data-type=\"1\"  />\\r\\n                                Adult Representation – Children Law\\r\\n                                <i class=\"sprite\"></i>\\r\\n                            </label>\\r\\n                        </span>\\r\\n                        <span class=\"btn btn-checkbox\">\\r\\n                            <label for=\"Pro_Accreditation_CATASINJ\">\\r\\n                                <input type=\"checkbox\" id=\"Pro_Accreditation_CATASINJ\" name=\"Accreditation\" value=\"CATASINJ\" data-type=\"1\"  />\\r\\n                                Catastrophic Injury\\r\\n                                <i class=\"sprite\"></i>\\r\\n                            </label>\\r\\n                        </span>\\r\\n                        <span class=\"btn btn-checkbox\">\\r\\n                            <label for=\"Pro_Accreditation_MCPAP\">\\r\\n                                <input type=\"checkbox\" id=\"Pro_Accreditation_MCPAP\" name=\"Accreditation\" value=\"MCPAP\" data-type=\"1\"  />\\r\\n                                Children - Adults&#39; Representative\\r\\n                                <i class=\"sprite\"></i>\\r\\n                            </label>\\r\\n                        </span>\\r\\n                        <span class=\"btn btn-checkbox\">\\r\\n                            <label for=\"Pro_Accreditation_MCP\">\\r\\n                                <input type=\"checkbox\" id=\"Pro_Accreditation_MCP\" name=\"Accreditation\" value=\"MCP\" data-type=\"1\"  />\\r\\n                                Children - Childrens&#39; Representative\\r\\n                                <i class=\"sprite\"></i>\\r\\n                            </label>\\r\\n                        </span>\\r\\n                        <span class=\"btn btn-checkbox\">\\r\\n                            <label for=\"Pro_Accreditation_MCPLA\">\\r\\n                                <input type=\"checkbox\" id=\"Pro_Accreditation_MCPLA\" name=\"Accreditation\" value=\"MCPLA\" data-type=\"1\"  />\\r\\n                                Children - Local Authority\\r\\n                                <i class=\"sprite\"></i>\\r\\n                            </label>\\r\\n                        </span>\\r\\n                        <span class=\"btn btn-checkbox\">\\r\\n                            <label for=\"Pro_Accreditation_MCNP\">\\r\\n                                <input type=\"checkbox\" id=\"Pro_Accreditation_MCNP\" name=\"Accreditation\" value=\"MCNP\" data-type=\"1\"  />\\r\\n                                Clinical Negligence\\r\\n                                <i class=\"sprite\"></i>\\r\\n                            </label>\\r\\n                        </span>\\r\\n                        <span class=\"btn btn-checkbox\">\\r\\n                            <label for=\"Pro_Accreditation_CQS\">\\r\\n                                <input type=\"checkbox\" id=\"Pro_Accreditation_CQS\" name=\"Accreditation\" value=\"CQS\" data-type=\"0\"  />\\r\\n                                Conveyancing Quality Scheme\\r\\n                                <i class=\"sprite\"></i>\\r\\n                            </label>\\r\\n                        </span>\\r\\n                        <span class=\"btn btn-checkbox\">\\r\\n                            <label for=\"Pro_Accreditation_CLAS1\">\\r\\n                                <input type=\"checkbox\" id=\"Pro_Accreditation_CLAS1\" name=\"Accreditation\" value=\"CLAS1\" data-type=\"1\"  />\\r\\n                                Criminal Litigation\\r\\n                                <i class=\"sprite\"></i>\\r\\n                            </label>\\r\\n                        </span>\\r\\n                        <span class=\"btn btn-checkbox\">\\r\\n                            <label for=\"Pro_Accreditation_MFLP\">\\r\\n                                <input type=\"checkbox\" id=\"Pro_Accreditation_MFLP\" name=\"Accreditation\" value=\"MFLP\" data-type=\"1\"  />\\r\\n                                Family\\r\\n                                <i class=\"sprite\"></i>\\r\\n                            </label>\\r\\n                        </span>\\r\\n                        <span class=\"btn btn-checkbox\">\\r\\n                            <label for=\"Pro_Accreditation_AMFLP\">\\r\\n                                <input type=\"checkbox\" id=\"Pro_Accreditation_AMFLP\" name=\"Accreditation\" value=\"AMFLP\" data-type=\"1\"  />\\r\\n                                Family - Advanced\\r\\n                                <i class=\"sprite\"></i>\\r\\n                            </label>\\r\\n                        </span>\\r\\n                        <span class=\"btn btn-checkbox\">\\r\\n                            <label for=\"Pro_Accreditation_HRACIVIL\">\\r\\n                                <input type=\"checkbox\" id=\"Pro_Accreditation_HRACIVIL\" name=\"Accreditation\" value=\"HRACIVIL\" data-type=\"1\"  />\\r\\n                                Higher courts rights - civil\\r\\n                                <i class=\"sprite\"></i>\\r\\n                            </label>\\r\\n                        </span>\\r\\n                        <span class=\"btn btn-checkbox\">\\r\\n                            <label for=\"Pro_Accreditation_HRABOTH\">\\r\\n                                <input type=\"checkbox\" id=\"Pro_Accreditation_HRABOTH\" name=\"Accreditation\" value=\"HRABOTH\" data-type=\"1\"  />\\r\\n                                Higher courts rights - civil &amp; criminal \\r\\n                                <i class=\"sprite\"></i>\\r\\n                            </label>\\r\\n                        </span>\\r\\n                        <span class=\"btn btn-checkbox\">\\r\\n                            <label for=\"Pro_Accreditation_HRAQLTT\">\\r\\n                                <input type=\"checkbox\" id=\"Pro_Accreditation_HRAQLTT\" name=\"Accreditation\" value=\"HRAQLTT\" data-type=\"1\"  />\\r\\n                                Higher courts rights - civil &amp; criminal, transferred \\r\\n                                <i class=\"sprite\"></i>\\r\\n                            </label>\\r\\n                        </span>\\r\\n                        <span class=\"btn btn-checkbox\">\\r\\n                            <label for=\"Pro_Accreditation_HRACRIM\">\\r\\n                                <input type=\"checkbox\" id=\"Pro_Accreditation_HRACRIM\" name=\"Accreditation\" value=\"HRACRIM\" data-type=\"1\"  />\\r\\n                                Higher courts rights - criminal\\r\\n                                <i class=\"sprite\"></i>\\r\\n                            </label>\\r\\n                        </span>\\r\\n                        <span class=\"btn btn-checkbox\">\\r\\n                            <label for=\"Pro_Accreditation_IMAAS03\">\\r\\n                                <input type=\"checkbox\" id=\"Pro_Accreditation_IMAAS03\" name=\"Accreditation\" value=\"IMAAS03\" data-type=\"1\"  />\\r\\n                                Immigration and Asylum - Advanced\\r\\n                                <i class=\"sprite\"></i>\\r\\n                            </label>\\r\\n                        </span>\\r\\n                        <span class=\"btn btn-checkbox\">\\r\\n                            <label for=\"Pro_Accreditation_IAREAC03\">\\r\\n                                <input type=\"checkbox\" id=\"Pro_Accreditation_IAREAC03\" name=\"Accreditation\" value=\"IAREAC03\" data-type=\"1\"  />\\r\\n                                Immigration and Asylum - Advanced Caseworker\\r\\n                                <i class=\"sprite\"></i>\\r\\n                            </label>\\r\\n                        </span>\\r\\n                        <span class=\"btn btn-checkbox\">\\r\\n                            <label for=\"Pro_Accreditation_IARECA01\">\\r\\n                                <input type=\"checkbox\" id=\"Pro_Accreditation_IARECA01\" name=\"Accreditation\" value=\"IARECA01\" data-type=\"1\"  />\\r\\n                                Immigration and Asylum - Casework Assistant\\r\\n                                <i class=\"sprite\"></i>\\r\\n                            </label>\\r\\n                        </span>\\r\\n                        <span class=\"btn btn-checkbox\">\\r\\n                            <label for=\"Pro_Accreditation_IMAAS01\">\\r\\n                                <input type=\"checkbox\" id=\"Pro_Accreditation_IMAAS01\" name=\"Accreditation\" value=\"IMAAS01\" data-type=\"1\"  />\\r\\n                                Immigration and Asylum - Level 1\\r\\n                                <i class=\"sprite\"></i>\\r\\n                            </label>\\r\\n                        </span>\\r\\n                        <span class=\"btn btn-checkbox\">\\r\\n                            <label for=\"Pro_Accreditation_IMAAS02\">\\r\\n                                <input type=\"checkbox\" id=\"Pro_Accreditation_IMAAS02\" name=\"Accreditation\" value=\"IMAAS02\" data-type=\"1\"  />\\r\\n                                Immigration and Asylum - Level 2\\r\\n                                <i class=\"sprite\"></i>\\r\\n                            </label>\\r\\n                        </span>\\r\\n                        <span class=\"btn btn-checkbox\">\\r\\n                            <label for=\"Pro_Accreditation_IMARESC02\">\\r\\n                                <input type=\"checkbox\" id=\"Pro_Accreditation_IMARESC02\" name=\"Accreditation\" value=\"IMARESC02\" data-type=\"1\"  />\\r\\n                                Immigration and Asylum - Senior Caseworker\\r\\n                                <i class=\"sprite\"></i>\\r\\n                            </label>\\r\\n                        </span>\\r\\n                        <span class=\"btn btn-checkbox\">\\r\\n                            <label for=\"Pro_Accreditation_IMARESC025\">\\r\\n                                <input type=\"checkbox\" id=\"Pro_Accreditation_IMARESC025\" name=\"Accreditation\" value=\"IMARESC025\" data-type=\"1\"  />\\r\\n                                Immigration and Asylum - Supervising Senior Caseworker\\r\\n                                <i class=\"sprite\"></i>\\r\\n                            </label>\\r\\n                        </span>\\r\\n                        <span class=\"btn btn-checkbox\">\\r\\n                            <label for=\"Pro_Accreditation_IMAAS-SUP\">\\r\\n                                <input type=\"checkbox\" id=\"Pro_Accreditation_IMAAS-SUP\" name=\"Accreditation\" value=\"IMAAS-SUP\" data-type=\"1\"  />\\r\\n                                Immigration and Asylum - Supervisor\\r\\n                                <i class=\"sprite\"></i>\\r\\n                            </label>\\r\\n                        </span>\\r\\n                        <span class=\"btn btn-checkbox\">\\r\\n                            <label for=\"Pro_Accreditation_IAREGTCA00\">\\r\\n                                <input type=\"checkbox\" id=\"Pro_Accreditation_IAREGTCA00\" name=\"Accreditation\" value=\"IAREGTCA00\" data-type=\"1\"  />\\r\\n                                Immigration and Asylum - Trainee Casework Assistant\\r\\n                                <i class=\"sprite\"></i>\\r\\n                            </label>\\r\\n                        </span>\\r\\n                        <span class=\"btn btn-checkbox\">\\r\\n                            <label for=\"Pro_Accreditation_LEXCEL\">\\r\\n                                <input type=\"checkbox\" id=\"Pro_Accreditation_LEXCEL\" name=\"Accreditation\" value=\"LEXCEL\" data-type=\"0\"  />\\r\\n                                Lexcel Practice Management Standard\\r\\n                                <i class=\"sprite\"></i>\\r\\n                            </label>\\r\\n                        </span>\\r\\n                        <span class=\"btn btn-checkbox\">\\r\\n                            <label for=\"Pro_Accreditation_AIP\">\\r\\n                                <input type=\"checkbox\" id=\"Pro_Accreditation_AIP\" name=\"Accreditation\" value=\"AIP\" data-type=\"1\"  />\\r\\n                                Licensed insolvency practitioner\\r\\n                                <i class=\"sprite\"></i>\\r\\n                            </label>\\r\\n                        </span>\\r\\n                        <span class=\"btn btn-checkbox\">\\r\\n                            <label for=\"Pro_Accreditation_GMFMP\">\\r\\n                                <input type=\"checkbox\" id=\"Pro_Accreditation_GMFMP\" name=\"Accreditation\" value=\"GMFMP\" data-type=\"1\"  />\\r\\n                                Mediation - Family\\r\\n                                <i class=\"sprite\"></i>\\r\\n                            </label>\\r\\n                        </span>\\r\\n                        <span class=\"btn btn-checkbox\">\\r\\n                            <label for=\"Pro_Accreditation_PMFMP\">\\r\\n                                <input type=\"checkbox\" id=\"Pro_Accreditation_PMFMP\" name=\"Accreditation\" value=\"PMFMP\" data-type=\"1\"  />\\r\\n                                Mediation - Family\\r\\n                                <i class=\"sprite\"></i>\\r\\n                            </label>\\r\\n                        </span>\\r\\n                        <span class=\"btn btn-checkbox\">\\r\\n                            <label for=\"Pro_Accreditation_MNCPW\">\\r\\n                                <input type=\"checkbox\" id=\"Pro_Accreditation_MNCPW\" name=\"Accreditation\" value=\"MNCPW\" data-type=\"1\"  />\\r\\n                                Mental Capacity (Welfare)\\r\\n                                <i class=\"sprite\"></i>\\r\\n                            </label>\\r\\n                        </span>\\r\\n                        <span class=\"btn btn-checkbox\">\\r\\n                            <label for=\"Pro_Accreditation_MNCPWA\">\\r\\n                                <input type=\"checkbox\" id=\"Pro_Accreditation_MNCPWA\" name=\"Accreditation\" value=\"MNCPWA\" data-type=\"1\"  />\\r\\n                                Mental Capacity (Welfare) - ALR\\r\\n                                <i class=\"sprite\"></i>\\r\\n                            </label>\\r\\n                        </span>\\r\\n                        <span class=\"btn btn-checkbox\">\\r\\n                            <label for=\"Pro_Accreditation_MMHRTP\">\\r\\n                                <input type=\"checkbox\" id=\"Pro_Accreditation_MMHRTP\" name=\"Accreditation\" value=\"MMHRTP\" data-type=\"1\"  />\\r\\n                                Mental Health\\r\\n                                <i class=\"sprite\"></i>\\r\\n                            </label>\\r\\n                        </span>\\r\\n                        <span class=\"btn btn-checkbox\">\\r\\n                            <label for=\"Pro_Accreditation_DSEAS\">\\r\\n                                <input type=\"checkbox\" id=\"Pro_Accreditation_DSEAS\" name=\"Accreditation\" value=\"DSEAS\" data-type=\"1\"  />\\r\\n                                Occupational Injury\\r\\n                                <i class=\"sprite\"></i>\\r\\n                            </label>\\r\\n                        </span>\\r\\n                        <span class=\"btn btn-checkbox\">\\r\\n                            <label for=\"Pro_Accreditation_MPIP\">\\r\\n                                <input type=\"checkbox\" id=\"Pro_Accreditation_MPIP\" name=\"Accreditation\" value=\"MPIP\" data-type=\"1\"  />\\r\\n                                Personal Injury\\r\\n                                <i class=\"sprite\"></i>\\r\\n                            </label>\\r\\n                        </span>\\r\\n                        <span class=\"btn btn-checkbox\">\\r\\n                            <label for=\"Pro_Accreditation_WQS\">\\r\\n                                <input type=\"checkbox\" id=\"Pro_Accreditation_WQS\" name=\"Accreditation\" value=\"WQS\" data-type=\"0\"  />\\r\\n                                Wills and Inheritance Quality Scheme\\r\\n                                <i class=\"sprite\"></i>\\r\\n                            </label>\\r\\n                        </span>\\r\\n            </fieldset>\\r\\n        </div>\\r\\n        <div class=\"right\">\\r\\n            \\r\\n            \\r\\n            <fieldset>\\r\\n                <legend>Memberships</legend>\\r\\n                        <span class=\"btn btn-checkbox\">\\r\\n                            <label for=\"Pro_Accreditation_LFYB\">\\r\\n                                <input type=\"checkbox\" id=\"Pro_Accreditation_LFYB\" name=\"Accreditation\" value=\"LFYB\" data-type=\"1\"  />\\r\\n                                Lawyers For Your Business\\r\\n                                <i class=\"sprite\" id=\"sprite_Lawyers For Your Business\"></i>\\r\\n                            </label>\\r\\n                        </span>\\r\\n            </fieldset>\\r\\n\\r\\n            \\r\\n            <fieldset>\\r\\n                <legend>Training Completed</legend>\\r\\n                        <span class=\"btn btn-checkbox\">\\r\\n                            <label for=\"Pro_Training_ADVVUL\">\\r\\n                            <input type=\"checkbox\" id=\"Pro_Training_ADVVUL\" name=\"Training\" value=\"ADVVUL\" data-type=\"1\"  />\\r\\n                                Advocacy and the Vulnerable \\r\\n                                <i class=\"sprite\"></i>\\r\\n                            </label>\\r\\n                        </span>\\r\\n            </fieldset>\\r\\n\\r\\n            <fieldset>\\r\\n                <legend>Access options</legend>\\r\\n                <span class=\"btn btn-checkbox\">\\r\\n                   <label for=\"Pro_LegalAid\">\\r\\n                        <input data-type=\"0\" id=\"Pro_LegalAid\" name=\"LegalAid\" type=\"checkbox\" value=\"True\" />\\r\\n                        Accepts legal aid\\r\\n                       <i class=\"sprite\"></i>\\r\\n                    </label>\\r\\n                </span>\\r\\n                <span class=\"btn btn-checkbox\">\\r\\n                    <label for=\"Pro_DisabledAccess\">\\r\\n                        <input data-type=\"0\" id=\"Pro_DisabledAccess\" name=\"DisabledAccess\" type=\"checkbox\" value=\"True\" />\\r\\n                        Disabled access to building\\r\\n                        <i class=\"sprite\"></i>\\r\\n                    </label>\\r\\n                </span>\\r\\n                <span class=\"btn btn-checkbox\">\\r\\n                    <label for=\"Pro_InductionLoop\">\\r\\n                        <input data-type=\"0\" id=\"Pro_InductionLoop\" name=\"InductionLoop\" type=\"checkbox\" value=\"True\" />\\r\\n                        Hearing induction loop\\r\\n                        <i class=\"sprite\"></i>\\r\\n                    </label>\\r\\n                </span>\\r\\n                <span class=\"btn btn-checkbox\">\\r\\n                    <label for=\"Pro_Bsl\">\\r\\n                        <input data-type=\"0\" id=\"Pro_Bsl\" name=\"Bsl\" type=\"checkbox\" value=\"True\" />\\r\\n                        British Sign Language\\r\\n                        <i class=\"sprite\"></i>\\r\\n                    </label>\\r\\n                </span>\\r\\n            </fieldset>\\r\\n\\r\\n            <label for=\"Pro_Language\">Language spoken</label>\\r\\n            <select id=\"Pro_Language\" name=\"Language\"><option value=\"\">Select one</option>\\r\\n<option value=\"AFR\">Afrikaans</option>\\r\\n<option value=\"ALB\">Albanian</option>\\r\\n<option value=\"AMH\">Amharic</option>\\r\\n<option value=\"ARA\">Arabic</option>\\r\\n<option value=\"ARC\">Aramaic</option>\\r\\n<option value=\"ARM\">Armenian</option>\\r\\n<option value=\"AZB\">Azerbaijani</option>\\r\\n<option value=\"BAH\">Bahasa</option>\\r\\n<option value=\"BAS\">Basque</option>\\r\\n<option value=\"BEN\">Bengali</option>\\r\\n<option value=\"BOS\">Bosnian</option>\\r\\n<option value=\"BSL\">British Sign Language</option>\\r\\n<option value=\"BUL\">Bulgarian</option>\\r\\n<option value=\"BUR\">Burmese</option>\\r\\n<option value=\"CAN\">Cantonese</option>\\r\\n<option value=\"CAT\">Catalan</option>\\r\\n<option value=\"CHA\">Chichewa</option>\\r\\n<option value=\"CHI\">Chinese</option>\\r\\n<option value=\"CRE\">Creole</option>\\r\\n<option value=\"CRO\">Croatian</option>\\r\\n<option value=\"CZE\">Czech</option>\\r\\n<option value=\"DAN\">Danish</option>\\r\\n<option value=\"DUT\">Dutch</option>\\r\\n<option value=\"EDO\">Edo</option>\\r\\n<option value=\"ENG\">English</option>\\r\\n<option value=\"ESP\">Esperanto</option>\\r\\n<option value=\"FAN\">Fanti</option>\\r\\n<option value=\"FAR\">Farsi (Persian)</option>\\r\\n<option value=\"FIN\">Finnish</option>\\r\\n<option value=\"FLE\">Flemish</option>\\r\\n<option value=\"FRE\">French</option>\\r\\n<option value=\"GA\">Ga</option>\\r\\n<option value=\"IRG\">Gaelic (Irish)</option>\\r\\n<option value=\"SCG\">Gaelic (Scottish)</option>\\r\\n<option value=\"GER\">German</option>\\r\\n<option value=\"GHA\">Ghanian</option>\\r\\n<option value=\"GRE\">Greek</option>\\r\\n<option value=\"GUJ\">Gujarati</option>\\r\\n<option value=\"HAK\">Hakka</option>\\r\\n<option value=\"HAU\">Hausa</option>\\r\\n<option value=\"HEB\">Hebrew</option>\\r\\n<option value=\"HIN\">Hindi</option>\\r\\n<option value=\"HOK\">Hokkien</option>\\r\\n<option value=\"HUN\">Hungarian</option>\\r\\n<option value=\"IBO\">Ibo</option>\\r\\n<option value=\"ICE\">Icelandic</option>\\r\\n<option value=\"IND\">Indonesian</option>\\r\\n<option value=\"IRA\">Iranian</option>\\r\\n<option value=\"ITA\">Italian</option>\\r\\n<option value=\"JAP\">Japanese</option>\\r\\n<option value=\"KAL\">Kalabari</option>\\r\\n<option value=\"KEK\">Kekchi</option>\\r\\n<option value=\"KSW\">Kiswahili</option>\\r\\n<option value=\"KOR\">Korean</option>\\r\\n<option value=\"KUR\">Kurdish</option>\\r\\n<option value=\"LAT\">Latin</option>\\r\\n<option value=\"LTV\">Latvian</option>\\r\\n<option value=\"LIT\">Lithuanian</option>\\r\\n<option value=\"LUG\">Luganda</option>\\r\\n<option value=\"MAC\">Macedonian</option>\\r\\n<option value=\"MAL\">Malay</option>\\r\\n<option value=\"MLM\">Malayalam</option>\\r\\n<option value=\"MSE\">Maltese</option>\\r\\n<option value=\"MAN\">Mandarin</option>\\r\\n<option value=\"MAO\">Maori</option>\\r\\n<option value=\"MAR\">Marathi</option>\\r\\n<option value=\"MIR\">Mirpuri</option>\\r\\n<option value=\"MON\">Mongolian</option>\\r\\n<option value=\"NEP\">Nepali</option>\\r\\n<option value=\"NGE\">Nigerian</option>\\r\\n<option value=\"NOR\">Norwegian</option>\\r\\n<option value=\"PER\">Persian (Same as Farsi)</option>\\r\\n<option value=\"POL\">Polish</option>\\r\\n<option value=\"POR\">Portuguese</option>\\r\\n<option value=\"PUN\">Punjabi</option>\\r\\n<option value=\"PUS\">Pushtu</option>\\r\\n<option value=\"ROM\">Romanian</option>\\r\\n<option value=\"RUS\">Russian</option>\\r\\n<option value=\"SRB\">Serbian</option>\\r\\n<option value=\"SER\">Serbo Croat</option>\\r\\n<option value=\"SHA\">Shanghainese</option>\\r\\n<option value=\"SIH\">Sindhi</option>\\r\\n<option value=\"SIN\">Sinhalese</option>\\r\\n<option value=\"SLV\">Slovak</option>\\r\\n<option value=\"SLO\">Slovenian</option>\\r\\n<option value=\"SOM\">Somali</option>\\r\\n<option value=\"SPA\">Spanish</option>\\r\\n<option value=\"SWA\">Swahili</option>\\r\\n<option value=\"SWE\">Swedish</option>\\r\\n<option value=\"SWG\">Swiss-German</option>\\r\\n<option value=\"SYC\">Sycheti</option>\\r\\n<option value=\"SYL\">Sylheti</option>\\r\\n<option value=\"TAG\">Tagalog</option>\\r\\n<option value=\"TAM\">Tamil</option>\\r\\n<option value=\"TEL\">Telugu</option>\\r\\n<option value=\"TEO\">Teochew</option>\\r\\n<option value=\"THA\">Thai</option>\\r\\n<option value=\"TUR\">Turkish</option>\\r\\n<option value=\"TWI\">Twi</option>\\r\\n<option value=\"UKA\">Ukrainian</option>\\r\\n<option value=\"URD\">Urdu</option>\\r\\n<option value=\"URH\">Urhobo</option>\\r\\n<option value=\"VNM\">Vietnamese</option>\\r\\n<option value=\"WEL\">Welsh</option>\\r\\n<option value=\"XHO\">Xhosa</option>\\r\\n<option value=\"YID\">Yiddish</option>\\r\\n<option value=\"YOR\">Yoruba</option>\\r\\n</select>\\r\\n        </div>\\r\\n\\r\\n    </div>\\r\\n<input id=\"parameters\" name=\"parameters\" type=\"hidden\" value=\",1;APL,0;,1;PUB,0;,1;ADV,0;,1;AGR,0;,1;AVI,0;,1;BAN,1;,1;BEN,0;,1;CHA,0;,1;CHI,0;,1;CLI,0;,1;COL,1;,1;PCO,1;,1;CCL,0;,1;COS,1;,1;COM,1;,1;CON,1;,1;CSU,0;,1;CSF,0;,1;CSG,0;,1;CUT,0;,1;CTR,1;,1;PRE,0;,1;CFI,1;,1;CRD,0;,1;CRF,0;,1;CRG,0;,1;CRJ,0;,1;CRL,0;,1;CRM,0;,1;CRS,0;,1;CRO,1;,1;DEB,0;,1;DTR,1;,1;DEF,0;,1;DRC,0;,1;DRO,1;,1;EDU,0;,1;ELC,0;,1;ELH,0;,1;EMP,1;,1;ENE,0;,1;ENV,0;,1;EUN,0;,1;FDS,0;,1;FAM,0;,1;FAL,0;,1;FMC,0;,1;FME,0;,1;FML,0;,1;FPL,0;,1;FIS,0;,1;HRI,0;,1;IMA,0;,1;IML,0;,1;IMM,0;,1;IMG,0;,1;IMN,0;,1;ITE,1;,1;INS,1;,1;IUR,1;,1;IPR,1;,1;JRW,0;,1;JRL,0;,1;LCO,1;,1;LRE,0;,1;POA,0;,1;LIC,1;,1;LIV,0;,1;LIS,0;,1;LIT,0;,1;LPH,0;,1;LPP,0;,1;MAR,0;,1;MED,1;,1;MHE,0;,1;MHL,0;,1;MAA,1;,1;MIL,0;,1;NDI,0;,1;PEN,1;,1;PIN,0;,1;PIR,0;,1;PLA,0;,1;PRZ,0;,1;PRP,0;,1;PRT,0;,1;PRW,0;,1;PCI,0;,1;PCP,0;,1;PCT,0;,1;PCW,0;,1;PNE,0;,1;TAX,0;,1;TAC,1;,1;TAE,0;,1;TAH,1;,1;TAM,0;,1;TAP,0;,1;TAT,0; \" />    <script type=\"text/javascript\">\\r\\n        //TODO: Move to own file\\r\\n\\r\\n        //get contents of hidden field\\r\\n        var str = document.getElementById(\"parameters\").value;\\r\\n\\r\\n        //get contents of the two DDLists\\r\\n        var aop1 = document.getElementById(\"Pro_AreaOfPractice1\").value;\\r\\n        var aop2 = document.getElementById(\"Pro_AreaOfPractice2\").value;\\r\\n\\r\\n        //call function onclick (works for keyboard input)\\r\\n        document.onclick = setAOP;\\r\\n\\r\\n\\r\\n        function setAOP()\\r\\n        {\\r\\n            //recheck contents of DDLists\\r\\n            aop1 = document.getElementById(\"Pro_AreaOfPractice1\").value;\\r\\n            aop2 = document.getElementById(\"Pro_AreaOfPractice2\").value;\\r\\n\\r\\n            //Get the two 0/1 vals\\r\\n            var displayOutput = returnLFYBDisplayVal(aop1) + \",\" + returnLFYBDisplayVal(aop2);\\r\\n\\r\\n            //if not 1,1 LFYB is disabled\\r\\n            //else enable it\\r\\n            if (displayOutput != \"1,1\")\\r\\n            {\\r\\n                document.getElementById(\"Pro_Accreditation_LFYB\").parentElement.className = \"btn btn-checkbox disabled membershipDisabled\";\\r\\n                document.getElementById(\"Pro_Accreditation_LFYB\").disabled = true;\\r\\n            }\\r\\n            else\\r\\n            {\\r\\n                document.getElementById(\"Pro_Accreditation_LFYB\").parentElement.className = \"\";\\r\\n                document.getElementById(\"Pro_Accreditation_LFYB\").disabled = false;\\r\\n            }\\r\\n        }\\r\\n        \\r\\n        function returnLFYBDisplayVal(aop)\\r\\n        {\\r\\n            //locate the substring and return the value at the specified character (0/1)\\r\\n            return str.charAt(str.search(aop) + (aop.length + 1));\\r\\n        }\\r\\n\\r\\n    </script>\\r\\n    <div class=\"form-row submit\">\\r\\n        <button type=\"submit\" class=\"btn btn-submit\">Search</button>\\r\\n\\r\\n        <div class=\"form-row more-options-toggle\">\\r\\n            <a href=\"#search-pane-pro-more-options\" data-toggle=\"collapse\" class=\"collapsed\">\\r\\n                <span class=\"more\">More search options <span class=\"icon\">+</span></span>\\r\\n                <span class=\"less\">Fewer search options <span class=\"icon\">-</span></span>\\r\\n            </a>\\r\\n        </div>\\r\\n\\r\\n\\r\\n    </div>\\r\\n</form>\\r\\n        </div>\\r\\n    </div>\\r\\n</div>\\r\\n</div>\\r\\n</div>\\r\\n\\r\\n<div class=\"row\">\\r\\n\\r\\n    <div id=\"main-content\" class=\"span3 main-content\">\\r\\n        \\r\\n\\r\\n<article class=\"solicitor solicitor-type-individual details\">\\r\\n    <a id=\"back-search\" class=\"btn btn-back hide\" href=\"aajavascript:void(0);\"><i class=\"icon\">&#xE761;</i> Back to search results</a>\\r\\n\\r\\n    <header>\\r\\n        <h1>John Michael Andrews</h1>\\r\\n            <p>\\r\\nSolicitor                                    <span class=\"related\">Admitted as a solicitor: 15/10/91</span>\\r\\n            </p>\\r\\n        \\r\\n            <dl>\\r\\n                <dt>SRA ID:</dt>\\r\\n                <dd>151708</dd>\\r\\n                <dt class=\"related\"><em class=\"highlight\" style=\"font-style:italic;\">SRA Regulated</em></dt>\\r\\n            </dl>\\r\\n        \\r\\n        \\r\\n\\r\\n<ul>\\r\\n\\r\\n\\r\\n</ul>\\r\\n\\r\\n\\r\\n\\r\\n\\r\\n    </header>\\r\\n\\r\\n    <div class=\"accordion hidden-phone\" id=\"details-accordion\">\\r\\n        <div class=\"accordion-group\" style=\"margin-top: -15px;\">\\r\\n            <section>\\r\\n    <div class=\"accordion-heading visible-phone\">\\r\\n        <h2>\\r\\n\\t        <a class=\"accordion-toggle \" data-toggle=\"collapse\" href=\"#main-details-accordion\">\\r\\n\\t\\t        <span class=\"text\">Individual details</span>\\r\\n                <span class=\"sr-only\"> - click to </span>\\r\\n\\t\\t        <span class=\"pull-right up\">Hide <i class=\"icon\">\\ue75f</i></span>\\r\\n\\t\\t        <span class=\"pull-right down\">Show <i class=\"icon\">\\ue75c</i></span>\\r\\n\\r\\n\\t        </a>\\r\\n        </h2>\\r\\n    </div>\\r\\n\\r\\n    <div id=\"main-details-accordion\" class=\"accordion-body collapse in expanded\">\\r\\n\\t    \\r\\n<script src=\"http://code.jquery.com/jquery-1.5.1.min.js\" type=\"text/javascript\"></script>\\r\\n<script type=\"text/javascript\">\\r\\n\\r\\n    /*d1   Sean Conlon - Set \\'number of positions an individual holds at an organisation check\\' to greater than zero\\r\\n                         as previous check \\'>1\\' was excluding individuals who only hold one position.  The affect of this\\r\\n                         was that the position held was not being displayed on the individuals profile page\\r\\n    */\\r\\n\\r\\n    $(document).ready(function () {\\r\\n        $(\".slidingDiv\").hide();\\r\\n        $(\".show_hide\").show();\\r\\n        $(\\'.show_hide\\').click(function () {\\r\\n            $(\".slidingDiv\").slideToggle();\\r\\n            var toggle = document.getElementById(\"showhide\").innerHTML;\\r\\n\\r\\n            if (toggle == \"hide\")\\r\\n            {\\r\\n                document.getElementById(\"showhide\").innerHTML = \"show\";\\r\\n            }\\r\\n            else\\r\\n            {\\r\\n                document.getElementById(\"showhide\").innerHTML = \"hide\";\\r\\n            }\\r\\n        });\\r\\n\\r\\n    });\\r\\n\\r\\n\\r\\n\\r\\n</script>\\r\\n\\r\\n    <div class=\"panel-half\">\\r\\n            <dl>\\r\\n\\r\\n                    <dt>Tel:</dt>\\r\\n                    <dd>020 8943 1441</dd>\\r\\n\\r\\n\\r\\n\\r\\n            </dl>\\r\\n\\r\\n        <dl>\\r\\n                <dt class=\"feature\">Member at:</dt>\\r\\n\\r\\n                <dd>\\r\\n                    <a href=\"/office/541493/morrisons-solicitors-llp\">Morrisons Solicitors LLP</a>\\r\\n                    <br />\\r\\n2nd Floor 8 Waldegrave Road, <br/>Teddington, <br/>Middlesex, <br/>TW11 8GT, <br/>England                        <br />\\r\\n                        <a href=\"http://maps.google.co.uk/maps?q=TW11 8GT\" target=\"_blank\">View in Google Maps</a>\\r\\n                </dd>\\r\\n        </dl>\\r\\n\\r\\n            <div class=\"panel-full\">\\r\\n                <dl>\\r\\n    <dt class=\"feature\">Roles at other organisations</dt>\\r\\n    <dd>\\r\\n    <ul>\\r\\n            <li>Director \\r\\n                - <a href=\"/office/477739/h-h-lawyers-limited\">H&amp;H Lawyers Limited</a>\\r\\n            </li>\\r\\n    </ul>\\r\\n    </dd>\\r\\n\\r\\n</dl>\\r\\n\\r\\n\\r\\n\\r\\n            </div>\\r\\n\\r\\n    </div>\\r\\n        <div class=\"panel-half\">\\r\\n            <dl>\\r\\n                <dt class=\"feature\">Roles at this organisation</dt>\\r\\n                <dd class=\"feature\">\\r\\n                    <ul>\\r\\n                                <li>SRA-approved manager - Member</li>\\r\\n                    </ul>\\r\\n                </dd>\\r\\n            </dl>\\r\\n        </div>\\r\\n\\r\\n    </div>\\r\\n</section>\\r\\n\\r\\n\\r\\n\\r\\n\\r\\n\\r\\n\\r\\n\\r\\n<section>\\r\\n    <div class=\"accordion-heading\">\\r\\n        <h2>\\r\\n\\t        <a class=\"accordion-toggle collapsed\" data-toggle=\"collapse\" href=\"#areas-of-practice-accordion\">\\r\\n\\t\\t        <span class=\"text\">Areas of practice</span>\\r\\n                <span class=\"sr-only\"> - click to </span>\\r\\n\\t\\t        <span class=\"pull-right up\">Hide <i class=\"icon\">\\ue75f</i></span>\\r\\n\\t\\t        <span class=\"pull-right down\">Show <i class=\"icon\">\\ue75c</i></span>\\r\\n\\r\\n\\t        </a>\\r\\n        </h2>\\r\\n    </div>\\r\\n\\r\\n    <div id=\"areas-of-practice-accordion\" class=\"accordion-body collapse \">\\r\\n\\t    <ul>\\r\\n        <li>\\r\\n            Commercial litigation\\r\\n\\r\\n        </li>\\r\\n        <li>\\r\\n            Debt and bankruptcy - personal\\r\\n\\r\\n        </li>\\r\\n        <li>\\r\\n            Debt recovery\\r\\n\\r\\n        </li>\\r\\n        <li>\\r\\n            Employment\\r\\n\\r\\n        </li>\\r\\n        <li>\\r\\n            Litigation - general\\r\\n\\r\\n        </li>\\r\\n        <li>\\r\\n            Mergers and acquisitions\\r\\n\\r\\n        </li>\\r\\n</ul>\\r\\n    </div>\\r\\n</section>\\r\\n\\r\\n\\r\\n\\r\\n<section>\\r\\n    <div class=\"accordion-heading\">\\r\\n        <h2>\\r\\n\\t        <a class=\"accordion-toggle collapsed\" data-toggle=\"collapse\" href=\"#languages-spoken-accordion\">\\r\\n\\t\\t        <span class=\"text\">Languages spoken</span>\\r\\n                <span class=\"sr-only\"> - click to </span>\\r\\n\\t\\t        <span class=\"pull-right up\">Hide <i class=\"icon\">\\ue75f</i></span>\\r\\n\\t\\t        <span class=\"pull-right down\">Show <i class=\"icon\">\\ue75c</i></span>\\r\\n\\r\\n\\t        </a>\\r\\n        </h2>\\r\\n    </div>\\r\\n\\r\\n    <div id=\"languages-spoken-accordion\" class=\"accordion-body collapse \">\\r\\n\\t    <ul>\\r\\n        <li>English</li>\\r\\n</ul>\\r\\n    </div>\\r\\n</section>\\r\\n    \\r\\n    \\r\\n        </div>\\r\\n    </div>\\r\\n</article>\\r\\n\\r\\n<div class=\"hidden-phone\">\\r\\n    <p class=\"InfoMessage\">\\r\\n        <span class=\"icon\"></span>\\r\\n        <strong>Where does this information come from?</strong>\\r\\n        <br />\\r\\n        Most information on this page comes from the Solicitors Regulation Authority. However, some information may\\r\\n        have been edited directly by the professional, firm or their representative. <a href=\"/informationsources\">Find out more.</a> <br />\\r\\n    </p>\\r\\n    <br />\\r\\n\\r\\n    <p class=\"your-profile\">\\r\\n        <span class=\"icon\">âš\\xa0</span>\\r\\n        <strong>Are these your details?</strong>\\r\\n        <br />\\r\\n        You can update your Find a Solicitor profile by logging in to <a href=\"https://www.lawsociety.org.uk/log-in/\">My Law Society</a>.<br/> <a href=\"https://www.lawsociety.org.uk/about-the-website/site-help/find-a-solicitor\">Online help about updating your Find a Solicitor profile</a>.\\r\\n        <br />\\r\\n        <br />\\r\\n        For additional help with updating these details please call +44 (0)20 7320 5757 (Monday to Friday from 09:00 to 17:00 charged at local call rates) or <a href=\"mailto:thesupportcentre@lawsociety.org.uk\">email</a> us.\\r\\n    </p>\\r\\n    <br />\\r\\n    <p class=\"report-problem\">\\r\\n        <span class=\"icon\">⚠</span>\\r\\n        <strong>Report abuse</strong>\\r\\n        <br />\\r\\n        To notify the Law Society about any inappropriate or offensive content displayed on Find a Solicitor, please <a href=\"mailto:findasolicitorfeedback@LawSociety.org.uk\">email</a> us.\\r\\n    </p>\\r\\n\\r\\n\\r\\n\\r\\n\\r\\n\\r\\n</div>\\r\\n\\r\\n\\r\\n   \\r\\n\\r\\n    </div>\\r\\n\\r\\n    <div class=\"span1 right-sidebar\">\\r\\n        \\r\\n\\r\\n\\r\\n\\r\\n\\r\\n\\r\\n\\r\\n\\r\\n\\r\\n    </div>\\r\\n</div>\\r\\n\\r\\n\\r\\n    </div>\\r\\n\\r\\n    <footer>\\r\\n        <div class=\"container\">\\r\\n            <div class=\"row\">\\r\\n                <div class=\"span2\">\\r\\n                    <ul class=\"inline\">\\r\\n\\t<li><a href=\"/about\">About</a></li>\\r\\n\\t<li><a accesskey=\"6\" href=\"/help\">Help</a></li>\\r\\n\\t<li><a href=\"http://www.lawsociety.org.uk/get-in-touch/\" accesskey=\"9\" rel=\"external\">Contact us</a></li>\\r\\n\\t<li><a href=\"/cookies\">Cookies</a></li>\\r\\n\\t<li><a accesskey=\"8\" href=\"/legal\">Legal</a></li>\\r\\n\\t<li><a href=\"http://www.lawsociety.org.uk/About-The-Website/Privacy-statement/\" rel=\"external\">Privacy</a></li>\\r\\n    <li><a accesskey=\"0\" href=\"/accessibility\">Accessibility</a></li>\\r\\n\\t\\r\\n    <li class=\"visible-phone\"><a href=\"/informationsources\">Information Sources</a></li>\\r\\n</ul>\\r\\n\\r\\n                </div>\\r\\n                <div class=\"span2\">\\r\\n                    <span class=\"copyright pull-right\">\\r\\n                        &copy;\\r\\n                        <script>new Date().getFullYear() > document.write(new Date().getFullYear());</script> Law Society. All Rights Reserved.\\r\\n                    </span>\\r\\n                </div>\\r\\n            </div>\\r\\n        </div>\\r\\n    </footer>\\r\\n\\r\\n    \\r\\n    <script src=\"//ajax.googleapis.com/ajax/libs/jquery/1.10.2/jquery.min.js\"></script>\\r\\n\\r\\n    <script>window.$ || document.write(\\'<script src=\"content/scripts/libs/jquery-1.10.2.min.js\"><\\\\/script>\\');</script>\\r\\n\\r\\n    <script src=\"/bundles/all.js?v=g_pK5weHex0nN6uuRF3CbdpJIJJLTaGxipqa-XJRfvQ1\"></script>\\r\\n\\r\\n\\r\\n    \\r\\n    \\r\\n\\r\\n\\r\\n    <!--[if lt IE 10]>\\r\\n    <script src=\"/Content/scripts/plugins/jquery.placeholder.js\"></script>\\r\\n    <script>\\r\\n        $(function () {\\r\\n            $(\\'input, textarea\\').placeholder();\\r\\n        });\\r\\n    </script>\\r\\n    <![endif]-->\\r\\n\\r\\n</body>\\r\\n</html>')"
      ]
     },
     "execution_count": 75,
     "metadata": {},
     "output_type": "execute_result"
    }
   ],
   "source": [
    "result = await main(base_url+str(2))\n",
    "result"
   ]
  },
  {
   "cell_type": "code",
   "execution_count": 76,
   "metadata": {
    "scrolled": false
   },
   "outputs": [],
   "source": [
    "async def load_list(base_url, url_indices):\n",
    "    return await asyncio.gather(*[main(base_url+str(index)) for index in url_indices])"
   ]
  },
  {
   "cell_type": "code",
   "execution_count": 165,
   "metadata": {
    "collapsed": true
   },
   "outputs": [
    {
     "name": "stdout",
     "output_type": "stream",
     "text": [
      "55350, 55400, 55450, 55500, 55550, 55600, 55650, 55700, 55750, 55800, 55850, 55900, 55950, 56000, 56050, 56100, 56150, 56200, 56250, 56300, 56350, 56400, 56450, 56500, 56550, 56600, 56650, 56700, 56750, 56800, 56850, 56900, 56950, 57000, 57050, 57100, 57150, 57200, 57250, 57300, 57350, 57400, 57450, 57500, 57550, 57600, 57650, 57700, 57750, 57800, 57850, 57900, 57950, 58000, 58050, 58100, 58150, 58200, 58250, 58300, 58350, 58400, 58450, 58500, 58550, 58600, 58650, 58700, 58750, 58800, 58850, 58900, 58950, 59000, 59050, 59100, 59150, 59200, 59250, 59300, 59350, 59400, 59450, 59500, 59550, 59600, 59650, 59700, 59750, 59800, 59850, 59900, 59950, 60000, 60050, 60100, 60150, 60200, 60250, "
     ]
    },
    {
     "ename": "ClientConnectorError",
     "evalue": "Cannot connect to host solicitors.lawsociety.org.uk:443 ssl:default [nodename nor servname provided, or not known]",
     "output_type": "error",
     "traceback": [
      "\u001b[0;31m---------------------------------------------------------------------------\u001b[0m",
      "\u001b[0;31mgaierror\u001b[0m                                  Traceback (most recent call last)",
      "\u001b[0;32m~/opt/anaconda3/lib/python3.7/site-packages/aiohttp/connector.py\u001b[0m in \u001b[0;36m_create_direct_connection\u001b[0;34m(self, req, traces, timeout, client_error)\u001b[0m\n\u001b[1;32m    966\u001b[0m                 \u001b[0mport\u001b[0m\u001b[0;34m,\u001b[0m\u001b[0;34m\u001b[0m\u001b[0;34m\u001b[0m\u001b[0m\n\u001b[0;32m--> 967\u001b[0;31m                 traces=traces), loop=self._loop)\n\u001b[0m\u001b[1;32m    968\u001b[0m         \u001b[0;32mexcept\u001b[0m \u001b[0mOSError\u001b[0m \u001b[0;32mas\u001b[0m \u001b[0mexc\u001b[0m\u001b[0;34m:\u001b[0m\u001b[0;34m\u001b[0m\u001b[0;34m\u001b[0m\u001b[0m\n",
      "\u001b[0;32m~/opt/anaconda3/lib/python3.7/site-packages/aiohttp/connector.py\u001b[0m in \u001b[0;36m_resolve_host\u001b[0;34m(self, host, port, traces)\u001b[0m\n\u001b[1;32m    829\u001b[0m                 \u001b[0maddrs\u001b[0m \u001b[0;34m=\u001b[0m \u001b[0;32mawait\u001b[0m\u001b[0;31m \u001b[0m\u001b[0;31m\\\u001b[0m\u001b[0;34m\u001b[0m\u001b[0;34m\u001b[0m\u001b[0m\n\u001b[0;32m--> 830\u001b[0;31m                     \u001b[0mself\u001b[0m\u001b[0;34m.\u001b[0m\u001b[0m_resolver\u001b[0m\u001b[0;34m.\u001b[0m\u001b[0mresolve\u001b[0m\u001b[0;34m(\u001b[0m\u001b[0mhost\u001b[0m\u001b[0;34m,\u001b[0m \u001b[0mport\u001b[0m\u001b[0;34m,\u001b[0m \u001b[0mfamily\u001b[0m\u001b[0;34m=\u001b[0m\u001b[0mself\u001b[0m\u001b[0;34m.\u001b[0m\u001b[0m_family\u001b[0m\u001b[0;34m)\u001b[0m\u001b[0;34m\u001b[0m\u001b[0;34m\u001b[0m\u001b[0m\n\u001b[0m\u001b[1;32m    831\u001b[0m                 \u001b[0;32mif\u001b[0m \u001b[0mtraces\u001b[0m\u001b[0;34m:\u001b[0m\u001b[0;34m\u001b[0m\u001b[0;34m\u001b[0m\u001b[0m\n",
      "\u001b[0;32m~/opt/anaconda3/lib/python3.7/site-packages/aiohttp/resolver.py\u001b[0m in \u001b[0;36mresolve\u001b[0;34m(self, host, port, family)\u001b[0m\n\u001b[1;32m     29\u001b[0m         infos = await self._loop.getaddrinfo(\n\u001b[0;32m---> 30\u001b[0;31m             host, port, type=socket.SOCK_STREAM, family=family)\n\u001b[0m\u001b[1;32m     31\u001b[0m \u001b[0;34m\u001b[0m\u001b[0m\n",
      "\u001b[0;32m~/opt/anaconda3/lib/python3.7/asyncio/base_events.py\u001b[0m in \u001b[0;36mgetaddrinfo\u001b[0;34m(self, host, port, family, type, proto, flags)\u001b[0m\n\u001b[1;32m    783\u001b[0m         return await self.run_in_executor(\n\u001b[0;32m--> 784\u001b[0;31m             None, getaddr_func, host, port, family, type, proto, flags)\n\u001b[0m\u001b[1;32m    785\u001b[0m \u001b[0;34m\u001b[0m\u001b[0m\n",
      "\u001b[0;32m~/opt/anaconda3/lib/python3.7/concurrent/futures/thread.py\u001b[0m in \u001b[0;36mrun\u001b[0;34m(self)\u001b[0m\n\u001b[1;32m     56\u001b[0m         \u001b[0;32mtry\u001b[0m\u001b[0;34m:\u001b[0m\u001b[0;34m\u001b[0m\u001b[0;34m\u001b[0m\u001b[0m\n\u001b[0;32m---> 57\u001b[0;31m             \u001b[0mresult\u001b[0m \u001b[0;34m=\u001b[0m \u001b[0mself\u001b[0m\u001b[0;34m.\u001b[0m\u001b[0mfn\u001b[0m\u001b[0;34m(\u001b[0m\u001b[0;34m*\u001b[0m\u001b[0mself\u001b[0m\u001b[0;34m.\u001b[0m\u001b[0margs\u001b[0m\u001b[0;34m,\u001b[0m \u001b[0;34m**\u001b[0m\u001b[0mself\u001b[0m\u001b[0;34m.\u001b[0m\u001b[0mkwargs\u001b[0m\u001b[0;34m)\u001b[0m\u001b[0;34m\u001b[0m\u001b[0;34m\u001b[0m\u001b[0m\n\u001b[0m\u001b[1;32m     58\u001b[0m         \u001b[0;32mexcept\u001b[0m \u001b[0mBaseException\u001b[0m \u001b[0;32mas\u001b[0m \u001b[0mexc\u001b[0m\u001b[0;34m:\u001b[0m\u001b[0;34m\u001b[0m\u001b[0;34m\u001b[0m\u001b[0m\n",
      "\u001b[0;32m~/opt/anaconda3/lib/python3.7/socket.py\u001b[0m in \u001b[0;36mgetaddrinfo\u001b[0;34m(host, port, family, type, proto, flags)\u001b[0m\n\u001b[1;32m    747\u001b[0m     \u001b[0maddrlist\u001b[0m \u001b[0;34m=\u001b[0m \u001b[0;34m[\u001b[0m\u001b[0;34m]\u001b[0m\u001b[0;34m\u001b[0m\u001b[0;34m\u001b[0m\u001b[0m\n\u001b[0;32m--> 748\u001b[0;31m     \u001b[0;32mfor\u001b[0m \u001b[0mres\u001b[0m \u001b[0;32min\u001b[0m \u001b[0m_socket\u001b[0m\u001b[0;34m.\u001b[0m\u001b[0mgetaddrinfo\u001b[0m\u001b[0;34m(\u001b[0m\u001b[0mhost\u001b[0m\u001b[0;34m,\u001b[0m \u001b[0mport\u001b[0m\u001b[0;34m,\u001b[0m \u001b[0mfamily\u001b[0m\u001b[0;34m,\u001b[0m \u001b[0mtype\u001b[0m\u001b[0;34m,\u001b[0m \u001b[0mproto\u001b[0m\u001b[0;34m,\u001b[0m \u001b[0mflags\u001b[0m\u001b[0;34m)\u001b[0m\u001b[0;34m:\u001b[0m\u001b[0;34m\u001b[0m\u001b[0;34m\u001b[0m\u001b[0m\n\u001b[0m\u001b[1;32m    749\u001b[0m         \u001b[0maf\u001b[0m\u001b[0;34m,\u001b[0m \u001b[0msocktype\u001b[0m\u001b[0;34m,\u001b[0m \u001b[0mproto\u001b[0m\u001b[0;34m,\u001b[0m \u001b[0mcanonname\u001b[0m\u001b[0;34m,\u001b[0m \u001b[0msa\u001b[0m \u001b[0;34m=\u001b[0m \u001b[0mres\u001b[0m\u001b[0;34m\u001b[0m\u001b[0;34m\u001b[0m\u001b[0m\n",
      "\u001b[0;31mgaierror\u001b[0m: [Errno 8] nodename nor servname provided, or not known",
      "\nThe above exception was the direct cause of the following exception:\n",
      "\u001b[0;31mClientConnectorError\u001b[0m                      Traceback (most recent call last)",
      "\u001b[0;32m<ipython-input-165-ecf5b6697765>\u001b[0m in \u001b[0;36masync-def-wrapper\u001b[0;34m()\u001b[0m\n\u001b[1;32m     16\u001b[0m \u001b[0;34m\u001b[0m\u001b[0m\n\u001b[1;32m     17\u001b[0m     \u001b[0mdf_new\u001b[0m \u001b[0;34m=\u001b[0m \u001b[0mpd\u001b[0m\u001b[0;34m.\u001b[0m\u001b[0mDataFrame\u001b[0m\u001b[0;34m(\u001b[0m\u001b[0mresult_list\u001b[0m\u001b[0;34m,\u001b[0m \u001b[0mcolumns\u001b[0m\u001b[0;34m=\u001b[0m\u001b[0;34m[\u001b[0m\u001b[0;34m'status'\u001b[0m\u001b[0;34m,\u001b[0m \u001b[0;34m'text'\u001b[0m\u001b[0;34m]\u001b[0m\u001b[0;34m)\u001b[0m\u001b[0;34m\u001b[0m\u001b[0;34m\u001b[0m\u001b[0m\n\u001b[0;32m---> 18\u001b[0;31m \u001b[0;34m\u001b[0m\u001b[0m\n\u001b[0m\u001b[1;32m     19\u001b[0m     \u001b[0mprint\u001b[0m\u001b[0;34m(\u001b[0m\u001b[0;34m(\u001b[0m\u001b[0mbatch_index\u001b[0m\u001b[0;34m+\u001b[0m\u001b[0;36m1\u001b[0m\u001b[0;34m)\u001b[0m\u001b[0;34m*\u001b[0m\u001b[0mbatch_size\u001b[0m\u001b[0;34m,\u001b[0m \u001b[0mend\u001b[0m\u001b[0;34m=\u001b[0m\u001b[0;34m', '\u001b[0m\u001b[0;34m)\u001b[0m\u001b[0;34m\u001b[0m\u001b[0;34m\u001b[0m\u001b[0m\n\u001b[1;32m     20\u001b[0m \u001b[0;34m\u001b[0m\u001b[0m\n",
      "\u001b[0;32m<ipython-input-76-df7b0ae09369>\u001b[0m in \u001b[0;36mload_list\u001b[0;34m(base_url, url_indices)\u001b[0m\n\u001b[1;32m      1\u001b[0m \u001b[0;32masync\u001b[0m \u001b[0;32mdef\u001b[0m \u001b[0mload_list\u001b[0m\u001b[0;34m(\u001b[0m\u001b[0mbase_url\u001b[0m\u001b[0;34m,\u001b[0m \u001b[0murl_indices\u001b[0m\u001b[0;34m)\u001b[0m\u001b[0;34m:\u001b[0m\u001b[0;34m\u001b[0m\u001b[0;34m\u001b[0m\u001b[0m\n\u001b[0;32m----> 2\u001b[0;31m     \u001b[0;32mreturn\u001b[0m \u001b[0;32mawait\u001b[0m \u001b[0masyncio\u001b[0m\u001b[0;34m.\u001b[0m\u001b[0mgather\u001b[0m\u001b[0;34m(\u001b[0m\u001b[0;34m*\u001b[0m\u001b[0;34m[\u001b[0m\u001b[0mmain\u001b[0m\u001b[0;34m(\u001b[0m\u001b[0mbase_url\u001b[0m\u001b[0;34m+\u001b[0m\u001b[0mstr\u001b[0m\u001b[0;34m(\u001b[0m\u001b[0mindex\u001b[0m\u001b[0;34m)\u001b[0m\u001b[0;34m)\u001b[0m \u001b[0;32mfor\u001b[0m \u001b[0mindex\u001b[0m \u001b[0;32min\u001b[0m \u001b[0murl_indices\u001b[0m\u001b[0;34m]\u001b[0m\u001b[0;34m)\u001b[0m\u001b[0;34m\u001b[0m\u001b[0;34m\u001b[0m\u001b[0m\n\u001b[0m",
      "\u001b[0;32m<ipython-input-74-18593e028886>\u001b[0m in \u001b[0;36mmain\u001b[0;34m(url)\u001b[0m\n\u001b[1;32m      5\u001b[0m \u001b[0;32masync\u001b[0m \u001b[0;32mdef\u001b[0m \u001b[0mmain\u001b[0m\u001b[0;34m(\u001b[0m\u001b[0murl\u001b[0m\u001b[0;34m)\u001b[0m\u001b[0;34m:\u001b[0m\u001b[0;34m\u001b[0m\u001b[0;34m\u001b[0m\u001b[0m\n\u001b[1;32m      6\u001b[0m     \u001b[0;32masync\u001b[0m \u001b[0;32mwith\u001b[0m \u001b[0maiohttp\u001b[0m\u001b[0;34m.\u001b[0m\u001b[0mClientSession\u001b[0m\u001b[0;34m(\u001b[0m\u001b[0;34m)\u001b[0m \u001b[0;32mas\u001b[0m \u001b[0msession\u001b[0m\u001b[0;34m:\u001b[0m\u001b[0;34m\u001b[0m\u001b[0;34m\u001b[0m\u001b[0m\n\u001b[0;32m----> 7\u001b[0;31m         \u001b[0;32mreturn\u001b[0m \u001b[0;32mawait\u001b[0m \u001b[0mfetch\u001b[0m\u001b[0;34m(\u001b[0m\u001b[0msession\u001b[0m\u001b[0;34m,\u001b[0m \u001b[0murl\u001b[0m\u001b[0;34m)\u001b[0m\u001b[0;34m\u001b[0m\u001b[0;34m\u001b[0m\u001b[0m\n\u001b[0m\u001b[1;32m      8\u001b[0m         \u001b[0;31m#print(status, html)\u001b[0m\u001b[0;34m\u001b[0m\u001b[0;34m\u001b[0m\u001b[0;34m\u001b[0m\u001b[0m\n",
      "\u001b[0;32m<ipython-input-74-18593e028886>\u001b[0m in \u001b[0;36mfetch\u001b[0;34m(session, url)\u001b[0m\n\u001b[1;32m      1\u001b[0m \u001b[0;32masync\u001b[0m \u001b[0;32mdef\u001b[0m \u001b[0mfetch\u001b[0m\u001b[0;34m(\u001b[0m\u001b[0msession\u001b[0m\u001b[0;34m,\u001b[0m \u001b[0murl\u001b[0m\u001b[0;34m)\u001b[0m\u001b[0;34m:\u001b[0m\u001b[0;34m\u001b[0m\u001b[0;34m\u001b[0m\u001b[0m\n\u001b[0;32m----> 2\u001b[0;31m     \u001b[0;32masync\u001b[0m \u001b[0;32mwith\u001b[0m \u001b[0msession\u001b[0m\u001b[0;34m.\u001b[0m\u001b[0mget\u001b[0m\u001b[0;34m(\u001b[0m\u001b[0murl\u001b[0m\u001b[0;34m)\u001b[0m \u001b[0;32mas\u001b[0m \u001b[0mresponse\u001b[0m\u001b[0;34m:\u001b[0m\u001b[0;34m\u001b[0m\u001b[0;34m\u001b[0m\u001b[0m\n\u001b[0m\u001b[1;32m      3\u001b[0m         \u001b[0;32mreturn\u001b[0m \u001b[0mresponse\u001b[0m\u001b[0;34m.\u001b[0m\u001b[0mstatus\u001b[0m\u001b[0;34m,\u001b[0m \u001b[0;32mawait\u001b[0m \u001b[0mresponse\u001b[0m\u001b[0;34m.\u001b[0m\u001b[0mtext\u001b[0m\u001b[0;34m(\u001b[0m\u001b[0;34m)\u001b[0m\u001b[0;34m\u001b[0m\u001b[0;34m\u001b[0m\u001b[0m\n\u001b[1;32m      4\u001b[0m \u001b[0;34m\u001b[0m\u001b[0m\n\u001b[1;32m      5\u001b[0m \u001b[0;32masync\u001b[0m \u001b[0;32mdef\u001b[0m \u001b[0mmain\u001b[0m\u001b[0;34m(\u001b[0m\u001b[0murl\u001b[0m\u001b[0;34m)\u001b[0m\u001b[0;34m:\u001b[0m\u001b[0;34m\u001b[0m\u001b[0;34m\u001b[0m\u001b[0m\n",
      "\u001b[0;32m~/opt/anaconda3/lib/python3.7/site-packages/aiohttp/client.py\u001b[0m in \u001b[0;36m__aenter__\u001b[0;34m(self)\u001b[0m\n\u001b[1;32m   1010\u001b[0m \u001b[0;34m\u001b[0m\u001b[0m\n\u001b[1;32m   1011\u001b[0m     \u001b[0;32masync\u001b[0m \u001b[0;32mdef\u001b[0m \u001b[0m__aenter__\u001b[0m\u001b[0;34m(\u001b[0m\u001b[0mself\u001b[0m\u001b[0;34m)\u001b[0m \u001b[0;34m->\u001b[0m \u001b[0m_RetType\u001b[0m\u001b[0;34m:\u001b[0m\u001b[0;34m\u001b[0m\u001b[0;34m\u001b[0m\u001b[0m\n\u001b[0;32m-> 1012\u001b[0;31m         \u001b[0mself\u001b[0m\u001b[0;34m.\u001b[0m\u001b[0m_resp\u001b[0m \u001b[0;34m=\u001b[0m \u001b[0;32mawait\u001b[0m \u001b[0mself\u001b[0m\u001b[0;34m.\u001b[0m\u001b[0m_coro\u001b[0m\u001b[0;34m\u001b[0m\u001b[0;34m\u001b[0m\u001b[0m\n\u001b[0m\u001b[1;32m   1013\u001b[0m         \u001b[0;32mreturn\u001b[0m \u001b[0mself\u001b[0m\u001b[0;34m.\u001b[0m\u001b[0m_resp\u001b[0m\u001b[0;34m\u001b[0m\u001b[0;34m\u001b[0m\u001b[0m\n\u001b[1;32m   1014\u001b[0m \u001b[0;34m\u001b[0m\u001b[0m\n",
      "\u001b[0;32m~/opt/anaconda3/lib/python3.7/site-packages/aiohttp/client.py\u001b[0m in \u001b[0;36m_request\u001b[0;34m(self, method, str_or_url, params, data, json, cookies, headers, skip_auto_headers, auth, allow_redirects, max_redirects, compress, chunked, expect100, raise_for_status, read_until_eof, proxy, proxy_auth, timeout, verify_ssl, fingerprint, ssl_context, ssl, proxy_headers, trace_request_ctx)\u001b[0m\n\u001b[1;32m    481\u001b[0m                                 \u001b[0mreq\u001b[0m\u001b[0;34m,\u001b[0m\u001b[0;34m\u001b[0m\u001b[0;34m\u001b[0m\u001b[0m\n\u001b[1;32m    482\u001b[0m                                 \u001b[0mtraces\u001b[0m\u001b[0;34m=\u001b[0m\u001b[0mtraces\u001b[0m\u001b[0;34m,\u001b[0m\u001b[0;34m\u001b[0m\u001b[0;34m\u001b[0m\u001b[0m\n\u001b[0;32m--> 483\u001b[0;31m                                 \u001b[0mtimeout\u001b[0m\u001b[0;34m=\u001b[0m\u001b[0mreal_timeout\u001b[0m\u001b[0;34m\u001b[0m\u001b[0;34m\u001b[0m\u001b[0m\n\u001b[0m\u001b[1;32m    484\u001b[0m                             )\n\u001b[1;32m    485\u001b[0m                     \u001b[0;32mexcept\u001b[0m \u001b[0masyncio\u001b[0m\u001b[0;34m.\u001b[0m\u001b[0mTimeoutError\u001b[0m \u001b[0;32mas\u001b[0m \u001b[0mexc\u001b[0m\u001b[0;34m:\u001b[0m\u001b[0;34m\u001b[0m\u001b[0;34m\u001b[0m\u001b[0m\n",
      "\u001b[0;32m~/opt/anaconda3/lib/python3.7/site-packages/aiohttp/connector.py\u001b[0m in \u001b[0;36mconnect\u001b[0;34m(self, req, traces, timeout)\u001b[0m\n\u001b[1;32m    521\u001b[0m \u001b[0;34m\u001b[0m\u001b[0m\n\u001b[1;32m    522\u001b[0m             \u001b[0;32mtry\u001b[0m\u001b[0;34m:\u001b[0m\u001b[0;34m\u001b[0m\u001b[0;34m\u001b[0m\u001b[0m\n\u001b[0;32m--> 523\u001b[0;31m                 \u001b[0mproto\u001b[0m \u001b[0;34m=\u001b[0m \u001b[0;32mawait\u001b[0m \u001b[0mself\u001b[0m\u001b[0;34m.\u001b[0m\u001b[0m_create_connection\u001b[0m\u001b[0;34m(\u001b[0m\u001b[0mreq\u001b[0m\u001b[0;34m,\u001b[0m \u001b[0mtraces\u001b[0m\u001b[0;34m,\u001b[0m \u001b[0mtimeout\u001b[0m\u001b[0;34m)\u001b[0m\u001b[0;34m\u001b[0m\u001b[0;34m\u001b[0m\u001b[0m\n\u001b[0m\u001b[1;32m    524\u001b[0m                 \u001b[0;32mif\u001b[0m \u001b[0mself\u001b[0m\u001b[0;34m.\u001b[0m\u001b[0m_closed\u001b[0m\u001b[0;34m:\u001b[0m\u001b[0;34m\u001b[0m\u001b[0;34m\u001b[0m\u001b[0m\n\u001b[1;32m    525\u001b[0m                     \u001b[0mproto\u001b[0m\u001b[0;34m.\u001b[0m\u001b[0mclose\u001b[0m\u001b[0;34m(\u001b[0m\u001b[0;34m)\u001b[0m\u001b[0;34m\u001b[0m\u001b[0;34m\u001b[0m\u001b[0m\n",
      "\u001b[0;32m~/opt/anaconda3/lib/python3.7/site-packages/aiohttp/connector.py\u001b[0m in \u001b[0;36m_create_connection\u001b[0;34m(self, req, traces, timeout)\u001b[0m\n\u001b[1;32m    857\u001b[0m         \u001b[0;32melse\u001b[0m\u001b[0;34m:\u001b[0m\u001b[0;34m\u001b[0m\u001b[0;34m\u001b[0m\u001b[0m\n\u001b[1;32m    858\u001b[0m             _, proto = await self._create_direct_connection(\n\u001b[0;32m--> 859\u001b[0;31m                 req, traces, timeout)\n\u001b[0m\u001b[1;32m    860\u001b[0m \u001b[0;34m\u001b[0m\u001b[0m\n\u001b[1;32m    861\u001b[0m         \u001b[0;32mreturn\u001b[0m \u001b[0mproto\u001b[0m\u001b[0;34m\u001b[0m\u001b[0;34m\u001b[0m\u001b[0m\n",
      "\u001b[0;32m~/opt/anaconda3/lib/python3.7/site-packages/aiohttp/connector.py\u001b[0m in \u001b[0;36m_create_direct_connection\u001b[0;34m(self, req, traces, timeout, client_error)\u001b[0m\n\u001b[1;32m    969\u001b[0m             \u001b[0;31m# in case of proxy it is not ClientProxyConnectionError\u001b[0m\u001b[0;34m\u001b[0m\u001b[0;34m\u001b[0m\u001b[0;34m\u001b[0m\u001b[0m\n\u001b[1;32m    970\u001b[0m             \u001b[0;31m# it is problem of resolving proxy ip itself\u001b[0m\u001b[0;34m\u001b[0m\u001b[0;34m\u001b[0m\u001b[0;34m\u001b[0m\u001b[0m\n\u001b[0;32m--> 971\u001b[0;31m             \u001b[0;32mraise\u001b[0m \u001b[0mClientConnectorError\u001b[0m\u001b[0;34m(\u001b[0m\u001b[0mreq\u001b[0m\u001b[0;34m.\u001b[0m\u001b[0mconnection_key\u001b[0m\u001b[0;34m,\u001b[0m \u001b[0mexc\u001b[0m\u001b[0;34m)\u001b[0m \u001b[0;32mfrom\u001b[0m \u001b[0mexc\u001b[0m\u001b[0;34m\u001b[0m\u001b[0;34m\u001b[0m\u001b[0m\n\u001b[0m\u001b[1;32m    972\u001b[0m \u001b[0;34m\u001b[0m\u001b[0m\n\u001b[1;32m    973\u001b[0m         \u001b[0mlast_exc\u001b[0m \u001b[0;34m=\u001b[0m \u001b[0;32mNone\u001b[0m  \u001b[0;31m# type: Optional[Exception]\u001b[0m\u001b[0;34m\u001b[0m\u001b[0;34m\u001b[0m\u001b[0m\n",
      "\u001b[0;31mClientConnectorError\u001b[0m: Cannot connect to host solicitors.lawsociety.org.uk:443 ssl:default [nodename nor servname provided, or not known]"
     ]
    }
   ],
   "source": [
    "# second_version\n",
    "\n",
    "df = pd.DataFrame()\n",
    "\n",
    "range_start = 55300\n",
    "range_end = 200000\n",
    "\n",
    "batch_size = 50\n",
    "batch_start = int(range_start/batch_size)\n",
    "batch_end = int(range_end/batch_size)\n",
    "\n",
    "\n",
    "for batch_index in range(batch_start, batch_end):\n",
    "    \n",
    "    result_list = await load_list(base_url, list(range(batch_index*batch_size, (batch_index+1)*batch_size)))\n",
    "    \n",
    "    df_new = pd.DataFrame(result_list, columns=['status', 'text'])\n",
    "    \n",
    "    print((batch_index+1)*batch_size, end=', ')\n",
    "    \n",
    "    df = df.append(df_new, ignore_index=True)\n",
    "    time.sleep(0.5)"
   ]
  },
  {
   "cell_type": "code",
   "execution_count": 166,
   "metadata": {
    "scrolled": true
   },
   "outputs": [
    {
     "name": "stdout",
     "output_type": "stream",
     "text": [
      "<class 'pandas.core.frame.DataFrame'>\n",
      "RangeIndex: 4950 entries, 0 to 4949\n",
      "Data columns (total 2 columns):\n",
      "status    4950 non-null int64\n",
      "text      4950 non-null object\n",
      "dtypes: int64(1), object(1)\n",
      "memory usage: 77.5+ KB\n"
     ]
    }
   ],
   "source": [
    "df.info()"
   ]
  },
  {
   "cell_type": "code",
   "execution_count": 169,
   "metadata": {},
   "outputs": [],
   "source": [
    "df_200_batch_two = df.loc[df.status == 200]"
   ]
  },
  {
   "cell_type": "code",
   "execution_count": 170,
   "metadata": {
    "scrolled": true
   },
   "outputs": [
    {
     "name": "stderr",
     "output_type": "stream",
     "text": [
      "/Users/codyyang/opt/anaconda3/lib/python3.7/site-packages/ipykernel_launcher.py:1: SettingWithCopyWarning: \n",
      "A value is trying to be set on a copy of a slice from a DataFrame.\n",
      "Try using .loc[row_indexer,col_indexer] = value instead\n",
      "\n",
      "See the caveats in the documentation: http://pandas.pydata.org/pandas-docs/stable/user_guide/indexing.html#returning-a-view-versus-a-copy\n",
      "  \"\"\"Entry point for launching an IPython kernel.\n"
     ]
    }
   ],
   "source": [
    "df_200_batch_two['language_spoken'] = df_200_batch_two.text.apply(language_spoken)"
   ]
  },
  {
   "cell_type": "code",
   "execution_count": 171,
   "metadata": {},
   "outputs": [
    {
     "data": {
      "text/plain": [
       "False    2466\n",
       "True       31\n",
       "Name: language_spoken, dtype: int64"
      ]
     },
     "execution_count": 171,
     "metadata": {},
     "output_type": "execute_result"
    }
   ],
   "source": [
    "df_200_batch_two['language_spoken'][:90000].str.split('\\n').apply(lambda x: ('Chinese' in x) or ('Mandarin' in x) or ('Cantonese' in x)).value_counts()"
   ]
  },
  {
   "cell_type": "code",
   "execution_count": 158,
   "metadata": {},
   "outputs": [],
   "source": [
    "df_batch_one_553 = df"
   ]
  },
  {
   "cell_type": "code",
   "execution_count": 100,
   "metadata": {
    "scrolled": true
   },
   "outputs": [],
   "source": [
    "df_status_200 = df.loc[df.status == 200]"
   ]
  },
  {
   "cell_type": "code",
   "execution_count": 101,
   "metadata": {},
   "outputs": [
    {
     "data": {
      "text/plain": [
       "2        <!DOCTYPE html>\\r\\n<html lang=\"en-GB\">\\r\\n<hea...\n",
       "5        <!DOCTYPE html>\\r\\n<html lang=\"en-GB\">\\r\\n<hea...\n",
       "7        <!DOCTYPE html>\\r\\n<html lang=\"en-GB\">\\r\\n<hea...\n",
       "8        <!DOCTYPE html>\\r\\n<html lang=\"en-GB\">\\r\\n<hea...\n",
       "9        <!DOCTYPE html>\\r\\n<html lang=\"en-GB\">\\r\\n<hea...\n",
       "                               ...                        \n",
       "55287    <!DOCTYPE html>\\r\\n<html lang=\"en-GB\">\\r\\n<hea...\n",
       "55288    <!DOCTYPE html>\\r\\n<html lang=\"en-GB\">\\r\\n<hea...\n",
       "55289    <!DOCTYPE html>\\r\\n<html lang=\"en-GB\">\\r\\n<hea...\n",
       "55290    <!DOCTYPE html>\\r\\n<html lang=\"en-GB\">\\r\\n<hea...\n",
       "55292    <!DOCTYPE html>\\r\\n<html lang=\"en-GB\">\\r\\n<hea...\n",
       "Name: text, Length: 29227, dtype: object"
      ]
     },
     "execution_count": 101,
     "metadata": {},
     "output_type": "execute_result"
    }
   ],
   "source": [
    "df_status_200.text"
   ]
  },
  {
   "cell_type": "code",
   "execution_count": 119,
   "metadata": {
    "scrolled": false
   },
   "outputs": [
    {
     "name": "stderr",
     "output_type": "stream",
     "text": [
      "/Users/codyyang/opt/anaconda3/lib/python3.7/site-packages/pandas/core/generic.py:5208: SettingWithCopyWarning: \n",
      "A value is trying to be set on a copy of a slice from a DataFrame.\n",
      "Try using .loc[row_indexer,col_indexer] = value instead\n",
      "\n",
      "See the caveats in the documentation: http://pandas.pydata.org/pandas-docs/stable/user_guide/indexing.html#returning-a-view-versus-a-copy\n",
      "  self[name] = value\n"
     ]
    }
   ],
   "source": [
    "df_status_200.text = df_status_200.text.astype(str) "
   ]
  },
  {
   "cell_type": "code",
   "execution_count": 135,
   "metadata": {},
   "outputs": [],
   "source": [
    "def language_spoken(item_text):\n",
    "    soup = BeautifulSoup(item_text, 'html.parser')\n",
    "    language_spoken = soup.find('div', id=\"languages-spoken-accordion\").get_text().strip()\n",
    "    return language_spoken"
   ]
  },
  {
   "cell_type": "code",
   "execution_count": 136,
   "metadata": {},
   "outputs": [
    {
     "name": "stderr",
     "output_type": "stream",
     "text": [
      "/Users/codyyang/opt/anaconda3/lib/python3.7/site-packages/ipykernel_launcher.py:1: SettingWithCopyWarning: \n",
      "A value is trying to be set on a copy of a slice from a DataFrame.\n",
      "Try using .loc[row_indexer,col_indexer] = value instead\n",
      "\n",
      "See the caveats in the documentation: http://pandas.pydata.org/pandas-docs/stable/user_guide/indexing.html#returning-a-view-versus-a-copy\n",
      "  \"\"\"Entry point for launching an IPython kernel.\n"
     ]
    }
   ],
   "source": [
    "df_status_200['language_spoken'] = df_status_200.text.apply(language_spoken)"
   ]
  },
  {
   "cell_type": "code",
   "execution_count": 155,
   "metadata": {},
   "outputs": [
    {
     "data": {
      "text/plain": [
       "False    28864\n",
       "True       363\n",
       "Name: language_spoken, dtype: int64"
      ]
     },
     "execution_count": 155,
     "metadata": {},
     "output_type": "execute_result"
    }
   ],
   "source": [
    "df_status_200['language_spoken'][:90000].str.split('\\n').apply(lambda x: ('Chinese' in x) or ('Mandarin' in x) or ('Cantonese' in x)).value_counts()"
   ]
  },
  {
   "cell_type": "code",
   "execution_count": 126,
   "metadata": {},
   "outputs": [],
   "source": [
    "soup = BeautifulSoup(df_status_200.text[2], 'html.parser')"
   ]
  },
  {
   "cell_type": "code",
   "execution_count": 134,
   "metadata": {},
   "outputs": [
    {
     "data": {
      "text/plain": [
       "'English'"
      ]
     },
     "execution_count": 134,
     "metadata": {},
     "output_type": "execute_result"
    }
   ],
   "source": [
    "soup.find('div', id=\"languages-spoken-accordion\").get_text().strip()"
   ]
  },
  {
   "cell_type": "code",
   "execution_count": 123,
   "metadata": {
    "collapsed": true
   },
   "outputs": [
    {
     "ename": "KeyboardInterrupt",
     "evalue": "",
     "output_type": "error",
     "traceback": [
      "\u001b[0;31m---------------------------------------------------------------------------\u001b[0m",
      "\u001b[0;31mKeyboardInterrupt\u001b[0m                         Traceback (most recent call last)",
      "\u001b[0;32m<ipython-input-123-cb762d52a50c>\u001b[0m in \u001b[0;36m<module>\u001b[0;34m\u001b[0m\n\u001b[0;32m----> 1\u001b[0;31m \u001b[0mdf_status_200\u001b[0m\u001b[0;34m.\u001b[0m\u001b[0mto_csv\u001b[0m\u001b[0;34m(\u001b[0m\u001b[0;34m'./df_0_553.csv'\u001b[0m\u001b[0;34m)\u001b[0m\u001b[0;34m\u001b[0m\u001b[0;34m\u001b[0m\u001b[0m\n\u001b[0m",
      "\u001b[0;32m~/opt/anaconda3/lib/python3.7/site-packages/pandas/core/generic.py\u001b[0m in \u001b[0;36mto_csv\u001b[0;34m(self, path_or_buf, sep, na_rep, float_format, columns, header, index, index_label, mode, encoding, compression, quoting, quotechar, line_terminator, chunksize, date_format, doublequote, escapechar, decimal)\u001b[0m\n\u001b[1;32m   3226\u001b[0m             \u001b[0mdecimal\u001b[0m\u001b[0;34m=\u001b[0m\u001b[0mdecimal\u001b[0m\u001b[0;34m,\u001b[0m\u001b[0;34m\u001b[0m\u001b[0;34m\u001b[0m\u001b[0m\n\u001b[1;32m   3227\u001b[0m         )\n\u001b[0;32m-> 3228\u001b[0;31m         \u001b[0mformatter\u001b[0m\u001b[0;34m.\u001b[0m\u001b[0msave\u001b[0m\u001b[0;34m(\u001b[0m\u001b[0;34m)\u001b[0m\u001b[0;34m\u001b[0m\u001b[0;34m\u001b[0m\u001b[0m\n\u001b[0m\u001b[1;32m   3229\u001b[0m \u001b[0;34m\u001b[0m\u001b[0m\n\u001b[1;32m   3230\u001b[0m         \u001b[0;32mif\u001b[0m \u001b[0mpath_or_buf\u001b[0m \u001b[0;32mis\u001b[0m \u001b[0;32mNone\u001b[0m\u001b[0;34m:\u001b[0m\u001b[0;34m\u001b[0m\u001b[0;34m\u001b[0m\u001b[0m\n",
      "\u001b[0;32m~/opt/anaconda3/lib/python3.7/site-packages/pandas/io/formats/csvs.py\u001b[0m in \u001b[0;36msave\u001b[0;34m(self)\u001b[0m\n\u001b[1;32m    200\u001b[0m                 \u001b[0mself\u001b[0m\u001b[0;34m.\u001b[0m\u001b[0mwriter\u001b[0m \u001b[0;34m=\u001b[0m \u001b[0mUnicodeWriter\u001b[0m\u001b[0;34m(\u001b[0m\u001b[0mf\u001b[0m\u001b[0;34m,\u001b[0m \u001b[0;34m**\u001b[0m\u001b[0mwriter_kwargs\u001b[0m\u001b[0;34m)\u001b[0m\u001b[0;34m\u001b[0m\u001b[0;34m\u001b[0m\u001b[0m\n\u001b[1;32m    201\u001b[0m \u001b[0;34m\u001b[0m\u001b[0m\n\u001b[0;32m--> 202\u001b[0;31m             \u001b[0mself\u001b[0m\u001b[0;34m.\u001b[0m\u001b[0m_save\u001b[0m\u001b[0;34m(\u001b[0m\u001b[0;34m)\u001b[0m\u001b[0;34m\u001b[0m\u001b[0;34m\u001b[0m\u001b[0m\n\u001b[0m\u001b[1;32m    203\u001b[0m \u001b[0;34m\u001b[0m\u001b[0m\n\u001b[1;32m    204\u001b[0m         \u001b[0;32mfinally\u001b[0m\u001b[0;34m:\u001b[0m\u001b[0;34m\u001b[0m\u001b[0;34m\u001b[0m\u001b[0m\n",
      "\u001b[0;32m~/opt/anaconda3/lib/python3.7/site-packages/pandas/io/formats/csvs.py\u001b[0m in \u001b[0;36m_save\u001b[0;34m(self)\u001b[0m\n\u001b[1;32m    322\u001b[0m                 \u001b[0;32mbreak\u001b[0m\u001b[0;34m\u001b[0m\u001b[0;34m\u001b[0m\u001b[0m\n\u001b[1;32m    323\u001b[0m \u001b[0;34m\u001b[0m\u001b[0m\n\u001b[0;32m--> 324\u001b[0;31m             \u001b[0mself\u001b[0m\u001b[0;34m.\u001b[0m\u001b[0m_save_chunk\u001b[0m\u001b[0;34m(\u001b[0m\u001b[0mstart_i\u001b[0m\u001b[0;34m,\u001b[0m \u001b[0mend_i\u001b[0m\u001b[0;34m)\u001b[0m\u001b[0;34m\u001b[0m\u001b[0;34m\u001b[0m\u001b[0m\n\u001b[0m\u001b[1;32m    325\u001b[0m \u001b[0;34m\u001b[0m\u001b[0m\n\u001b[1;32m    326\u001b[0m     \u001b[0;32mdef\u001b[0m \u001b[0m_save_chunk\u001b[0m\u001b[0;34m(\u001b[0m\u001b[0mself\u001b[0m\u001b[0;34m,\u001b[0m \u001b[0mstart_i\u001b[0m\u001b[0;34m,\u001b[0m \u001b[0mend_i\u001b[0m\u001b[0;34m)\u001b[0m\u001b[0;34m:\u001b[0m\u001b[0;34m\u001b[0m\u001b[0;34m\u001b[0m\u001b[0m\n",
      "\u001b[0;32m~/opt/anaconda3/lib/python3.7/site-packages/pandas/io/formats/csvs.py\u001b[0m in \u001b[0;36m_save_chunk\u001b[0;34m(self, start_i, end_i)\u001b[0m\n\u001b[1;32m    354\u001b[0m         )\n\u001b[1;32m    355\u001b[0m \u001b[0;34m\u001b[0m\u001b[0m\n\u001b[0;32m--> 356\u001b[0;31m         \u001b[0mlibwriters\u001b[0m\u001b[0;34m.\u001b[0m\u001b[0mwrite_csv_rows\u001b[0m\u001b[0;34m(\u001b[0m\u001b[0mself\u001b[0m\u001b[0;34m.\u001b[0m\u001b[0mdata\u001b[0m\u001b[0;34m,\u001b[0m \u001b[0mix\u001b[0m\u001b[0;34m,\u001b[0m \u001b[0mself\u001b[0m\u001b[0;34m.\u001b[0m\u001b[0mnlevels\u001b[0m\u001b[0;34m,\u001b[0m \u001b[0mself\u001b[0m\u001b[0;34m.\u001b[0m\u001b[0mcols\u001b[0m\u001b[0;34m,\u001b[0m \u001b[0mself\u001b[0m\u001b[0;34m.\u001b[0m\u001b[0mwriter\u001b[0m\u001b[0;34m)\u001b[0m\u001b[0;34m\u001b[0m\u001b[0;34m\u001b[0m\u001b[0m\n\u001b[0m",
      "\u001b[0;32mpandas/_libs/writers.pyx\u001b[0m in \u001b[0;36mpandas._libs.writers.write_csv_rows\u001b[0;34m()\u001b[0m\n",
      "\u001b[0;31mKeyboardInterrupt\u001b[0m: "
     ]
    }
   ],
   "source": [
    "df_status_200.to_csv('./df_0_553.csv')"
   ]
  },
  {
   "cell_type": "code",
   "execution_count": 99,
   "metadata": {},
   "outputs": [
    {
     "ename": "KeyboardInterrupt",
     "evalue": "",
     "output_type": "error",
     "traceback": [
      "\u001b[0;31m---------------------------------------------------------------------------\u001b[0m",
      "\u001b[0;31mKeyboardInterrupt\u001b[0m                         Traceback (most recent call last)",
      "\u001b[0;32m<ipython-input-99-144f2a1cc7eb>\u001b[0m in \u001b[0;36m<module>\u001b[0;34m\u001b[0m\n\u001b[0;32m----> 1\u001b[0;31m \u001b[0mdf_status_200\u001b[0m\u001b[0;34m.\u001b[0m\u001b[0mto_pickle\u001b[0m\u001b[0;34m(\u001b[0m\u001b[0;34m'./df_0_553.csv'\u001b[0m\u001b[0;34m)\u001b[0m\u001b[0;34m\u001b[0m\u001b[0;34m\u001b[0m\u001b[0m\n\u001b[0m",
      "\u001b[0;32m~/opt/anaconda3/lib/python3.7/site-packages/pandas/core/generic.py\u001b[0m in \u001b[0;36mto_pickle\u001b[0;34m(self, path, compression, protocol)\u001b[0m\n\u001b[1;32m   2769\u001b[0m         \u001b[0;32mfrom\u001b[0m \u001b[0mpandas\u001b[0m\u001b[0;34m.\u001b[0m\u001b[0mio\u001b[0m\u001b[0;34m.\u001b[0m\u001b[0mpickle\u001b[0m \u001b[0;32mimport\u001b[0m \u001b[0mto_pickle\u001b[0m\u001b[0;34m\u001b[0m\u001b[0;34m\u001b[0m\u001b[0m\n\u001b[1;32m   2770\u001b[0m \u001b[0;34m\u001b[0m\u001b[0m\n\u001b[0;32m-> 2771\u001b[0;31m         \u001b[0mto_pickle\u001b[0m\u001b[0;34m(\u001b[0m\u001b[0mself\u001b[0m\u001b[0;34m,\u001b[0m \u001b[0mpath\u001b[0m\u001b[0;34m,\u001b[0m \u001b[0mcompression\u001b[0m\u001b[0;34m=\u001b[0m\u001b[0mcompression\u001b[0m\u001b[0;34m,\u001b[0m \u001b[0mprotocol\u001b[0m\u001b[0;34m=\u001b[0m\u001b[0mprotocol\u001b[0m\u001b[0;34m)\u001b[0m\u001b[0;34m\u001b[0m\u001b[0;34m\u001b[0m\u001b[0m\n\u001b[0m\u001b[1;32m   2772\u001b[0m \u001b[0;34m\u001b[0m\u001b[0m\n\u001b[1;32m   2773\u001b[0m     \u001b[0;32mdef\u001b[0m \u001b[0mto_clipboard\u001b[0m\u001b[0;34m(\u001b[0m\u001b[0mself\u001b[0m\u001b[0;34m,\u001b[0m \u001b[0mexcel\u001b[0m\u001b[0;34m=\u001b[0m\u001b[0;32mTrue\u001b[0m\u001b[0;34m,\u001b[0m \u001b[0msep\u001b[0m\u001b[0;34m=\u001b[0m\u001b[0;32mNone\u001b[0m\u001b[0;34m,\u001b[0m \u001b[0;34m**\u001b[0m\u001b[0mkwargs\u001b[0m\u001b[0;34m)\u001b[0m\u001b[0;34m:\u001b[0m\u001b[0;34m\u001b[0m\u001b[0;34m\u001b[0m\u001b[0m\n",
      "\u001b[0;32m~/opt/anaconda3/lib/python3.7/site-packages/pandas/io/pickle.py\u001b[0m in \u001b[0;36mto_pickle\u001b[0;34m(obj, path, compression, protocol)\u001b[0m\n\u001b[1;32m     74\u001b[0m         \u001b[0mprotocol\u001b[0m \u001b[0;34m=\u001b[0m \u001b[0mpickle\u001b[0m\u001b[0;34m.\u001b[0m\u001b[0mHIGHEST_PROTOCOL\u001b[0m\u001b[0;34m\u001b[0m\u001b[0;34m\u001b[0m\u001b[0m\n\u001b[1;32m     75\u001b[0m     \u001b[0;32mtry\u001b[0m\u001b[0;34m:\u001b[0m\u001b[0;34m\u001b[0m\u001b[0;34m\u001b[0m\u001b[0m\n\u001b[0;32m---> 76\u001b[0;31m         \u001b[0mf\u001b[0m\u001b[0;34m.\u001b[0m\u001b[0mwrite\u001b[0m\u001b[0;34m(\u001b[0m\u001b[0mpickle\u001b[0m\u001b[0;34m.\u001b[0m\u001b[0mdumps\u001b[0m\u001b[0;34m(\u001b[0m\u001b[0mobj\u001b[0m\u001b[0;34m,\u001b[0m \u001b[0mprotocol\u001b[0m\u001b[0;34m=\u001b[0m\u001b[0mprotocol\u001b[0m\u001b[0;34m)\u001b[0m\u001b[0;34m)\u001b[0m\u001b[0;34m\u001b[0m\u001b[0;34m\u001b[0m\u001b[0m\n\u001b[0m\u001b[1;32m     77\u001b[0m     \u001b[0;32mfinally\u001b[0m\u001b[0;34m:\u001b[0m\u001b[0;34m\u001b[0m\u001b[0;34m\u001b[0m\u001b[0m\n\u001b[1;32m     78\u001b[0m         \u001b[0mf\u001b[0m\u001b[0;34m.\u001b[0m\u001b[0mclose\u001b[0m\u001b[0;34m(\u001b[0m\u001b[0;34m)\u001b[0m\u001b[0;34m\u001b[0m\u001b[0;34m\u001b[0m\u001b[0m\n",
      "\u001b[0;31mKeyboardInterrupt\u001b[0m: "
     ]
    }
   ],
   "source": [
    "df_status_200.to_pickle('./df_0_553.csv')"
   ]
  },
  {
   "cell_type": "code",
   "execution_count": 94,
   "metadata": {},
   "outputs": [
    {
     "ename": "KeyboardInterrupt",
     "evalue": "",
     "output_type": "error",
     "traceback": [
      "\u001b[0;31m---------------------------------------------------------------------------\u001b[0m",
      "\u001b[0;31mKeyboardInterrupt\u001b[0m                         Traceback (most recent call last)",
      "\u001b[0;32m<ipython-input-94-bdfea39e2857>\u001b[0m in \u001b[0;36m<module>\u001b[0;34m\u001b[0m\n\u001b[0;32m----> 1\u001b[0;31m \u001b[0mdf\u001b[0m\u001b[0;34m.\u001b[0m\u001b[0mto_csv\u001b[0m\u001b[0;34m(\u001b[0m\u001b[0;34m'./df_0_553.csv'\u001b[0m\u001b[0;34m)\u001b[0m\u001b[0;34m\u001b[0m\u001b[0;34m\u001b[0m\u001b[0m\n\u001b[0m",
      "\u001b[0;32m~/opt/anaconda3/lib/python3.7/site-packages/pandas/core/generic.py\u001b[0m in \u001b[0;36mto_csv\u001b[0;34m(self, path_or_buf, sep, na_rep, float_format, columns, header, index, index_label, mode, encoding, compression, quoting, quotechar, line_terminator, chunksize, date_format, doublequote, escapechar, decimal)\u001b[0m\n\u001b[1;32m   3226\u001b[0m             \u001b[0mdecimal\u001b[0m\u001b[0;34m=\u001b[0m\u001b[0mdecimal\u001b[0m\u001b[0;34m,\u001b[0m\u001b[0;34m\u001b[0m\u001b[0;34m\u001b[0m\u001b[0m\n\u001b[1;32m   3227\u001b[0m         )\n\u001b[0;32m-> 3228\u001b[0;31m         \u001b[0mformatter\u001b[0m\u001b[0;34m.\u001b[0m\u001b[0msave\u001b[0m\u001b[0;34m(\u001b[0m\u001b[0;34m)\u001b[0m\u001b[0;34m\u001b[0m\u001b[0;34m\u001b[0m\u001b[0m\n\u001b[0m\u001b[1;32m   3229\u001b[0m \u001b[0;34m\u001b[0m\u001b[0m\n\u001b[1;32m   3230\u001b[0m         \u001b[0;32mif\u001b[0m \u001b[0mpath_or_buf\u001b[0m \u001b[0;32mis\u001b[0m \u001b[0;32mNone\u001b[0m\u001b[0;34m:\u001b[0m\u001b[0;34m\u001b[0m\u001b[0;34m\u001b[0m\u001b[0m\n",
      "\u001b[0;32m~/opt/anaconda3/lib/python3.7/site-packages/pandas/io/formats/csvs.py\u001b[0m in \u001b[0;36msave\u001b[0;34m(self)\u001b[0m\n\u001b[1;32m    200\u001b[0m                 \u001b[0mself\u001b[0m\u001b[0;34m.\u001b[0m\u001b[0mwriter\u001b[0m \u001b[0;34m=\u001b[0m \u001b[0mUnicodeWriter\u001b[0m\u001b[0;34m(\u001b[0m\u001b[0mf\u001b[0m\u001b[0;34m,\u001b[0m \u001b[0;34m**\u001b[0m\u001b[0mwriter_kwargs\u001b[0m\u001b[0;34m)\u001b[0m\u001b[0;34m\u001b[0m\u001b[0;34m\u001b[0m\u001b[0m\n\u001b[1;32m    201\u001b[0m \u001b[0;34m\u001b[0m\u001b[0m\n\u001b[0;32m--> 202\u001b[0;31m             \u001b[0mself\u001b[0m\u001b[0;34m.\u001b[0m\u001b[0m_save\u001b[0m\u001b[0;34m(\u001b[0m\u001b[0;34m)\u001b[0m\u001b[0;34m\u001b[0m\u001b[0;34m\u001b[0m\u001b[0m\n\u001b[0m\u001b[1;32m    203\u001b[0m \u001b[0;34m\u001b[0m\u001b[0m\n\u001b[1;32m    204\u001b[0m         \u001b[0;32mfinally\u001b[0m\u001b[0;34m:\u001b[0m\u001b[0;34m\u001b[0m\u001b[0;34m\u001b[0m\u001b[0m\n",
      "\u001b[0;32m~/opt/anaconda3/lib/python3.7/site-packages/pandas/io/formats/csvs.py\u001b[0m in \u001b[0;36m_save\u001b[0;34m(self)\u001b[0m\n\u001b[1;32m    322\u001b[0m                 \u001b[0;32mbreak\u001b[0m\u001b[0;34m\u001b[0m\u001b[0;34m\u001b[0m\u001b[0m\n\u001b[1;32m    323\u001b[0m \u001b[0;34m\u001b[0m\u001b[0m\n\u001b[0;32m--> 324\u001b[0;31m             \u001b[0mself\u001b[0m\u001b[0;34m.\u001b[0m\u001b[0m_save_chunk\u001b[0m\u001b[0;34m(\u001b[0m\u001b[0mstart_i\u001b[0m\u001b[0;34m,\u001b[0m \u001b[0mend_i\u001b[0m\u001b[0;34m)\u001b[0m\u001b[0;34m\u001b[0m\u001b[0;34m\u001b[0m\u001b[0m\n\u001b[0m\u001b[1;32m    325\u001b[0m \u001b[0;34m\u001b[0m\u001b[0m\n\u001b[1;32m    326\u001b[0m     \u001b[0;32mdef\u001b[0m \u001b[0m_save_chunk\u001b[0m\u001b[0;34m(\u001b[0m\u001b[0mself\u001b[0m\u001b[0;34m,\u001b[0m \u001b[0mstart_i\u001b[0m\u001b[0;34m,\u001b[0m \u001b[0mend_i\u001b[0m\u001b[0;34m)\u001b[0m\u001b[0;34m:\u001b[0m\u001b[0;34m\u001b[0m\u001b[0;34m\u001b[0m\u001b[0m\n",
      "\u001b[0;32m~/opt/anaconda3/lib/python3.7/site-packages/pandas/io/formats/csvs.py\u001b[0m in \u001b[0;36m_save_chunk\u001b[0;34m(self, start_i, end_i)\u001b[0m\n\u001b[1;32m    354\u001b[0m         )\n\u001b[1;32m    355\u001b[0m \u001b[0;34m\u001b[0m\u001b[0m\n\u001b[0;32m--> 356\u001b[0;31m         \u001b[0mlibwriters\u001b[0m\u001b[0;34m.\u001b[0m\u001b[0mwrite_csv_rows\u001b[0m\u001b[0;34m(\u001b[0m\u001b[0mself\u001b[0m\u001b[0;34m.\u001b[0m\u001b[0mdata\u001b[0m\u001b[0;34m,\u001b[0m \u001b[0mix\u001b[0m\u001b[0;34m,\u001b[0m \u001b[0mself\u001b[0m\u001b[0;34m.\u001b[0m\u001b[0mnlevels\u001b[0m\u001b[0;34m,\u001b[0m \u001b[0mself\u001b[0m\u001b[0;34m.\u001b[0m\u001b[0mcols\u001b[0m\u001b[0;34m,\u001b[0m \u001b[0mself\u001b[0m\u001b[0;34m.\u001b[0m\u001b[0mwriter\u001b[0m\u001b[0;34m)\u001b[0m\u001b[0;34m\u001b[0m\u001b[0;34m\u001b[0m\u001b[0m\n\u001b[0m",
      "\u001b[0;32mpandas/_libs/writers.pyx\u001b[0m in \u001b[0;36mpandas._libs.writers.write_csv_rows\u001b[0;34m()\u001b[0m\n",
      "\u001b[0;31mKeyboardInterrupt\u001b[0m: "
     ]
    }
   ],
   "source": [
    "df.to_csv('./df_0_553.csv')"
   ]
  },
  {
   "cell_type": "code",
   "execution_count": 90,
   "metadata": {},
   "outputs": [
    {
     "ename": "KeyboardInterrupt",
     "evalue": "",
     "output_type": "error",
     "traceback": [
      "\u001b[0;31m---------------------------------------------------------------------------\u001b[0m",
      "\u001b[0;31mKeyboardInterrupt\u001b[0m                         Traceback (most recent call last)",
      "\u001b[0;32m<ipython-input-90-3c0d86e22802>\u001b[0m in \u001b[0;36m<module>\u001b[0;34m\u001b[0m\n\u001b[0;32m----> 1\u001b[0;31m \u001b[0mdf\u001b[0m\u001b[0;34m.\u001b[0m\u001b[0mto_pickle\u001b[0m\u001b[0;34m(\u001b[0m\u001b[0;34m'./df_0_553.pkl'\u001b[0m\u001b[0;34m)\u001b[0m\u001b[0;34m\u001b[0m\u001b[0;34m\u001b[0m\u001b[0m\n\u001b[0m",
      "\u001b[0;32m~/opt/anaconda3/lib/python3.7/site-packages/pandas/core/generic.py\u001b[0m in \u001b[0;36mto_pickle\u001b[0;34m(self, path, compression, protocol)\u001b[0m\n\u001b[1;32m   2769\u001b[0m         \u001b[0;32mfrom\u001b[0m \u001b[0mpandas\u001b[0m\u001b[0;34m.\u001b[0m\u001b[0mio\u001b[0m\u001b[0;34m.\u001b[0m\u001b[0mpickle\u001b[0m \u001b[0;32mimport\u001b[0m \u001b[0mto_pickle\u001b[0m\u001b[0;34m\u001b[0m\u001b[0;34m\u001b[0m\u001b[0m\n\u001b[1;32m   2770\u001b[0m \u001b[0;34m\u001b[0m\u001b[0m\n\u001b[0;32m-> 2771\u001b[0;31m         \u001b[0mto_pickle\u001b[0m\u001b[0;34m(\u001b[0m\u001b[0mself\u001b[0m\u001b[0;34m,\u001b[0m \u001b[0mpath\u001b[0m\u001b[0;34m,\u001b[0m \u001b[0mcompression\u001b[0m\u001b[0;34m=\u001b[0m\u001b[0mcompression\u001b[0m\u001b[0;34m,\u001b[0m \u001b[0mprotocol\u001b[0m\u001b[0;34m=\u001b[0m\u001b[0mprotocol\u001b[0m\u001b[0;34m)\u001b[0m\u001b[0;34m\u001b[0m\u001b[0;34m\u001b[0m\u001b[0m\n\u001b[0m\u001b[1;32m   2772\u001b[0m \u001b[0;34m\u001b[0m\u001b[0m\n\u001b[1;32m   2773\u001b[0m     \u001b[0;32mdef\u001b[0m \u001b[0mto_clipboard\u001b[0m\u001b[0;34m(\u001b[0m\u001b[0mself\u001b[0m\u001b[0;34m,\u001b[0m \u001b[0mexcel\u001b[0m\u001b[0;34m=\u001b[0m\u001b[0;32mTrue\u001b[0m\u001b[0;34m,\u001b[0m \u001b[0msep\u001b[0m\u001b[0;34m=\u001b[0m\u001b[0;32mNone\u001b[0m\u001b[0;34m,\u001b[0m \u001b[0;34m**\u001b[0m\u001b[0mkwargs\u001b[0m\u001b[0;34m)\u001b[0m\u001b[0;34m:\u001b[0m\u001b[0;34m\u001b[0m\u001b[0;34m\u001b[0m\u001b[0m\n",
      "\u001b[0;32m~/opt/anaconda3/lib/python3.7/site-packages/pandas/io/pickle.py\u001b[0m in \u001b[0;36mto_pickle\u001b[0;34m(obj, path, compression, protocol)\u001b[0m\n\u001b[1;32m     74\u001b[0m         \u001b[0mprotocol\u001b[0m \u001b[0;34m=\u001b[0m \u001b[0mpickle\u001b[0m\u001b[0;34m.\u001b[0m\u001b[0mHIGHEST_PROTOCOL\u001b[0m\u001b[0;34m\u001b[0m\u001b[0;34m\u001b[0m\u001b[0m\n\u001b[1;32m     75\u001b[0m     \u001b[0;32mtry\u001b[0m\u001b[0;34m:\u001b[0m\u001b[0;34m\u001b[0m\u001b[0;34m\u001b[0m\u001b[0m\n\u001b[0;32m---> 76\u001b[0;31m         \u001b[0mf\u001b[0m\u001b[0;34m.\u001b[0m\u001b[0mwrite\u001b[0m\u001b[0;34m(\u001b[0m\u001b[0mpickle\u001b[0m\u001b[0;34m.\u001b[0m\u001b[0mdumps\u001b[0m\u001b[0;34m(\u001b[0m\u001b[0mobj\u001b[0m\u001b[0;34m,\u001b[0m \u001b[0mprotocol\u001b[0m\u001b[0;34m=\u001b[0m\u001b[0mprotocol\u001b[0m\u001b[0;34m)\u001b[0m\u001b[0;34m)\u001b[0m\u001b[0;34m\u001b[0m\u001b[0;34m\u001b[0m\u001b[0m\n\u001b[0m\u001b[1;32m     77\u001b[0m     \u001b[0;32mfinally\u001b[0m\u001b[0;34m:\u001b[0m\u001b[0;34m\u001b[0m\u001b[0;34m\u001b[0m\u001b[0m\n\u001b[1;32m     78\u001b[0m         \u001b[0mf\u001b[0m\u001b[0;34m.\u001b[0m\u001b[0mclose\u001b[0m\u001b[0;34m(\u001b[0m\u001b[0;34m)\u001b[0m\u001b[0;34m\u001b[0m\u001b[0;34m\u001b[0m\u001b[0m\n",
      "\u001b[0;32m~/opt/anaconda3/lib/python3.7/site-packages/pandas/core/indexes/base.py\u001b[0m in \u001b[0;36m__reduce__\u001b[0;34m(self)\u001b[0m\n\u001b[1;32m   1891\u001b[0m     \u001b[0;31m# Pickle Methods\u001b[0m\u001b[0;34m\u001b[0m\u001b[0;34m\u001b[0m\u001b[0;34m\u001b[0m\u001b[0m\n\u001b[1;32m   1892\u001b[0m \u001b[0;34m\u001b[0m\u001b[0m\n\u001b[0;32m-> 1893\u001b[0;31m     \u001b[0;32mdef\u001b[0m \u001b[0m__reduce__\u001b[0m\u001b[0;34m(\u001b[0m\u001b[0mself\u001b[0m\u001b[0;34m)\u001b[0m\u001b[0;34m:\u001b[0m\u001b[0;34m\u001b[0m\u001b[0;34m\u001b[0m\u001b[0m\n\u001b[0m\u001b[1;32m   1894\u001b[0m         \u001b[0md\u001b[0m \u001b[0;34m=\u001b[0m \u001b[0mdict\u001b[0m\u001b[0;34m(\u001b[0m\u001b[0mdata\u001b[0m\u001b[0;34m=\u001b[0m\u001b[0mself\u001b[0m\u001b[0;34m.\u001b[0m\u001b[0m_data\u001b[0m\u001b[0;34m)\u001b[0m\u001b[0;34m\u001b[0m\u001b[0;34m\u001b[0m\u001b[0m\n\u001b[1;32m   1895\u001b[0m         \u001b[0md\u001b[0m\u001b[0;34m.\u001b[0m\u001b[0mupdate\u001b[0m\u001b[0;34m(\u001b[0m\u001b[0mself\u001b[0m\u001b[0;34m.\u001b[0m\u001b[0m_get_attributes_dict\u001b[0m\u001b[0;34m(\u001b[0m\u001b[0;34m)\u001b[0m\u001b[0;34m)\u001b[0m\u001b[0;34m\u001b[0m\u001b[0;34m\u001b[0m\u001b[0m\n",
      "\u001b[0;31mKeyboardInterrupt\u001b[0m: "
     ]
    }
   ],
   "source": [
    "df.to_pickle('./df_0_553.pkl')"
   ]
  },
  {
   "cell_type": "code",
   "execution_count": 86,
   "metadata": {},
   "outputs": [
    {
     "data": {
      "text/plain": [
       "200    29227\n",
       "404    26073\n",
       "Name: status, dtype: int64"
      ]
     },
     "execution_count": 86,
     "metadata": {},
     "output_type": "execute_result"
    }
   ],
   "source": [
    "df.status.value_counts()"
   ]
  },
  {
   "cell_type": "code",
   "execution_count": 6,
   "metadata": {
    "collapsed": true
   },
   "outputs": [
    {
     "data": {
      "text/plain": [
       "[<ClientResponse(https://solicitors.lawsociety.org.uk/person/0) [404 Not Found]>\n",
       " <CIMultiDictProxy('Server': 'Microsoft-IIS/8.0', 'Vary': '*', 'Cache-Control': 'public, no-cache=\"Set-Cookie\", max-age=3600', 'Content-Type': 'text/html; charset=utf-8', 'Date': 'Wed, 15 Apr 2020 01:56:30 GMT', 'Expires': 'Wed, 15 Apr 2020 02:56:30 GMT', 'E-TAG': 'IE=Edge,chrome=1', 'Set-Cookie': 'X-Mapping-fjhppofk=FF2414E2F929F6BD664BBAABF302CD83; path=/', 'Set-Cookie': 'ASP.NET_SessionId=1pdpn0hzlrcdw2zunuyzbaig; path=/; HttpOnly', 'Last-Modified': 'Wed, 15 Apr 2020 01:56:30 GMT', 'Content-Length': '58668')>,\n",
       " <ClientResponse(https://solicitors.lawsociety.org.uk/person/1) [404 Not Found]>\n",
       " <CIMultiDictProxy('Server': 'Microsoft-IIS/8.0', 'Vary': '*', 'Cache-Control': 'public, no-cache=\"Set-Cookie\", max-age=3600', 'Content-Type': 'text/html; charset=utf-8', 'Date': 'Wed, 15 Apr 2020 01:56:30 GMT', 'Expires': 'Wed, 15 Apr 2020 02:56:30 GMT', 'E-TAG': 'IE=Edge,chrome=1', 'Set-Cookie': 'X-Mapping-fjhppofk=5479EDDAED71CAD28C4677155EAB3288; path=/', 'Set-Cookie': 'ASP.NET_SessionId=f45a1zp1h0azaktg4frdxyp5; path=/; HttpOnly', 'Last-Modified': 'Wed, 15 Apr 2020 01:56:30 GMT', 'Content-Length': '58668')>,\n",
       " <ClientResponse(https://solicitors.lawsociety.org.uk/person/2/john-michael-andrews) [200 OK]>\n",
       " <CIMultiDictProxy('Cache-Control': 'public, max-age=1711', 'Content-Type': 'text/html; charset=utf-8', 'Content-Encoding': 'gzip', 'Expires': 'Wed, 15 Apr 2020 02:25:04 GMT', 'Last-Modified': 'Wed, 15 Apr 2020 01:25:04 GMT', 'Vary': '*', 'Server': 'Microsoft-IIS/8.0', 'E-TAG': 'IE=Edge,chrome=1', 'Date': 'Wed, 15 Apr 2020 01:56:32 GMT', 'Content-Length': '15891')>,\n",
       " <ClientResponse(https://solicitors.lawsociety.org.uk/person/3) [404 Not Found]>\n",
       " <CIMultiDictProxy('Server': 'Microsoft-IIS/8.0', 'Vary': '*', 'Cache-Control': 'public, no-cache=\"Set-Cookie\", max-age=3600', 'Content-Type': 'text/html; charset=utf-8', 'Date': 'Wed, 15 Apr 2020 01:56:41 GMT', 'Expires': 'Wed, 15 Apr 2020 02:56:41 GMT', 'E-TAG': 'IE=Edge,chrome=1', 'Set-Cookie': 'X-Mapping-fjhppofk=5B1F85DE06FBFEFB5FDAB2FD3CC83118; path=/', 'Set-Cookie': 'ASP.NET_SessionId=o1m5i5hz55onlwo0u5rf1cp0; path=/; HttpOnly', 'Last-Modified': 'Wed, 15 Apr 2020 01:56:41 GMT', 'Content-Length': '58668')>,\n",
       " <ClientResponse(https://solicitors.lawsociety.org.uk/person/4) [404 Not Found]>\n",
       " <CIMultiDictProxy('Server': 'Microsoft-IIS/8.0', 'Vary': '*', 'Cache-Control': 'public, no-cache=\"Set-Cookie\", max-age=3600', 'Content-Type': 'text/html; charset=utf-8', 'Date': 'Wed, 15 Apr 2020 01:56:30 GMT', 'Expires': 'Wed, 15 Apr 2020 02:56:30 GMT', 'E-TAG': 'IE=Edge,chrome=1', 'Set-Cookie': 'X-Mapping-fjhppofk=5479EDDAED71CAD28C4677155EAB3288; path=/', 'Set-Cookie': 'ASP.NET_SessionId=gu3mdx0x51t3zgm1tlmvzw3n; path=/; HttpOnly', 'Last-Modified': 'Wed, 15 Apr 2020 01:56:30 GMT', 'Content-Length': '58668')>,\n",
       " <ClientResponse(https://solicitors.lawsociety.org.uk/person/5/lucy-elizabeth-dunbar) [200 OK]>\n",
       " <CIMultiDictProxy('Cache-Control': 'public, max-age=556', 'Content-Type': 'text/html; charset=utf-8', 'Content-Encoding': 'gzip', 'Expires': 'Wed, 15 Apr 2020 02:05:55 GMT', 'Last-Modified': 'Wed, 15 Apr 2020 01:05:55 GMT', 'Vary': '*', 'Server': 'Microsoft-IIS/8.0', 'E-TAG': 'IE=Edge,chrome=1', 'Date': 'Wed, 15 Apr 2020 01:56:39 GMT', 'Content-Length': '15781')>,\n",
       " <ClientResponse(https://solicitors.lawsociety.org.uk/person/6) [404 Not Found]>\n",
       " <CIMultiDictProxy('Server': 'Microsoft-IIS/8.0', 'Vary': '*', 'Cache-Control': 'public, no-cache=\"Set-Cookie\", max-age=3600', 'Content-Type': 'text/html; charset=utf-8', 'Date': 'Wed, 15 Apr 2020 01:56:41 GMT', 'Expires': 'Wed, 15 Apr 2020 02:56:40 GMT', 'E-TAG': 'IE=Edge,chrome=1', 'Set-Cookie': 'X-Mapping-fjhppofk=5B1F85DE06FBFEFB5FDAB2FD3CC83118; path=/', 'Set-Cookie': 'ASP.NET_SessionId=lbylre0aisbixqm00x5y0loa; path=/; HttpOnly', 'Last-Modified': 'Wed, 15 Apr 2020 01:56:40 GMT', 'Content-Length': '58668')>,\n",
       " <ClientResponse(https://solicitors.lawsociety.org.uk/person/7/lavina-daryanani) [200 OK]>\n",
       " <CIMultiDictProxy('Cache-Control': 'public, max-age=1500', 'Content-Type': 'text/html; charset=utf-8', 'Content-Encoding': 'gzip', 'Expires': 'Wed, 15 Apr 2020 02:21:39 GMT', 'Last-Modified': 'Wed, 15 Apr 2020 01:21:39 GMT', 'Vary': '*', 'Server': 'Microsoft-IIS/8.0', 'E-TAG': 'IE=Edge,chrome=1', 'Date': 'Wed, 15 Apr 2020 01:56:39 GMT', 'Content-Length': '15852')>,\n",
       " <ClientResponse(https://solicitors.lawsociety.org.uk/person/8/lorraine-antoinette-mcclean) [200 OK]>\n",
       " <CIMultiDictProxy('Cache-Control': 'public, max-age=1460', 'Content-Type': 'text/html; charset=utf-8', 'Content-Encoding': 'gzip', 'Expires': 'Wed, 15 Apr 2020 02:20:53 GMT', 'Last-Modified': 'Wed, 15 Apr 2020 01:20:53 GMT', 'Vary': '*', 'Server': 'Microsoft-IIS/8.0', 'E-TAG': 'IE=Edge,chrome=1', 'Date': 'Wed, 15 Apr 2020 01:56:31 GMT', 'Content-Length': '15871')>,\n",
       " <ClientResponse(https://solicitors.lawsociety.org.uk/person/9/holly-jayne-lindley) [200 OK]>\n",
       " <CIMultiDictProxy('Cache-Control': 'public, max-age=969', 'Content-Type': 'text/html; charset=utf-8', 'Content-Encoding': 'gzip', 'Expires': 'Wed, 15 Apr 2020 02:12:41 GMT', 'Last-Modified': 'Wed, 15 Apr 2020 01:12:41 GMT', 'Vary': '*', 'Server': 'Microsoft-IIS/8.0', 'E-TAG': 'IE=Edge,chrome=1', 'Date': 'Wed, 15 Apr 2020 01:56:31 GMT', 'Content-Length': '15855')>,\n",
       " <ClientResponse(https://solicitors.lawsociety.org.uk/person/10/christopher-douglas-paul-kite) [200 OK]>\n",
       " <CIMultiDictProxy('Cache-Control': 'public, max-age=3394', 'Content-Type': 'text/html; charset=utf-8', 'Content-Encoding': 'gzip', 'Expires': 'Wed, 15 Apr 2020 02:53:08 GMT', 'Last-Modified': 'Wed, 15 Apr 2020 01:53:08 GMT', 'Vary': '*', 'Server': 'Microsoft-IIS/8.0', 'E-TAG': 'IE=Edge,chrome=1', 'Date': 'Wed, 15 Apr 2020 01:56:32 GMT', 'Content-Length': '16054')>,\n",
       " <ClientResponse(https://solicitors.lawsociety.org.uk/person/11/julie-elizabeth-ford) [200 OK]>\n",
       " <CIMultiDictProxy('Cache-Control': 'public, max-age=2379', 'Content-Type': 'text/html; charset=utf-8', 'Content-Encoding': 'gzip', 'Expires': 'Wed, 15 Apr 2020 02:36:18 GMT', 'Last-Modified': 'Wed, 15 Apr 2020 01:36:18 GMT', 'Vary': '*', 'Server': 'Microsoft-IIS/8.0', 'E-TAG': 'IE=Edge,chrome=1', 'Date': 'Wed, 15 Apr 2020 01:56:38 GMT', 'Content-Length': '15919')>,\n",
       " <ClientResponse(https://solicitors.lawsociety.org.uk/person/12/wilhelmina-anna-small) [200 OK]>\n",
       " <CIMultiDictProxy('Cache-Control': 'public, max-age=1933', 'Content-Type': 'text/html; charset=utf-8', 'Content-Encoding': 'gzip', 'Expires': 'Wed, 15 Apr 2020 02:28:52 GMT', 'Last-Modified': 'Wed, 15 Apr 2020 01:28:52 GMT', 'Vary': '*', 'Server': 'Microsoft-IIS/8.0', 'E-TAG': 'IE=Edge,chrome=1', 'Date': 'Wed, 15 Apr 2020 01:56:38 GMT', 'Content-Length': '15433')>,\n",
       " <ClientResponse(https://solicitors.lawsociety.org.uk/person/13/paula-devi-riedel) [200 OK]>\n",
       " <CIMultiDictProxy('Cache-Control': 'public, max-age=2359', 'Content-Type': 'text/html; charset=utf-8', 'Content-Encoding': 'gzip', 'Expires': 'Wed, 15 Apr 2020 02:35:52 GMT', 'Last-Modified': 'Wed, 15 Apr 2020 01:35:52 GMT', 'Vary': '*', 'Server': 'Microsoft-IIS/8.0', 'E-TAG': 'IE=Edge,chrome=1', 'Date': 'Wed, 15 Apr 2020 01:56:31 GMT', 'Content-Length': '15781')>,\n",
       " <ClientResponse(https://solicitors.lawsociety.org.uk/person/14/clive-cooke) [200 OK]>\n",
       " <CIMultiDictProxy('Cache-Control': 'public, max-age=1933', 'Content-Type': 'text/html; charset=utf-8', 'Content-Encoding': 'gzip', 'Expires': 'Wed, 15 Apr 2020 02:28:56 GMT', 'Last-Modified': 'Wed, 15 Apr 2020 01:28:56 GMT', 'Vary': '*', 'Server': 'Microsoft-IIS/8.0', 'E-TAG': 'IE=Edge,chrome=1', 'Date': 'Wed, 15 Apr 2020 01:56:42 GMT', 'Content-Length': '15423')>,\n",
       " <ClientResponse(https://solicitors.lawsociety.org.uk/person/15/khalid-garousha) [200 OK]>\n",
       " <CIMultiDictProxy('Cache-Control': 'public, max-age=2488', 'Content-Type': 'text/html; charset=utf-8', 'Content-Encoding': 'gzip', 'Expires': 'Wed, 15 Apr 2020 02:38:07 GMT', 'Last-Modified': 'Wed, 15 Apr 2020 01:38:07 GMT', 'Vary': '*', 'Server': 'Microsoft-IIS/8.0', 'E-TAG': 'IE=Edge,chrome=1', 'Date': 'Wed, 15 Apr 2020 01:56:39 GMT', 'Content-Length': '15842')>,\n",
       " <ClientResponse(https://solicitors.lawsociety.org.uk/person/16) [404 Not Found]>\n",
       " <CIMultiDictProxy('Server': 'Microsoft-IIS/8.0', 'Vary': '*', 'Cache-Control': 'public, no-cache=\"Set-Cookie\", max-age=3600', 'Content-Type': 'text/html; charset=utf-8', 'Date': 'Wed, 15 Apr 2020 01:56:41 GMT', 'Expires': 'Wed, 15 Apr 2020 02:56:41 GMT', 'E-TAG': 'IE=Edge,chrome=1', 'Set-Cookie': 'X-Mapping-fjhppofk=5B1F85DE06FBFEFB5FDAB2FD3CC83118; path=/', 'Set-Cookie': 'ASP.NET_SessionId=3ozy4xrajnp0jvfhoehj0jyj; path=/; HttpOnly', 'Last-Modified': 'Wed, 15 Apr 2020 01:56:41 GMT', 'Content-Length': '58668')>,\n",
       " <ClientResponse(https://solicitors.lawsociety.org.uk/person/17/stuart-phillip-nuttall) [200 OK]>\n",
       " <CIMultiDictProxy('Cache-Control': 'public, max-age=1933', 'Content-Type': 'text/html; charset=utf-8', 'Content-Encoding': 'gzip', 'Expires': 'Wed, 15 Apr 2020 02:28:56 GMT', 'Last-Modified': 'Wed, 15 Apr 2020 01:28:56 GMT', 'Vary': '*', 'Server': 'Microsoft-IIS/8.0', 'E-TAG': 'IE=Edge,chrome=1', 'Date': 'Wed, 15 Apr 2020 01:56:42 GMT', 'Content-Length': '15493')>,\n",
       " <ClientResponse(https://solicitors.lawsociety.org.uk/person/18) [404 Not Found]>\n",
       " <CIMultiDictProxy('Server': 'Microsoft-IIS/8.0', 'Vary': '*', 'Cache-Control': 'public, no-cache=\"Set-Cookie\", max-age=3600', 'Content-Type': 'text/html; charset=utf-8', 'Date': 'Wed, 15 Apr 2020 01:56:36 GMT', 'Expires': 'Wed, 15 Apr 2020 02:56:36 GMT', 'E-TAG': 'IE=Edge,chrome=1', 'Set-Cookie': 'X-Mapping-fjhppofk=BE5EEB346F808C7FC927A221A84ADB03; path=/', 'Set-Cookie': 'ASP.NET_SessionId=px3wwx1cohlxmzu4loupnqpi; path=/; HttpOnly', 'Last-Modified': 'Wed, 15 Apr 2020 01:56:36 GMT', 'Content-Length': '58668')>,\n",
       " <ClientResponse(https://solicitors.lawsociety.org.uk/person/19/deborah-felicia-greer) [200 OK]>\n",
       " <CIMultiDictProxy('Cache-Control': 'public, max-age=1952', 'Content-Type': 'text/html; charset=utf-8', 'Content-Encoding': 'gzip', 'Expires': 'Wed, 15 Apr 2020 02:29:05 GMT', 'Last-Modified': 'Wed, 15 Apr 2020 01:29:05 GMT', 'Vary': '*', 'Server': 'Microsoft-IIS/8.0', 'E-TAG': 'IE=Edge,chrome=1', 'Date': 'Wed, 15 Apr 2020 01:56:32 GMT', 'Content-Length': '15431')>,\n",
       " <ClientResponse(https://solicitors.lawsociety.org.uk/person/20) [404 Not Found]>\n",
       " <CIMultiDictProxy('Server': 'Microsoft-IIS/8.0', 'Vary': '*', 'Cache-Control': 'public, no-cache=\"Set-Cookie\", max-age=3600', 'Content-Type': 'text/html; charset=utf-8', 'Date': 'Wed, 15 Apr 2020 01:56:30 GMT', 'Expires': 'Wed, 15 Apr 2020 02:56:30 GMT', 'E-TAG': 'IE=Edge,chrome=1', 'Set-Cookie': 'X-Mapping-fjhppofk=5479EDDAED71CAD28C4677155EAB3288; path=/', 'Set-Cookie': 'ASP.NET_SessionId=sugbzl4ajp0zhnujde21x0ly; path=/; HttpOnly', 'Last-Modified': 'Wed, 15 Apr 2020 01:56:30 GMT', 'Content-Length': '58668')>,\n",
       " <ClientResponse(https://solicitors.lawsociety.org.uk/person/21/james-alexander-stewart) [200 OK]>\n",
       " <CIMultiDictProxy('Cache-Control': 'public, max-age=1931', 'Content-Type': 'text/html; charset=utf-8', 'Content-Encoding': 'gzip', 'Expires': 'Wed, 15 Apr 2020 02:28:43 GMT', 'Last-Modified': 'Wed, 15 Apr 2020 01:28:43 GMT', 'Vary': '*', 'Server': 'Microsoft-IIS/8.0', 'E-TAG': 'IE=Edge,chrome=1', 'Date': 'Wed, 15 Apr 2020 01:56:31 GMT', 'Content-Length': '15761')>,\n",
       " <ClientResponse(https://solicitors.lawsociety.org.uk/person/22) [404 Not Found]>\n",
       " <CIMultiDictProxy('Server': 'Microsoft-IIS/8.0', 'Vary': '*', 'Cache-Control': 'public, no-cache=\"Set-Cookie\", max-age=3600', 'Content-Type': 'text/html; charset=utf-8', 'Date': 'Wed, 15 Apr 2020 01:56:30 GMT', 'Expires': 'Wed, 15 Apr 2020 02:56:30 GMT', 'E-TAG': 'IE=Edge,chrome=1', 'Set-Cookie': 'X-Mapping-fjhppofk=FF2414E2F929F6BD664BBAABF302CD83; path=/', 'Set-Cookie': 'ASP.NET_SessionId=xuupd2wb3inlfpa2zhsrtse5; path=/; HttpOnly', 'Last-Modified': 'Wed, 15 Apr 2020 01:56:30 GMT', 'Content-Length': '58668')>,\n",
       " <ClientResponse(https://solicitors.lawsociety.org.uk/person/23/stephen-andrew-charles-ross) [200 OK]>\n",
       " <CIMultiDictProxy('Cache-Control': 'public, max-age=1933', 'Content-Type': 'text/html; charset=utf-8', 'Content-Encoding': 'gzip', 'Expires': 'Wed, 15 Apr 2020 02:28:45 GMT', 'Last-Modified': 'Wed, 15 Apr 2020 01:28:45 GMT', 'Vary': '*', 'Server': 'Microsoft-IIS/8.0', 'E-TAG': 'IE=Edge,chrome=1', 'Date': 'Wed, 15 Apr 2020 01:56:31 GMT', 'Content-Length': '15816')>,\n",
       " <ClientResponse(https://solicitors.lawsociety.org.uk/person/24/othelia-langner) [200 OK]>\n",
       " <CIMultiDictProxy('Cache-Control': 'public, max-age=1953', 'Content-Type': 'text/html; charset=utf-8', 'Content-Encoding': 'gzip', 'Expires': 'Wed, 15 Apr 2020 02:29:12 GMT', 'Last-Modified': 'Wed, 15 Apr 2020 01:29:12 GMT', 'Vary': '*', 'Server': 'Microsoft-IIS/8.0', 'E-TAG': 'IE=Edge,chrome=1', 'Date': 'Wed, 15 Apr 2020 01:56:38 GMT', 'Content-Length': '15458')>,\n",
       " <ClientResponse(https://solicitors.lawsociety.org.uk/person/25/shahzad-karim) [200 OK]>\n",
       " <CIMultiDictProxy('Cache-Control': 'public, max-age=1932', 'Content-Type': 'text/html; charset=utf-8', 'Content-Encoding': 'gzip', 'Expires': 'Wed, 15 Apr 2020 02:28:44 GMT', 'Last-Modified': 'Wed, 15 Apr 2020 01:28:44 GMT', 'Vary': '*', 'Server': 'Microsoft-IIS/8.0', 'E-TAG': 'IE=Edge,chrome=1', 'Date': 'Wed, 15 Apr 2020 01:56:31 GMT', 'Content-Length': '15955')>,\n",
       " <ClientResponse(https://solicitors.lawsociety.org.uk/person/26) [404 Not Found]>\n",
       " <CIMultiDictProxy('Server': 'Microsoft-IIS/8.0', 'Vary': '*', 'Cache-Control': 'public, no-cache=\"Set-Cookie\", max-age=3600', 'Content-Type': 'text/html; charset=utf-8', 'Date': 'Wed, 15 Apr 2020 01:56:30 GMT', 'Expires': 'Wed, 15 Apr 2020 02:56:30 GMT', 'E-TAG': 'IE=Edge,chrome=1', 'Set-Cookie': 'X-Mapping-fjhppofk=5479EDDAED71CAD28C4677155EAB3288; path=/', 'Set-Cookie': 'ASP.NET_SessionId=etikyplmw05qlk2ly2zp54ps; path=/; HttpOnly', 'Last-Modified': 'Wed, 15 Apr 2020 01:56:30 GMT', 'Content-Length': '58668')>,\n",
       " <ClientResponse(https://solicitors.lawsociety.org.uk/person/27) [404 Not Found]>\n",
       " <CIMultiDictProxy('Server': 'Microsoft-IIS/8.0', 'Vary': '*', 'Cache-Control': 'public, no-cache=\"Set-Cookie\", max-age=3600', 'Content-Type': 'text/html; charset=utf-8', 'Date': 'Wed, 15 Apr 2020 01:56:41 GMT', 'Expires': 'Wed, 15 Apr 2020 02:56:41 GMT', 'E-TAG': 'IE=Edge,chrome=1', 'Set-Cookie': 'X-Mapping-fjhppofk=5B1F85DE06FBFEFB5FDAB2FD3CC83118; path=/', 'Set-Cookie': 'ASP.NET_SessionId=rnnxi42sqhgxinqoby4p3yku; path=/; HttpOnly', 'Last-Modified': 'Wed, 15 Apr 2020 01:56:41 GMT', 'Content-Length': '58668')>,\n",
       " <ClientResponse(https://solicitors.lawsociety.org.uk/person/28) [404 Not Found]>\n",
       " <CIMultiDictProxy('Server': 'Microsoft-IIS/8.0', 'Vary': '*', 'Cache-Control': 'public, no-cache=\"Set-Cookie\", max-age=3600', 'Content-Type': 'text/html; charset=utf-8', 'Date': 'Wed, 15 Apr 2020 01:56:30 GMT', 'Expires': 'Wed, 15 Apr 2020 02:56:30 GMT', 'E-TAG': 'IE=Edge,chrome=1', 'Set-Cookie': 'X-Mapping-fjhppofk=FF2414E2F929F6BD664BBAABF302CD83; path=/', 'Set-Cookie': 'ASP.NET_SessionId=qkyg3aonjfzlq2hvdos3gx30; path=/; HttpOnly', 'Last-Modified': 'Wed, 15 Apr 2020 01:56:30 GMT', 'Content-Length': '58668')>,\n",
       " <ClientResponse(https://solicitors.lawsociety.org.uk/person/29) [404 Not Found]>\n",
       " <CIMultiDictProxy('Server': 'Microsoft-IIS/8.0', 'Vary': '*', 'Cache-Control': 'public, no-cache=\"Set-Cookie\", max-age=3600', 'Content-Type': 'text/html; charset=utf-8', 'Date': 'Wed, 15 Apr 2020 01:56:41 GMT', 'Expires': 'Wed, 15 Apr 2020 02:56:41 GMT', 'E-TAG': 'IE=Edge,chrome=1', 'Set-Cookie': 'X-Mapping-fjhppofk=5B1F85DE06FBFEFB5FDAB2FD3CC83118; path=/', 'Set-Cookie': 'ASP.NET_SessionId=r4nsckbkejclnwbja1an5ba5; path=/; HttpOnly', 'Last-Modified': 'Wed, 15 Apr 2020 01:56:41 GMT', 'Content-Length': '58668')>,\n",
       " <ClientResponse(https://solicitors.lawsociety.org.uk/person/30/julie-collinge) [200 OK]>\n",
       " <CIMultiDictProxy('Cache-Control': 'public, max-age=3396', 'Content-Type': 'text/html; charset=utf-8', 'Content-Encoding': 'gzip', 'Expires': 'Wed, 15 Apr 2020 02:53:18 GMT', 'Last-Modified': 'Wed, 15 Apr 2020 01:53:18 GMT', 'Vary': '*', 'Server': 'Microsoft-IIS/8.0', 'E-TAG': 'IE=Edge,chrome=1', 'Date': 'Wed, 15 Apr 2020 01:56:42 GMT', 'Content-Length': '15743')>,\n",
       " <ClientResponse(https://solicitors.lawsociety.org.uk/person/31/andrew-leon-macleod) [200 OK]>\n",
       " <CIMultiDictProxy('Cache-Control': 'public, max-age=1932', 'Content-Type': 'text/html; charset=utf-8', 'Content-Encoding': 'gzip', 'Expires': 'Wed, 15 Apr 2020 02:28:51 GMT', 'Last-Modified': 'Wed, 15 Apr 2020 01:28:51 GMT', 'Vary': '*', 'Server': 'Microsoft-IIS/8.0', 'E-TAG': 'IE=Edge,chrome=1', 'Date': 'Wed, 15 Apr 2020 01:56:38 GMT', 'Content-Length': '15813')>,\n",
       " <ClientResponse(https://solicitors.lawsociety.org.uk/person/32/nancy-elisabeth-harling) [200 OK]>\n",
       " <CIMultiDictProxy('Cache-Control': 'public, max-age=3395', 'Content-Type': 'text/html; charset=utf-8', 'Content-Encoding': 'gzip', 'Expires': 'Wed, 15 Apr 2020 02:53:14 GMT', 'Last-Modified': 'Wed, 15 Apr 2020 01:53:14 GMT', 'Vary': '*', 'Server': 'Microsoft-IIS/8.0', 'E-TAG': 'IE=Edge,chrome=1', 'Date': 'Wed, 15 Apr 2020 01:56:38 GMT', 'Content-Length': '15690')>,\n",
       " <ClientResponse(https://solicitors.lawsociety.org.uk/person/33) [404 Not Found]>\n",
       " <CIMultiDictProxy('Server': 'Microsoft-IIS/8.0', 'Vary': '*', 'Cache-Control': 'public, no-cache=\"Set-Cookie\", max-age=3600', 'Content-Type': 'text/html; charset=utf-8', 'Date': 'Wed, 15 Apr 2020 01:56:41 GMT', 'Expires': 'Wed, 15 Apr 2020 02:56:41 GMT', 'E-TAG': 'IE=Edge,chrome=1', 'Set-Cookie': 'X-Mapping-fjhppofk=5B1F85DE06FBFEFB5FDAB2FD3CC83118; path=/', 'Set-Cookie': 'ASP.NET_SessionId=ubtuxzok2vyxgh3w3vdyxtqv; path=/; HttpOnly', 'Last-Modified': 'Wed, 15 Apr 2020 01:56:41 GMT', 'Content-Length': '58668')>,\n",
       " <ClientResponse(https://solicitors.lawsociety.org.uk/person/34) [404 Not Found]>\n",
       " <CIMultiDictProxy('Server': 'Microsoft-IIS/8.0', 'Vary': '*', 'Cache-Control': 'public, no-cache=\"Set-Cookie\", max-age=3600', 'Content-Type': 'text/html; charset=utf-8', 'Date': 'Wed, 15 Apr 2020 01:56:30 GMT', 'Expires': 'Wed, 15 Apr 2020 02:56:30 GMT', 'E-TAG': 'IE=Edge,chrome=1', 'Set-Cookie': 'X-Mapping-fjhppofk=5479EDDAED71CAD28C4677155EAB3288; path=/', 'Set-Cookie': 'ASP.NET_SessionId=g5fqlczus3mo3igkbvsdycan; path=/; HttpOnly', 'Last-Modified': 'Wed, 15 Apr 2020 01:56:30 GMT', 'Content-Length': '58668')>,\n",
       " <ClientResponse(https://solicitors.lawsociety.org.uk/person/35/jacqueline-anne-thiis) [200 OK]>\n",
       " <CIMultiDictProxy('Cache-Control': 'public, max-age=3342', 'Content-Type': 'text/html; charset=utf-8', 'Content-Encoding': 'gzip', 'Expires': 'Wed, 15 Apr 2020 02:52:21 GMT', 'Last-Modified': 'Wed, 15 Apr 2020 01:52:21 GMT', 'Vary': '*', 'Server': 'Microsoft-IIS/8.0', 'E-TAG': 'IE=Edge,chrome=1', 'Date': 'Wed, 15 Apr 2020 01:56:39 GMT', 'Content-Length': '15787')>,\n",
       " <ClientResponse(https://solicitors.lawsociety.org.uk/person/36) [404 Not Found]>\n",
       " <CIMultiDictProxy('Server': 'Microsoft-IIS/8.0', 'Vary': '*', 'Cache-Control': 'public, no-cache=\"Set-Cookie\", max-age=3600', 'Content-Type': 'text/html; charset=utf-8', 'Date': 'Wed, 15 Apr 2020 01:56:41 GMT', 'Expires': 'Wed, 15 Apr 2020 02:56:41 GMT', 'E-TAG': 'IE=Edge,chrome=1', 'Set-Cookie': 'X-Mapping-fjhppofk=5B1F85DE06FBFEFB5FDAB2FD3CC83118; path=/', 'Set-Cookie': 'ASP.NET_SessionId=u0rfb23rv5l2g31tllprkdf2; path=/; HttpOnly', 'Last-Modified': 'Wed, 15 Apr 2020 01:56:41 GMT', 'Content-Length': '58668')>,\n",
       " <ClientResponse(https://solicitors.lawsociety.org.uk/person/37/william-graeme-gamble) [200 OK]>\n",
       " <CIMultiDictProxy('Cache-Control': 'public, max-age=1952', 'Content-Type': 'text/html; charset=utf-8', 'Content-Encoding': 'gzip', 'Expires': 'Wed, 15 Apr 2020 02:29:15 GMT', 'Last-Modified': 'Wed, 15 Apr 2020 01:29:15 GMT', 'Vary': '*', 'Server': 'Microsoft-IIS/8.0', 'E-TAG': 'IE=Edge,chrome=1', 'Date': 'Wed, 15 Apr 2020 01:56:42 GMT', 'Content-Length': '15856')>,\n",
       " <ClientResponse(https://solicitors.lawsociety.org.uk/person/38/elizabeth-tselepis-beesley) [200 OK]>\n",
       " <CIMultiDictProxy('Cache-Control': 'public, max-age=3415', 'Content-Type': 'text/html; charset=utf-8', 'Content-Encoding': 'gzip', 'Expires': 'Wed, 15 Apr 2020 02:53:28 GMT', 'Last-Modified': 'Wed, 15 Apr 2020 01:53:28 GMT', 'Vary': '*', 'Server': 'Microsoft-IIS/8.0', 'E-TAG': 'IE=Edge,chrome=1', 'Date': 'Wed, 15 Apr 2020 01:56:32 GMT', 'Content-Length': '15498')>,\n",
       " <ClientResponse(https://solicitors.lawsociety.org.uk/person/39) [404 Not Found]>\n",
       " <CIMultiDictProxy('Server': 'Microsoft-IIS/8.0', 'Vary': '*', 'Cache-Control': 'public, no-cache=\"Set-Cookie\", max-age=3600', 'Content-Type': 'text/html; charset=utf-8', 'Date': 'Wed, 15 Apr 2020 01:56:30 GMT', 'Expires': 'Wed, 15 Apr 2020 02:56:30 GMT', 'E-TAG': 'IE=Edge,chrome=1', 'Set-Cookie': 'X-Mapping-fjhppofk=5479EDDAED71CAD28C4677155EAB3288; path=/', 'Set-Cookie': 'ASP.NET_SessionId=2phlhg4fwqj1l2diffixmkp2; path=/; HttpOnly', 'Last-Modified': 'Wed, 15 Apr 2020 01:56:30 GMT', 'Content-Length': '58668')>,\n",
       " <ClientResponse(https://solicitors.lawsociety.org.uk/person/40/lauren-alexis-hillier) [200 OK]>\n",
       " <CIMultiDictProxy('Cache-Control': 'public, max-age=1933', 'Content-Type': 'text/html; charset=utf-8', 'Content-Encoding': 'gzip', 'Expires': 'Wed, 15 Apr 2020 02:28:45 GMT', 'Last-Modified': 'Wed, 15 Apr 2020 01:28:45 GMT', 'Vary': '*', 'Server': 'Microsoft-IIS/8.0', 'E-TAG': 'IE=Edge,chrome=1', 'Date': 'Wed, 15 Apr 2020 01:56:31 GMT', 'Content-Length': '15844')>,\n",
       " <ClientResponse(https://solicitors.lawsociety.org.uk/person/41) [404 Not Found]>\n",
       " <CIMultiDictProxy('Server': 'Microsoft-IIS/8.0', 'Vary': '*', 'Cache-Control': 'public, no-cache=\"Set-Cookie\", max-age=3600', 'Content-Type': 'text/html; charset=utf-8', 'Date': 'Wed, 15 Apr 2020 01:56:30 GMT', 'Expires': 'Wed, 15 Apr 2020 02:56:30 GMT', 'E-TAG': 'IE=Edge,chrome=1', 'Set-Cookie': 'X-Mapping-fjhppofk=5479EDDAED71CAD28C4677155EAB3288; path=/', 'Set-Cookie': 'ASP.NET_SessionId=rvjgvbfrm13cjqa2tnutoull; path=/; HttpOnly', 'Last-Modified': 'Wed, 15 Apr 2020 01:56:30 GMT', 'Content-Length': '58668')>,\n",
       " <ClientResponse(https://solicitors.lawsociety.org.uk/person/42/mabel-hau-yee-chiu) [200 OK]>\n",
       " <CIMultiDictProxy('Cache-Control': 'public, max-age=3600', 'Content-Type': 'text/html; charset=utf-8', 'Content-Encoding': 'gzip', 'Expires': 'Wed, 15 Apr 2020 02:56:32 GMT', 'Last-Modified': 'Wed, 15 Apr 2020 01:56:32 GMT', 'Vary': '*', 'Server': 'Microsoft-IIS/8.0', 'E-TAG': 'IE=Edge,chrome=1', 'Date': 'Wed, 15 Apr 2020 01:56:32 GMT', 'Content-Length': '15728')>,\n",
       " <ClientResponse(https://solicitors.lawsociety.org.uk/person/43/john-jeremy-arthur-cowdry) [200 OK]>\n",
       " <CIMultiDictProxy('Cache-Control': 'public, max-age=1952', 'Content-Type': 'text/html; charset=utf-8', 'Content-Encoding': 'gzip', 'Expires': 'Wed, 15 Apr 2020 02:29:04 GMT', 'Last-Modified': 'Wed, 15 Apr 2020 01:29:04 GMT', 'Vary': '*', 'Server': 'Microsoft-IIS/8.0', 'E-TAG': 'IE=Edge,chrome=1', 'Date': 'Wed, 15 Apr 2020 01:56:31 GMT', 'Content-Length': '15847')>,\n",
       " <ClientResponse(https://solicitors.lawsociety.org.uk/person/44) [404 Not Found]>\n",
       " <CIMultiDictProxy('Server': 'Microsoft-IIS/8.0', 'Vary': '*', 'Cache-Control': 'public, no-cache=\"Set-Cookie\", max-age=3600', 'Content-Type': 'text/html; charset=utf-8', 'Date': 'Wed, 15 Apr 2020 01:56:41 GMT', 'Expires': 'Wed, 15 Apr 2020 02:56:41 GMT', 'E-TAG': 'IE=Edge,chrome=1', 'Set-Cookie': 'X-Mapping-fjhppofk=5B1F85DE06FBFEFB5FDAB2FD3CC83118; path=/', 'Set-Cookie': 'ASP.NET_SessionId=s1orqbue3sngb3b0videbz5p; path=/; HttpOnly', 'Last-Modified': 'Wed, 15 Apr 2020 01:56:41 GMT', 'Content-Length': '58668')>,\n",
       " <ClientResponse(https://solicitors.lawsociety.org.uk/person/45/teresa-ann-baker) [200 OK]>\n",
       " <CIMultiDictProxy('Cache-Control': 'public, max-age=3367', 'Content-Type': 'text/html; charset=utf-8', 'Content-Encoding': 'gzip', 'Expires': 'Wed, 15 Apr 2020 02:52:50 GMT', 'Last-Modified': 'Wed, 15 Apr 2020 01:52:50 GMT', 'Vary': '*', 'Server': 'Microsoft-IIS/8.0', 'E-TAG': 'IE=Edge,chrome=1', 'Date': 'Wed, 15 Apr 2020 01:56:42 GMT', 'Content-Length': '15431')>,\n",
       " <ClientResponse(https://solicitors.lawsociety.org.uk/person/46) [404 Not Found]>\n",
       " <CIMultiDictProxy('Server': 'Microsoft-IIS/8.0', 'Vary': '*', 'Cache-Control': 'public, no-cache=\"Set-Cookie\", max-age=3600', 'Content-Type': 'text/html; charset=utf-8', 'Date': 'Wed, 15 Apr 2020 01:56:30 GMT', 'Expires': 'Wed, 15 Apr 2020 02:56:30 GMT', 'E-TAG': 'IE=Edge,chrome=1', 'Set-Cookie': 'X-Mapping-fjhppofk=FF2414E2F929F6BD664BBAABF302CD83; path=/', 'Set-Cookie': 'ASP.NET_SessionId=5j00psuctyrzjcr2zyakbgx2; path=/; HttpOnly', 'Last-Modified': 'Wed, 15 Apr 2020 01:56:30 GMT', 'Content-Length': '58668')>,\n",
       " <ClientResponse(https://solicitors.lawsociety.org.uk/person/47/roger-hart) [200 OK]>\n",
       " <CIMultiDictProxy('Cache-Control': 'public, max-age=3589', 'Content-Type': 'text/html; charset=utf-8', 'Content-Encoding': 'gzip', 'Expires': 'Wed, 15 Apr 2020 02:56:32 GMT', 'Last-Modified': 'Wed, 15 Apr 2020 01:56:32 GMT', 'Vary': '*', 'Server': 'Microsoft-IIS/8.0', 'E-TAG': 'IE=Edge,chrome=1', 'Date': 'Wed, 15 Apr 2020 01:56:42 GMT', 'Content-Length': '15872')>,\n",
       " <ClientResponse(https://solicitors.lawsociety.org.uk/person/48/sarra-jean-gravestock) [200 OK]>\n",
       " <CIMultiDictProxy('Cache-Control': 'public, max-age=3395', 'Content-Type': 'text/html; charset=utf-8', 'Content-Encoding': 'gzip', 'Expires': 'Wed, 15 Apr 2020 02:53:14 GMT', 'Last-Modified': 'Wed, 15 Apr 2020 01:53:14 GMT', 'Vary': '*', 'Server': 'Microsoft-IIS/8.0', 'E-TAG': 'IE=Edge,chrome=1', 'Date': 'Wed, 15 Apr 2020 01:56:38 GMT', 'Content-Length': '16031')>,\n",
       " <ClientResponse(https://solicitors.lawsociety.org.uk/person/49) [404 Not Found]>\n",
       " <CIMultiDictProxy('Server': 'Microsoft-IIS/8.0', 'Vary': '*', 'Cache-Control': 'public, no-cache=\"Set-Cookie\", max-age=3600', 'Content-Type': 'text/html; charset=utf-8', 'Date': 'Wed, 15 Apr 2020 01:56:30 GMT', 'Expires': 'Wed, 15 Apr 2020 02:56:30 GMT', 'E-TAG': 'IE=Edge,chrome=1', 'Set-Cookie': 'X-Mapping-fjhppofk=5479EDDAED71CAD28C4677155EAB3288; path=/', 'Set-Cookie': 'ASP.NET_SessionId=wmjx0pt1a4xinjdaumyxzila; path=/; HttpOnly', 'Last-Modified': 'Wed, 15 Apr 2020 01:56:30 GMT', 'Content-Length': '58668')>,\n",
       " <ClientResponse(https://solicitors.lawsociety.org.uk/person/50/kristina-taylor) [200 OK]>\n",
       " <CIMultiDictProxy('Cache-Control': 'public, max-age=1932', 'Content-Type': 'text/html; charset=utf-8', 'Content-Encoding': 'gzip', 'Expires': 'Wed, 15 Apr 2020 02:28:55 GMT', 'Last-Modified': 'Wed, 15 Apr 2020 01:28:55 GMT', 'Vary': '*', 'Server': 'Microsoft-IIS/8.0', 'E-TAG': 'IE=Edge,chrome=1', 'Date': 'Wed, 15 Apr 2020 01:56:42 GMT', 'Content-Length': '15463')>,\n",
       " <ClientResponse(https://solicitors.lawsociety.org.uk/person/51) [404 Not Found]>\n",
       " <CIMultiDictProxy('Server': 'Microsoft-IIS/8.0', 'Vary': '*', 'Cache-Control': 'public, no-cache=\"Set-Cookie\", max-age=3600', 'Content-Type': 'text/html; charset=utf-8', 'Date': 'Wed, 15 Apr 2020 01:56:30 GMT', 'Expires': 'Wed, 15 Apr 2020 02:56:30 GMT', 'E-TAG': 'IE=Edge,chrome=1', 'Set-Cookie': 'X-Mapping-fjhppofk=FF2414E2F929F6BD664BBAABF302CD83; path=/', 'Set-Cookie': 'ASP.NET_SessionId=ry32rljah22xfng2skw3nxxf; path=/; HttpOnly', 'Last-Modified': 'Wed, 15 Apr 2020 01:56:30 GMT', 'Content-Length': '58668')>,\n",
       " <ClientResponse(https://solicitors.lawsociety.org.uk/person/52) [404 Not Found]>\n",
       " <CIMultiDictProxy('Server': 'Microsoft-IIS/8.0', 'Vary': '*', 'Cache-Control': 'public, no-cache=\"Set-Cookie\", max-age=3600', 'Content-Type': 'text/html; charset=utf-8', 'Date': 'Wed, 15 Apr 2020 01:56:30 GMT', 'Expires': 'Wed, 15 Apr 2020 02:56:30 GMT', 'E-TAG': 'IE=Edge,chrome=1', 'Set-Cookie': 'X-Mapping-fjhppofk=FF2414E2F929F6BD664BBAABF302CD83; path=/', 'Set-Cookie': 'ASP.NET_SessionId=swszpqnz314mjkfihszg1et3; path=/; HttpOnly', 'Last-Modified': 'Wed, 15 Apr 2020 01:56:30 GMT', 'Content-Length': '58668')>,\n",
       " <ClientResponse(https://solicitors.lawsociety.org.uk/person/53) [404 Not Found]>\n",
       " <CIMultiDictProxy('Server': 'Microsoft-IIS/8.0', 'Vary': '*', 'Cache-Control': 'public, no-cache=\"Set-Cookie\", max-age=3600', 'Content-Type': 'text/html; charset=utf-8', 'Date': 'Wed, 15 Apr 2020 01:56:30 GMT', 'Expires': 'Wed, 15 Apr 2020 02:56:30 GMT', 'E-TAG': 'IE=Edge,chrome=1', 'Set-Cookie': 'X-Mapping-fjhppofk=5479EDDAED71CAD28C4677155EAB3288; path=/', 'Set-Cookie': 'ASP.NET_SessionId=oicnvyc2pmmewa4ezmo5zo2f; path=/; HttpOnly', 'Last-Modified': 'Wed, 15 Apr 2020 01:56:30 GMT', 'Content-Length': '58668')>,\n",
       " <ClientResponse(https://solicitors.lawsociety.org.uk/person/54) [404 Not Found]>\n",
       " <CIMultiDictProxy('Server': 'Microsoft-IIS/8.0', 'Vary': '*', 'Cache-Control': 'public, no-cache=\"Set-Cookie\", max-age=3600', 'Content-Type': 'text/html; charset=utf-8', 'Date': 'Wed, 15 Apr 2020 01:56:36 GMT', 'Expires': 'Wed, 15 Apr 2020 02:56:36 GMT', 'E-TAG': 'IE=Edge,chrome=1', 'Set-Cookie': 'X-Mapping-fjhppofk=BE5EEB346F808C7FC927A221A84ADB03; path=/', 'Set-Cookie': 'ASP.NET_SessionId=dzc0rqlv1um4e2v3ivkbjq3w; path=/; HttpOnly', 'Last-Modified': 'Wed, 15 Apr 2020 01:56:36 GMT', 'Content-Length': '58668')>,\n",
       " <ClientResponse(https://solicitors.lawsociety.org.uk/person/55) [404 Not Found]>\n",
       " <CIMultiDictProxy('Server': 'Microsoft-IIS/8.0', 'Vary': '*', 'Cache-Control': 'public, no-cache=\"Set-Cookie\", max-age=3600', 'Content-Type': 'text/html; charset=utf-8', 'Date': 'Wed, 15 Apr 2020 01:56:36 GMT', 'Expires': 'Wed, 15 Apr 2020 02:56:36 GMT', 'E-TAG': 'IE=Edge,chrome=1', 'Set-Cookie': 'X-Mapping-fjhppofk=BE5EEB346F808C7FC927A221A84ADB03; path=/', 'Set-Cookie': 'ASP.NET_SessionId=vhjuhk42nll2prsgk4qdrgqr; path=/; HttpOnly', 'Last-Modified': 'Wed, 15 Apr 2020 01:56:36 GMT', 'Content-Length': '58668')>,\n",
       " <ClientResponse(https://solicitors.lawsociety.org.uk/person/56/iftikhar-aziz) [200 OK]>\n",
       " <CIMultiDictProxy('Cache-Control': 'public, max-age=1934', 'Content-Type': 'text/html; charset=utf-8', 'Content-Encoding': 'gzip', 'Expires': 'Wed, 15 Apr 2020 02:28:57 GMT', 'Last-Modified': 'Wed, 15 Apr 2020 01:28:57 GMT', 'Vary': '*', 'Server': 'Microsoft-IIS/8.0', 'E-TAG': 'IE=Edge,chrome=1', 'Date': 'Wed, 15 Apr 2020 01:56:42 GMT', 'Content-Length': '15944')>,\n",
       " <ClientResponse(https://solicitors.lawsociety.org.uk/person/57) [404 Not Found]>\n",
       " <CIMultiDictProxy('Server': 'Microsoft-IIS/8.0', 'Vary': '*', 'Cache-Control': 'public, no-cache=\"Set-Cookie\", max-age=3600', 'Content-Type': 'text/html; charset=utf-8', 'Date': 'Wed, 15 Apr 2020 01:56:30 GMT', 'Expires': 'Wed, 15 Apr 2020 02:56:30 GMT', 'E-TAG': 'IE=Edge,chrome=1', 'Set-Cookie': 'X-Mapping-fjhppofk=FF2414E2F929F6BD664BBAABF302CD83; path=/', 'Set-Cookie': 'ASP.NET_SessionId=0thj1m2pofhtz2thry23n3jp; path=/; HttpOnly', 'Last-Modified': 'Wed, 15 Apr 2020 01:56:30 GMT', 'Content-Length': '58668')>,\n",
       " <ClientResponse(https://solicitors.lawsociety.org.uk/person/58) [404 Not Found]>\n",
       " <CIMultiDictProxy('Server': 'Microsoft-IIS/8.0', 'Vary': '*', 'Cache-Control': 'public, no-cache=\"Set-Cookie\", max-age=3600', 'Content-Type': 'text/html; charset=utf-8', 'Date': 'Wed, 15 Apr 2020 01:56:36 GMT', 'Expires': 'Wed, 15 Apr 2020 02:56:36 GMT', 'E-TAG': 'IE=Edge,chrome=1', 'Set-Cookie': 'X-Mapping-fjhppofk=BE5EEB346F808C7FC927A221A84ADB03; path=/', 'Set-Cookie': 'ASP.NET_SessionId=ldinasba52fnyr1vr5utylfi; path=/; HttpOnly', 'Last-Modified': 'Wed, 15 Apr 2020 01:56:36 GMT', 'Content-Length': '58668')>,\n",
       " <ClientResponse(https://solicitors.lawsociety.org.uk/person/59/keith-william-jones) [200 OK]>\n",
       " <CIMultiDictProxy('Cache-Control': 'public, max-age=1952', 'Content-Type': 'text/html; charset=utf-8', 'Content-Encoding': 'gzip', 'Expires': 'Wed, 15 Apr 2020 02:29:04 GMT', 'Last-Modified': 'Wed, 15 Apr 2020 01:29:04 GMT', 'Vary': '*', 'Server': 'Microsoft-IIS/8.0', 'E-TAG': 'IE=Edge,chrome=1', 'Date': 'Wed, 15 Apr 2020 01:56:31 GMT', 'Content-Length': '15923')>,\n",
       " <ClientResponse(https://solicitors.lawsociety.org.uk/person/60) [404 Not Found]>\n",
       " <CIMultiDictProxy('Server': 'Microsoft-IIS/8.0', 'Vary': '*', 'Cache-Control': 'public, no-cache=\"Set-Cookie\", max-age=3600', 'Content-Type': 'text/html; charset=utf-8', 'Date': 'Wed, 15 Apr 2020 01:56:30 GMT', 'Expires': 'Wed, 15 Apr 2020 02:56:30 GMT', 'E-TAG': 'IE=Edge,chrome=1', 'Set-Cookie': 'X-Mapping-fjhppofk=5479EDDAED71CAD28C4677155EAB3288; path=/', 'Set-Cookie': 'ASP.NET_SessionId=31xmguwbayplpliwzbizesfa; path=/; HttpOnly', 'Last-Modified': 'Wed, 15 Apr 2020 01:56:30 GMT', 'Content-Length': '58668')>,\n",
       " <ClientResponse(https://solicitors.lawsociety.org.uk/person/61/susie-wheeler) [200 OK]>\n",
       " <CIMultiDictProxy('Cache-Control': 'public, max-age=1933', 'Content-Type': 'text/html; charset=utf-8', 'Content-Encoding': 'gzip', 'Expires': 'Wed, 15 Apr 2020 02:28:56 GMT', 'Last-Modified': 'Wed, 15 Apr 2020 01:28:56 GMT', 'Vary': '*', 'Server': 'Microsoft-IIS/8.0', 'E-TAG': 'IE=Edge,chrome=1', 'Date': 'Wed, 15 Apr 2020 01:56:42 GMT', 'Content-Length': '15790')>,\n",
       " <ClientResponse(https://solicitors.lawsociety.org.uk/person/62/jason-theo-george-charalambous) [200 OK]>\n",
       " <CIMultiDictProxy('Cache-Control': 'public, max-age=1953', 'Content-Type': 'text/html; charset=utf-8', 'Content-Encoding': 'gzip', 'Expires': 'Wed, 15 Apr 2020 02:29:05 GMT', 'Last-Modified': 'Wed, 15 Apr 2020 01:29:05 GMT', 'Vary': '*', 'Server': 'Microsoft-IIS/8.0', 'E-TAG': 'IE=Edge,chrome=1', 'Date': 'Wed, 15 Apr 2020 01:56:31 GMT', 'Content-Length': '16074')>,\n",
       " <ClientResponse(https://solicitors.lawsociety.org.uk/person/63) [404 Not Found]>\n",
       " <CIMultiDictProxy('Server': 'Microsoft-IIS/8.0', 'Vary': '*', 'Cache-Control': 'public, no-cache=\"Set-Cookie\", max-age=3600', 'Content-Type': 'text/html; charset=utf-8', 'Date': 'Wed, 15 Apr 2020 01:56:30 GMT', 'Expires': 'Wed, 15 Apr 2020 02:56:30 GMT', 'E-TAG': 'IE=Edge,chrome=1', 'Set-Cookie': 'X-Mapping-fjhppofk=5479EDDAED71CAD28C4677155EAB3288; path=/', 'Set-Cookie': 'ASP.NET_SessionId=jj32ijtk3gk22fq4zzetvxwz; path=/; HttpOnly', 'Last-Modified': 'Wed, 15 Apr 2020 01:56:30 GMT', 'Content-Length': '58668')>,\n",
       " <ClientResponse(https://solicitors.lawsociety.org.uk/person/64) [404 Not Found]>\n",
       " <CIMultiDictProxy('Server': 'Microsoft-IIS/8.0', 'Vary': '*', 'Cache-Control': 'public, no-cache=\"Set-Cookie\", max-age=3600', 'Content-Type': 'text/html; charset=utf-8', 'Date': 'Wed, 15 Apr 2020 01:56:41 GMT', 'Expires': 'Wed, 15 Apr 2020 02:56:41 GMT', 'E-TAG': 'IE=Edge,chrome=1', 'Set-Cookie': 'X-Mapping-fjhppofk=5B1F85DE06FBFEFB5FDAB2FD3CC83118; path=/', 'Set-Cookie': 'ASP.NET_SessionId=frlgowaggteezho4dnekg4kd; path=/; HttpOnly', 'Last-Modified': 'Wed, 15 Apr 2020 01:56:41 GMT', 'Content-Length': '58668')>,\n",
       " <ClientResponse(https://solicitors.lawsociety.org.uk/person/65/louise-sackley) [200 OK]>\n",
       " <CIMultiDictProxy('Cache-Control': 'public, max-age=3367', 'Content-Type': 'text/html; charset=utf-8', 'Content-Encoding': 'gzip', 'Expires': 'Wed, 15 Apr 2020 02:52:46 GMT', 'Last-Modified': 'Wed, 15 Apr 2020 01:52:46 GMT', 'Vary': '*', 'Server': 'Microsoft-IIS/8.0', 'E-TAG': 'IE=Edge,chrome=1', 'Date': 'Wed, 15 Apr 2020 01:56:39 GMT', 'Content-Length': '15402')>,\n",
       " <ClientResponse(https://solicitors.lawsociety.org.uk/person/66/richard-david-woolley) [200 OK]>\n",
       " <CIMultiDictProxy('Cache-Control': 'public, max-age=3328', 'Content-Type': 'text/html; charset=utf-8', 'Content-Encoding': 'gzip', 'Expires': 'Wed, 15 Apr 2020 02:52:00 GMT', 'Last-Modified': 'Wed, 15 Apr 2020 01:52:00 GMT', 'Vary': '*', 'Server': 'Microsoft-IIS/8.0', 'E-TAG': 'IE=Edge,chrome=1', 'Date': 'Wed, 15 Apr 2020 01:56:31 GMT', 'Content-Length': '15815')>,\n",
       " <ClientResponse(https://solicitors.lawsociety.org.uk/person/67/rhiannon-sarah-jones) [200 OK]>\n",
       " <CIMultiDictProxy('Cache-Control': 'public, max-age=3415', 'Content-Type': 'text/html; charset=utf-8', 'Content-Encoding': 'gzip', 'Expires': 'Wed, 15 Apr 2020 02:53:38 GMT', 'Last-Modified': 'Wed, 15 Apr 2020 01:53:38 GMT', 'Vary': '*', 'Server': 'Microsoft-IIS/8.0', 'E-TAG': 'IE=Edge,chrome=1', 'Date': 'Wed, 15 Apr 2020 01:56:42 GMT', 'Content-Length': '15960')>,\n",
       " <ClientResponse(https://solicitors.lawsociety.org.uk/person/68/christopher-taylor) [200 OK]>\n",
       " <CIMultiDictProxy('Cache-Control': 'public, max-age=1933', 'Content-Type': 'text/html; charset=utf-8', 'Content-Encoding': 'gzip', 'Expires': 'Wed, 15 Apr 2020 02:28:52 GMT', 'Last-Modified': 'Wed, 15 Apr 2020 01:28:52 GMT', 'Vary': '*', 'Server': 'Microsoft-IIS/8.0', 'E-TAG': 'IE=Edge,chrome=1', 'Date': 'Wed, 15 Apr 2020 01:56:38 GMT', 'Content-Length': '15848')>,\n",
       " <ClientResponse(https://solicitors.lawsociety.org.uk/person/69/john-blavo) [200 OK]>\n",
       " <CIMultiDictProxy('Cache-Control': 'public, max-age=3396', 'Content-Type': 'text/html; charset=utf-8', 'Content-Encoding': 'gzip', 'Expires': 'Wed, 15 Apr 2020 02:53:08 GMT', 'Last-Modified': 'Wed, 15 Apr 2020 01:53:08 GMT', 'Vary': '*', 'Server': 'Microsoft-IIS/8.0', 'E-TAG': 'IE=Edge,chrome=1', 'Date': 'Wed, 15 Apr 2020 01:56:31 GMT', 'Content-Length': '15482')>,\n",
       " <ClientResponse(https://solicitors.lawsociety.org.uk/person/70/rosemary-claire-collins) [200 OK]>\n",
       " <CIMultiDictProxy('Cache-Control': 'public, max-age=3327', 'Content-Type': 'text/html; charset=utf-8', 'Content-Encoding': 'gzip', 'Expires': 'Wed, 15 Apr 2020 02:52:01 GMT', 'Last-Modified': 'Wed, 15 Apr 2020 01:52:01 GMT', 'Vary': '*', 'Server': 'Microsoft-IIS/8.0', 'E-TAG': 'IE=Edge,chrome=1', 'Date': 'Wed, 15 Apr 2020 01:56:32 GMT', 'Content-Length': '15760')>,\n",
       " <ClientResponse(https://solicitors.lawsociety.org.uk/person/71/sho-matsumiya) [200 OK]>\n",
       " <CIMultiDictProxy('Cache-Control': 'public, max-age=3370', 'Content-Type': 'text/html; charset=utf-8', 'Content-Encoding': 'gzip', 'Expires': 'Wed, 15 Apr 2020 02:52:42 GMT', 'Last-Modified': 'Wed, 15 Apr 2020 01:52:42 GMT', 'Vary': '*', 'Server': 'Microsoft-IIS/8.0', 'E-TAG': 'IE=Edge,chrome=1', 'Date': 'Wed, 15 Apr 2020 01:56:31 GMT', 'Content-Length': '15466')>,\n",
       " <ClientResponse(https://solicitors.lawsociety.org.uk/person/72) [404 Not Found]>\n",
       " <CIMultiDictProxy('Server': 'Microsoft-IIS/8.0', 'Vary': '*', 'Cache-Control': 'public, no-cache=\"Set-Cookie\", max-age=3600', 'Content-Type': 'text/html; charset=utf-8', 'Date': 'Wed, 15 Apr 2020 01:56:36 GMT', 'Expires': 'Wed, 15 Apr 2020 02:56:36 GMT', 'E-TAG': 'IE=Edge,chrome=1', 'Set-Cookie': 'X-Mapping-fjhppofk=BE5EEB346F808C7FC927A221A84ADB03; path=/', 'Set-Cookie': 'ASP.NET_SessionId=3l5er1vtpqytafonholb3cgr; path=/; HttpOnly', 'Last-Modified': 'Wed, 15 Apr 2020 01:56:36 GMT', 'Content-Length': '58668')>,\n",
       " <ClientResponse(https://solicitors.lawsociety.org.uk/person/73/eleanor-caitlin-jennings-rogers) [200 OK]>\n",
       " <CIMultiDictProxy('Cache-Control': 'public, max-age=3329', 'Content-Type': 'text/html; charset=utf-8', 'Content-Encoding': 'gzip', 'Expires': 'Wed, 15 Apr 2020 02:52:01 GMT', 'Last-Modified': 'Wed, 15 Apr 2020 01:52:01 GMT', 'Vary': '*', 'Server': 'Microsoft-IIS/8.0', 'E-TAG': 'IE=Edge,chrome=1', 'Date': 'Wed, 15 Apr 2020 01:56:31 GMT', 'Content-Length': '15374')>,\n",
       " <ClientResponse(https://solicitors.lawsociety.org.uk/person/74/alan-james-plummer) [200 OK]>\n",
       " <CIMultiDictProxy('Cache-Control': 'public, max-age=3396', 'Content-Type': 'text/html; charset=utf-8', 'Content-Encoding': 'gzip', 'Expires': 'Wed, 15 Apr 2020 02:53:08 GMT', 'Last-Modified': 'Wed, 15 Apr 2020 01:53:08 GMT', 'Vary': '*', 'Server': 'Microsoft-IIS/8.0', 'E-TAG': 'IE=Edge,chrome=1', 'Date': 'Wed, 15 Apr 2020 01:56:31 GMT', 'Content-Length': '15456')>,\n",
       " <ClientResponse(https://solicitors.lawsociety.org.uk/person/75) [404 Not Found]>\n",
       " <CIMultiDictProxy('Server': 'Microsoft-IIS/8.0', 'Vary': '*', 'Cache-Control': 'public, no-cache=\"Set-Cookie\", max-age=3600', 'Content-Type': 'text/html; charset=utf-8', 'Date': 'Wed, 15 Apr 2020 01:56:41 GMT', 'Expires': 'Wed, 15 Apr 2020 02:56:41 GMT', 'E-TAG': 'IE=Edge,chrome=1', 'Set-Cookie': 'X-Mapping-fjhppofk=5B1F85DE06FBFEFB5FDAB2FD3CC83118; path=/', 'Set-Cookie': 'ASP.NET_SessionId=gnaaf3waepux44acy1rp3zcz; path=/; HttpOnly', 'Last-Modified': 'Wed, 15 Apr 2020 01:56:41 GMT', 'Content-Length': '58668')>,\n",
       " <ClientResponse(https://solicitors.lawsociety.org.uk/person/76/maria-bernadette-kidd) [200 OK]>\n",
       " <CIMultiDictProxy('Cache-Control': 'public, max-age=1933', 'Content-Type': 'text/html; charset=utf-8', 'Content-Encoding': 'gzip', 'Expires': 'Wed, 15 Apr 2020 02:28:45 GMT', 'Last-Modified': 'Wed, 15 Apr 2020 01:28:45 GMT', 'Vary': '*', 'Server': 'Microsoft-IIS/8.0', 'E-TAG': 'IE=Edge,chrome=1', 'Date': 'Wed, 15 Apr 2020 01:56:31 GMT', 'Content-Length': '15854')>,\n",
       " <ClientResponse(https://solicitors.lawsociety.org.uk/person/77/nicholas-andrew-mills) [200 OK]>\n",
       " <CIMultiDictProxy('Cache-Control': 'public, max-age=3370', 'Content-Type': 'text/html; charset=utf-8', 'Content-Encoding': 'gzip', 'Expires': 'Wed, 15 Apr 2020 02:52:49 GMT', 'Last-Modified': 'Wed, 15 Apr 2020 01:52:49 GMT', 'Vary': '*', 'Server': 'Microsoft-IIS/8.0', 'E-TAG': 'IE=Edge,chrome=1', 'Date': 'Wed, 15 Apr 2020 01:56:38 GMT', 'Content-Length': '15870')>,\n",
       " <ClientResponse(https://solicitors.lawsociety.org.uk/person/78/aysha-mirza) [200 OK]>\n",
       " <CIMultiDictProxy('Cache-Control': 'public, max-age=3414', 'Content-Type': 'text/html; charset=utf-8', 'Content-Encoding': 'gzip', 'Expires': 'Wed, 15 Apr 2020 02:53:33 GMT', 'Last-Modified': 'Wed, 15 Apr 2020 01:53:33 GMT', 'Vary': '*', 'Server': 'Microsoft-IIS/8.0', 'E-TAG': 'IE=Edge,chrome=1', 'Date': 'Wed, 15 Apr 2020 01:56:38 GMT', 'Content-Length': '15815')>,\n",
       " <ClientResponse(https://solicitors.lawsociety.org.uk/person/79/katy-fordham) [200 OK]>\n",
       " <CIMultiDictProxy('Cache-Control': 'public, max-age=1934', 'Content-Type': 'text/html; charset=utf-8', 'Content-Encoding': 'gzip', 'Expires': 'Wed, 15 Apr 2020 02:28:46 GMT', 'Last-Modified': 'Wed, 15 Apr 2020 01:28:46 GMT', 'Vary': '*', 'Server': 'Microsoft-IIS/8.0', 'E-TAG': 'IE=Edge,chrome=1', 'Date': 'Wed, 15 Apr 2020 01:56:31 GMT', 'Content-Length': '15874')>,\n",
       " <ClientResponse(https://solicitors.lawsociety.org.uk/person/80) [404 Not Found]>\n",
       " <CIMultiDictProxy('Server': 'Microsoft-IIS/8.0', 'Vary': '*', 'Cache-Control': 'public, no-cache=\"Set-Cookie\", max-age=3600', 'Content-Type': 'text/html; charset=utf-8', 'Date': 'Wed, 15 Apr 2020 01:56:36 GMT', 'Expires': 'Wed, 15 Apr 2020 02:56:36 GMT', 'E-TAG': 'IE=Edge,chrome=1', 'Set-Cookie': 'X-Mapping-fjhppofk=BE5EEB346F808C7FC927A221A84ADB03; path=/', 'Set-Cookie': 'ASP.NET_SessionId=50jbm4gweruhpjebemqznpmb; path=/; HttpOnly', 'Last-Modified': 'Wed, 15 Apr 2020 01:56:36 GMT', 'Content-Length': '58668')>,\n",
       " <ClientResponse(https://solicitors.lawsociety.org.uk/person/81/malcolm-henry-brahams) [200 OK]>\n",
       " <CIMultiDictProxy('Cache-Control': 'public, max-age=1952', 'Content-Type': 'text/html; charset=utf-8', 'Content-Encoding': 'gzip', 'Expires': 'Wed, 15 Apr 2020 02:29:05 GMT', 'Last-Modified': 'Wed, 15 Apr 2020 01:29:05 GMT', 'Vary': '*', 'Server': 'Microsoft-IIS/8.0', 'E-TAG': 'IE=Edge,chrome=1', 'Date': 'Wed, 15 Apr 2020 01:56:31 GMT', 'Content-Length': '15828')>,\n",
       " <ClientResponse(https://solicitors.lawsociety.org.uk/person/82/rebecca-louise-catherine-cliff) [200 OK]>\n",
       " <CIMultiDictProxy('Cache-Control': 'public, max-age=1952', 'Content-Type': 'text/html; charset=utf-8', 'Content-Encoding': 'gzip', 'Expires': 'Wed, 15 Apr 2020 02:29:04 GMT', 'Last-Modified': 'Wed, 15 Apr 2020 01:29:04 GMT', 'Vary': '*', 'Server': 'Microsoft-IIS/8.0', 'E-TAG': 'IE=Edge,chrome=1', 'Date': 'Wed, 15 Apr 2020 01:56:31 GMT', 'Content-Length': '15412')>,\n",
       " <ClientResponse(https://solicitors.lawsociety.org.uk/person/83/anabelle-wiedmann) [200 OK]>\n",
       " <CIMultiDictProxy('Cache-Control': 'public, max-age=3456', 'Content-Type': 'text/html; charset=utf-8', 'Content-Encoding': 'gzip', 'Expires': 'Wed, 15 Apr 2020 02:54:08 GMT', 'Last-Modified': 'Wed, 15 Apr 2020 01:54:08 GMT', 'Vary': '*', 'Server': 'Microsoft-IIS/8.0', 'E-TAG': 'IE=Edge,chrome=1', 'Date': 'Wed, 15 Apr 2020 01:56:31 GMT', 'Content-Length': '15406')>,\n",
       " <ClientResponse(https://solicitors.lawsociety.org.uk/person/84/nicola-sharon-denton-masih) [200 OK]>\n",
       " <CIMultiDictProxy('Cache-Control': 'public, max-age=1934', 'Content-Type': 'text/html; charset=utf-8', 'Content-Encoding': 'gzip', 'Expires': 'Wed, 15 Apr 2020 02:28:57 GMT', 'Last-Modified': 'Wed, 15 Apr 2020 01:28:57 GMT', 'Vary': '*', 'Server': 'Microsoft-IIS/8.0', 'E-TAG': 'IE=Edge,chrome=1', 'Date': 'Wed, 15 Apr 2020 01:56:42 GMT', 'Content-Length': '15798')>,\n",
       " <ClientResponse(https://solicitors.lawsociety.org.uk/person/85/catherine-mary-forkah) [200 OK]>\n",
       " <CIMultiDictProxy('Cache-Control': 'public, max-age=1933', 'Content-Type': 'text/html; charset=utf-8', 'Content-Encoding': 'gzip', 'Expires': 'Wed, 15 Apr 2020 02:28:45 GMT', 'Last-Modified': 'Wed, 15 Apr 2020 01:28:45 GMT', 'Vary': '*', 'Server': 'Microsoft-IIS/8.0', 'E-TAG': 'IE=Edge,chrome=1', 'Date': 'Wed, 15 Apr 2020 01:56:31 GMT', 'Content-Length': '15709')>,\n",
       " <ClientResponse(https://solicitors.lawsociety.org.uk/person/86/gillian-milton) [200 OK]>\n",
       " <CIMultiDictProxy('Cache-Control': 'public, max-age=1934', 'Content-Type': 'text/html; charset=utf-8', 'Content-Encoding': 'gzip', 'Expires': 'Wed, 15 Apr 2020 02:28:57 GMT', 'Last-Modified': 'Wed, 15 Apr 2020 01:28:57 GMT', 'Vary': '*', 'Server': 'Microsoft-IIS/8.0', 'E-TAG': 'IE=Edge,chrome=1', 'Date': 'Wed, 15 Apr 2020 01:56:42 GMT', 'Content-Length': '16061')>,\n",
       " <ClientResponse(https://solicitors.lawsociety.org.uk/person/87) [404 Not Found]>\n",
       " <CIMultiDictProxy('Server': 'Microsoft-IIS/8.0', 'Vary': '*', 'Cache-Control': 'public, no-cache=\"Set-Cookie\", max-age=3600', 'Content-Type': 'text/html; charset=utf-8', 'Date': 'Wed, 15 Apr 2020 01:56:36 GMT', 'Expires': 'Wed, 15 Apr 2020 02:56:37 GMT', 'E-TAG': 'IE=Edge,chrome=1', 'Set-Cookie': 'X-Mapping-fjhppofk=BE5EEB346F808C7FC927A221A84ADB03; path=/', 'Set-Cookie': 'ASP.NET_SessionId=2iu0fkgyhxmitmbricq3ehwh; path=/; HttpOnly', 'Last-Modified': 'Wed, 15 Apr 2020 01:56:37 GMT', 'Content-Length': '58668')>,\n",
       " <ClientResponse(https://solicitors.lawsociety.org.uk/person/88) [404 Not Found]>\n",
       " <CIMultiDictProxy('Server': 'Microsoft-IIS/8.0', 'Vary': '*', 'Cache-Control': 'public, no-cache=\"Set-Cookie\", max-age=3600', 'Content-Type': 'text/html; charset=utf-8', 'Date': 'Wed, 15 Apr 2020 01:56:36 GMT', 'Expires': 'Wed, 15 Apr 2020 02:56:37 GMT', 'E-TAG': 'IE=Edge,chrome=1', 'Set-Cookie': 'X-Mapping-fjhppofk=BE5EEB346F808C7FC927A221A84ADB03; path=/', 'Set-Cookie': 'ASP.NET_SessionId=45zqxpi0meney4luldpg5d5b; path=/; HttpOnly', 'Last-Modified': 'Wed, 15 Apr 2020 01:56:37 GMT', 'Content-Length': '58668')>,\n",
       " <ClientResponse(https://solicitors.lawsociety.org.uk/person/89) [404 Not Found]>\n",
       " <CIMultiDictProxy('Server': 'Microsoft-IIS/8.0', 'Vary': '*', 'Cache-Control': 'public, no-cache=\"Set-Cookie\", max-age=3600', 'Content-Type': 'text/html; charset=utf-8', 'Date': 'Wed, 15 Apr 2020 01:56:30 GMT', 'Expires': 'Wed, 15 Apr 2020 02:56:30 GMT', 'E-TAG': 'IE=Edge,chrome=1', 'Set-Cookie': 'X-Mapping-fjhppofk=5479EDDAED71CAD28C4677155EAB3288; path=/', 'Set-Cookie': 'ASP.NET_SessionId=dt1jnbuvn01efoxa3c5o3mia; path=/; HttpOnly', 'Last-Modified': 'Wed, 15 Apr 2020 01:56:30 GMT', 'Content-Length': '58668')>,\n",
       " <ClientResponse(https://solicitors.lawsociety.org.uk/person/90) [404 Not Found]>\n",
       " <CIMultiDictProxy('Server': 'Microsoft-IIS/8.0', 'Vary': '*', 'Cache-Control': 'public, no-cache=\"Set-Cookie\", max-age=3600', 'Content-Type': 'text/html; charset=utf-8', 'Date': 'Wed, 15 Apr 2020 01:56:36 GMT', 'Expires': 'Wed, 15 Apr 2020 02:56:37 GMT', 'E-TAG': 'IE=Edge,chrome=1', 'Set-Cookie': 'X-Mapping-fjhppofk=BE5EEB346F808C7FC927A221A84ADB03; path=/', 'Set-Cookie': 'ASP.NET_SessionId=5gyvhbv33ixjhknc1q1mdoyy; path=/; HttpOnly', 'Last-Modified': 'Wed, 15 Apr 2020 01:56:37 GMT', 'Content-Length': '58668')>,\n",
       " <ClientResponse(https://solicitors.lawsociety.org.uk/person/91) [404 Not Found]>\n",
       " <CIMultiDictProxy('Server': 'Microsoft-IIS/8.0', 'Vary': '*', 'Cache-Control': 'public, no-cache=\"Set-Cookie\", max-age=3600', 'Content-Type': 'text/html; charset=utf-8', 'Date': 'Wed, 15 Apr 2020 01:56:30 GMT', 'Expires': 'Wed, 15 Apr 2020 02:56:30 GMT', 'E-TAG': 'IE=Edge,chrome=1', 'Set-Cookie': 'X-Mapping-fjhppofk=5479EDDAED71CAD28C4677155EAB3288; path=/', 'Set-Cookie': 'ASP.NET_SessionId=42dkpn1wxreorhjiojkgvvil; path=/; HttpOnly', 'Last-Modified': 'Wed, 15 Apr 2020 01:56:30 GMT', 'Content-Length': '58668')>,\n",
       " <ClientResponse(https://solicitors.lawsociety.org.uk/person/92/jonathan-david-scrine) [200 OK]>\n",
       " <CIMultiDictProxy('Cache-Control': 'public, max-age=3394', 'Content-Type': 'text/html; charset=utf-8', 'Content-Encoding': 'gzip', 'Expires': 'Wed, 15 Apr 2020 02:53:12 GMT', 'Last-Modified': 'Wed, 15 Apr 2020 01:53:12 GMT', 'Vary': '*', 'Server': 'Microsoft-IIS/8.0', 'E-TAG': 'IE=Edge,chrome=1', 'Date': 'Wed, 15 Apr 2020 01:56:38 GMT', 'Content-Length': '15705')>,\n",
       " <ClientResponse(https://solicitors.lawsociety.org.uk/person/93) [404 Not Found]>\n",
       " <CIMultiDictProxy('Server': 'Microsoft-IIS/8.0', 'Vary': '*', 'Cache-Control': 'public, no-cache=\"Set-Cookie\", max-age=3600', 'Content-Type': 'text/html; charset=utf-8', 'Date': 'Wed, 15 Apr 2020 01:56:41 GMT', 'Expires': 'Wed, 15 Apr 2020 02:56:41 GMT', 'E-TAG': 'IE=Edge,chrome=1', 'Set-Cookie': 'X-Mapping-fjhppofk=5B1F85DE06FBFEFB5FDAB2FD3CC83118; path=/', 'Set-Cookie': 'ASP.NET_SessionId=feczqqawuqphcr2tjnbtwfck; path=/; HttpOnly', 'Last-Modified': 'Wed, 15 Apr 2020 01:56:41 GMT', 'Content-Length': '58668')>,\n",
       " <ClientResponse(https://solicitors.lawsociety.org.uk/person/94/richard-graeme-hare) [200 OK]>\n",
       " <CIMultiDictProxy('Cache-Control': 'public, max-age=1953', 'Content-Type': 'text/html; charset=utf-8', 'Content-Encoding': 'gzip', 'Expires': 'Wed, 15 Apr 2020 02:29:05 GMT', 'Last-Modified': 'Wed, 15 Apr 2020 01:29:05 GMT', 'Vary': '*', 'Server': 'Microsoft-IIS/8.0', 'E-TAG': 'IE=Edge,chrome=1', 'Date': 'Wed, 15 Apr 2020 01:56:31 GMT', 'Content-Length': '15402')>,\n",
       " <ClientResponse(https://solicitors.lawsociety.org.uk/person/95) [404 Not Found]>\n",
       " <CIMultiDictProxy('Server': 'Microsoft-IIS/8.0', 'Vary': '*', 'Cache-Control': 'public, no-cache=\"Set-Cookie\", max-age=3600', 'Content-Type': 'text/html; charset=utf-8', 'Date': 'Wed, 15 Apr 2020 01:56:30 GMT', 'Expires': 'Wed, 15 Apr 2020 02:56:30 GMT', 'E-TAG': 'IE=Edge,chrome=1', 'Set-Cookie': 'X-Mapping-fjhppofk=5479EDDAED71CAD28C4677155EAB3288; path=/', 'Set-Cookie': 'ASP.NET_SessionId=0ouruxrqlk2wzciwnspyf4ac; path=/; HttpOnly', 'Last-Modified': 'Wed, 15 Apr 2020 01:56:30 GMT', 'Content-Length': '58668')>,\n",
       " <ClientResponse(https://solicitors.lawsociety.org.uk/person/96) [404 Not Found]>\n",
       " <CIMultiDictProxy('Server': 'Microsoft-IIS/8.0', 'Vary': '*', 'Cache-Control': 'public, no-cache=\"Set-Cookie\", max-age=3600', 'Content-Type': 'text/html; charset=utf-8', 'Date': 'Wed, 15 Apr 2020 01:56:41 GMT', 'Expires': 'Wed, 15 Apr 2020 02:56:41 GMT', 'E-TAG': 'IE=Edge,chrome=1', 'Set-Cookie': 'X-Mapping-fjhppofk=5B1F85DE06FBFEFB5FDAB2FD3CC83118; path=/', 'Set-Cookie': 'ASP.NET_SessionId=44ks2kdehcwoco53nuucm2ls; path=/; HttpOnly', 'Last-Modified': 'Wed, 15 Apr 2020 01:56:41 GMT', 'Content-Length': '58668')>,\n",
       " <ClientResponse(https://solicitors.lawsociety.org.uk/person/97) [404 Not Found]>\n",
       " <CIMultiDictProxy('Server': 'Microsoft-IIS/8.0', 'Vary': '*', 'Cache-Control': 'public, no-cache=\"Set-Cookie\", max-age=3600', 'Content-Type': 'text/html; charset=utf-8', 'Date': 'Wed, 15 Apr 2020 01:56:30 GMT', 'Expires': 'Wed, 15 Apr 2020 02:56:30 GMT', 'E-TAG': 'IE=Edge,chrome=1', 'Set-Cookie': 'X-Mapping-fjhppofk=FF2414E2F929F6BD664BBAABF302CD83; path=/', 'Set-Cookie': 'ASP.NET_SessionId=ks4bbxynn5qhq14okuvv4vis; path=/; HttpOnly', 'Last-Modified': 'Wed, 15 Apr 2020 01:56:30 GMT', 'Content-Length': '58668')>,\n",
       " <ClientResponse(https://solicitors.lawsociety.org.uk/person/98/amy-margaret-roberts) [200 OK]>\n",
       " <CIMultiDictProxy('Cache-Control': 'public, max-age=3415', 'Content-Type': 'text/html; charset=utf-8', 'Content-Encoding': 'gzip', 'Expires': 'Wed, 15 Apr 2020 02:53:38 GMT', 'Last-Modified': 'Wed, 15 Apr 2020 01:53:38 GMT', 'Vary': '*', 'Server': 'Microsoft-IIS/8.0', 'E-TAG': 'IE=Edge,chrome=1', 'Date': 'Wed, 15 Apr 2020 01:56:42 GMT', 'Content-Length': '15852')>,\n",
       " <ClientResponse(https://solicitors.lawsociety.org.uk/person/99) [404 Not Found]>\n",
       " <CIMultiDictProxy('Server': 'Microsoft-IIS/8.0', 'Vary': '*', 'Cache-Control': 'public, no-cache=\"Set-Cookie\", max-age=3600', 'Content-Type': 'text/html; charset=utf-8', 'Date': 'Wed, 15 Apr 2020 01:56:36 GMT', 'Expires': 'Wed, 15 Apr 2020 02:56:36 GMT', 'E-TAG': 'IE=Edge,chrome=1', 'Set-Cookie': 'X-Mapping-fjhppofk=BE5EEB346F808C7FC927A221A84ADB03; path=/', 'Set-Cookie': 'ASP.NET_SessionId=dliu3km1jvi42zfu55ghiobn; path=/; HttpOnly', 'Last-Modified': 'Wed, 15 Apr 2020 01:56:36 GMT', 'Content-Length': '58668')>]"
      ]
     },
     "execution_count": 6,
     "metadata": {},
     "output_type": "execute_result"
    }
   ],
   "source": [
    "result_list"
   ]
  },
  {
   "cell_type": "code",
   "execution_count": 50,
   "metadata": {},
   "outputs": [],
   "source": [
    "data = [result.status for result in result_list]"
   ]
  },
  {
   "cell_type": "code",
   "execution_count": 51,
   "metadata": {},
   "outputs": [
    {
     "data": {
      "text/plain": [
       "[404, 404, 200, 404, 404, 200, 404, 200, 200, 200]"
      ]
     },
     "execution_count": 51,
     "metadata": {},
     "output_type": "execute_result"
    }
   ],
   "source": [
    "data"
   ]
  },
  {
   "cell_type": "code",
   "execution_count": 52,
   "metadata": {},
   "outputs": [
    {
     "data": {
      "text/html": [
       "<div>\n",
       "<style scoped>\n",
       "    .dataframe tbody tr th:only-of-type {\n",
       "        vertical-align: middle;\n",
       "    }\n",
       "\n",
       "    .dataframe tbody tr th {\n",
       "        vertical-align: top;\n",
       "    }\n",
       "\n",
       "    .dataframe thead th {\n",
       "        text-align: right;\n",
       "    }\n",
       "</style>\n",
       "<table border=\"1\" class=\"dataframe\">\n",
       "  <thead>\n",
       "    <tr style=\"text-align: right;\">\n",
       "      <th></th>\n",
       "      <th>status</th>\n",
       "    </tr>\n",
       "  </thead>\n",
       "  <tbody>\n",
       "    <tr>\n",
       "      <td>0</td>\n",
       "      <td>404</td>\n",
       "    </tr>\n",
       "    <tr>\n",
       "      <td>1</td>\n",
       "      <td>404</td>\n",
       "    </tr>\n",
       "    <tr>\n",
       "      <td>2</td>\n",
       "      <td>200</td>\n",
       "    </tr>\n",
       "    <tr>\n",
       "      <td>3</td>\n",
       "      <td>404</td>\n",
       "    </tr>\n",
       "    <tr>\n",
       "      <td>4</td>\n",
       "      <td>404</td>\n",
       "    </tr>\n",
       "    <tr>\n",
       "      <td>5</td>\n",
       "      <td>200</td>\n",
       "    </tr>\n",
       "    <tr>\n",
       "      <td>6</td>\n",
       "      <td>404</td>\n",
       "    </tr>\n",
       "    <tr>\n",
       "      <td>7</td>\n",
       "      <td>200</td>\n",
       "    </tr>\n",
       "    <tr>\n",
       "      <td>8</td>\n",
       "      <td>200</td>\n",
       "    </tr>\n",
       "    <tr>\n",
       "      <td>9</td>\n",
       "      <td>200</td>\n",
       "    </tr>\n",
       "  </tbody>\n",
       "</table>\n",
       "</div>"
      ],
      "text/plain": [
       "   status\n",
       "0     404\n",
       "1     404\n",
       "2     200\n",
       "3     404\n",
       "4     404\n",
       "5     200\n",
       "6     404\n",
       "7     200\n",
       "8     200\n",
       "9     200"
      ]
     },
     "execution_count": 52,
     "metadata": {},
     "output_type": "execute_result"
    }
   ],
   "source": [
    "pd.DataFrame(data, columns=['status'])"
   ]
  },
  {
   "cell_type": "code",
   "execution_count": 26,
   "metadata": {},
   "outputs": [
    {
     "name": "stdout",
     "output_type": "stream",
     "text": [
      "(0, 404)\n",
      "(1, 404)\n",
      "(2, 200)\n",
      "(3, 404)\n",
      "(4, 404)\n",
      "(5, 200)\n",
      "(6, 404)\n",
      "(7, 200)\n",
      "(8, 200)\n",
      "(9, 200)\n"
     ]
    }
   ],
   "source": [
    "for result in result_list:\n",
    "    print(result)"
   ]
  },
  {
   "cell_type": "code",
   "execution_count": 41,
   "metadata": {},
   "outputs": [
    {
     "name": "stdout",
     "output_type": "stream",
     "text": [
      "----------------------------------------------------------------------------------------------------------------------------------------------------------------------------------------------------------------------------------------------------------------------------------------------------------------------------------------------------------------------------------------------------------------------------------------------------------------------------------------------------------------------------------------------------------------------------------------------------------------------------------------------------------------------------------------------------------------------------------------------------------------------------------------------------------------------------------------------------------------------------------------------------------------------------------------------------------------------------------------------------------------------------------------"
     ]
    }
   ],
   "source": [
    "df_summary = pd.DataFrame()\n",
    "\n",
    "for index in range(3000, 4000):\n",
    "    \n",
    "    page = requests.get(\"https://solicitors.lawsociety.org.uk/person/\"+str(index))\n",
    "    data = {'index': index, 'status': page.status_code}\n",
    "    df_new = pd.DataFrame.from_records([data])\n",
    "    df_summary = df_summary.append(df_new) \n",
    "    print('-', end='')"
   ]
  },
  {
   "cell_type": "code",
   "execution_count": 42,
   "metadata": {},
   "outputs": [
    {
     "data": {
      "text/plain": [
       "200    529\n",
       "404    471\n",
       "Name: status, dtype: int64"
      ]
     },
     "execution_count": 42,
     "metadata": {},
     "output_type": "execute_result"
    }
   ],
   "source": [
    "df_summary.status.value_counts()"
   ]
  },
  {
   "cell_type": "code",
   "execution_count": 43,
   "metadata": {},
   "outputs": [],
   "source": [
    "df = df.append(df_summary)"
   ]
  },
  {
   "cell_type": "code",
   "execution_count": 45,
   "metadata": {},
   "outputs": [
    {
     "data": {
      "text/plain": [
       "200.0    2107\n",
       "404.0    1893\n",
       "Name: status, dtype: int64"
      ]
     },
     "execution_count": 45,
     "metadata": {},
     "output_type": "execute_result"
    }
   ],
   "source": [
    "df.status.value_counts()"
   ]
  },
  {
   "cell_type": "code",
   "execution_count": 33,
   "metadata": {},
   "outputs": [
    {
     "data": {
      "text/plain": [
       "'English'"
      ]
     },
     "execution_count": 33,
     "metadata": {},
     "output_type": "execute_result"
    }
   ],
   "source": [
    "soup.find('div', id='languages-spoken-accordion').get_text().strip()"
   ]
  },
  {
   "cell_type": "code",
   "execution_count": null,
   "metadata": {},
   "outputs": [],
   "source": []
  }
 ],
 "metadata": {
  "kernelspec": {
   "display_name": "Python 3",
   "language": "python",
   "name": "python3"
  },
  "language_info": {
   "codemirror_mode": {
    "name": "ipython",
    "version": 3
   },
   "file_extension": ".py",
   "mimetype": "text/x-python",
   "name": "python",
   "nbconvert_exporter": "python",
   "pygments_lexer": "ipython3",
   "version": "3.7.4"
  }
 },
 "nbformat": 4,
 "nbformat_minor": 2
}
